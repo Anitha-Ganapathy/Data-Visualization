{
  "cells": [
    {
      "cell_type": "markdown",
      "metadata": {
        "id": "SgJiu5yzFdCz"
      },
      "source": [
        "# Module 10: Logscale"
      ]
    },
    {
      "cell_type": "code",
      "execution_count": 1,
      "metadata": {
        "id": "NBIT7V1ZFdDE",
        "jupyter": {
          "outputs_hidden": false
        }
      },
      "outputs": [],
      "source": [
        "import matplotlib.pyplot as plt\n",
        "import pandas as pd\n",
        "import seaborn as sns\n",
        "import numpy as np\n",
        "import scipy.stats as ss\n",
        "import vega_datasets"
      ]
    },
    {
      "cell_type": "markdown",
      "metadata": {
        "id": "ajV9ZfvTFdDG"
      },
      "source": [
        "## Ratio and logarithm\n",
        "\n",
        "If you use linear scale to visualize ratios, it can be quite misleading.\n",
        "\n",
        "Let's first create some ratios."
      ]
    },
    {
      "cell_type": "code",
      "execution_count": 2,
      "metadata": {
        "id": "HVPIhx7pFdDG",
        "jupyter": {
          "outputs_hidden": false
        },
        "outputId": "29150136-06bf-49db-985c-70cc33f09a6b",
        "colab": {
          "base_uri": "https://localhost:8080/"
        }
      },
      "outputs": [
        {
          "output_type": "stream",
          "name": "stdout",
          "text": [
            "[1.e-03 1.e-02 1.e-01 1.e+00 1.e+01 1.e+02 1.e+03]\n"
          ]
        }
      ],
      "source": [
        "x = np.array([1,    1,   1,  1, 10, 100, 1000])\n",
        "y = np.array([1000, 100, 10, 1, 1,  1,   1   ])\n",
        "ratio = x/y\n",
        "print(ratio)"
      ]
    },
    {
      "cell_type": "markdown",
      "metadata": {
        "id": "a3WyTujgFdDL"
      },
      "source": [
        "**Q: Plot on the linear scale using the [`scatter()`](http://matplotlib.org/examples/shapes_and_collections/scatter_demo.html) function. Also draw a horizontal line at ratio=1 for a reference.**"
      ]
    },
    {
      "cell_type": "code",
      "source": [
        "X = np.arange(len(ratio))\n",
        "plt.scatter(X, ratio)\n",
        "plt.axhline(0, color='black', lw=0.5)\n",
        "plt.show()"
      ],
      "metadata": {
        "colab": {
          "base_uri": "https://localhost:8080/",
          "height": 265
        },
        "id": "0MVW8NKFOge7",
        "outputId": "bfeeb7c9-28cc-4898-8085-f0984a97bfd2"
      },
      "execution_count": 3,
      "outputs": [
        {
          "output_type": "display_data",
          "data": {
            "text/plain": [
              "<Figure size 432x288 with 1 Axes>"
            ],
            "image/png": "[encoded data removed]"
          },
          "metadata": {
            "needs_background": "light"
          }
        }
      ]
    },
    {
      "cell_type": "code",
      "execution_count": 4,
      "metadata": {
        "id": "BrSt3CqOFdDM",
        "jupyter": {
          "outputs_hidden": false
        }
      },
      "outputs": [],
      "source": [
        "X = np.arange(len(ratio))\n",
        "\n",
        "# Implement\n"
      ]
    },
    {
      "cell_type": "markdown",
      "metadata": {
        "id": "Nm1PVfZ1FdDN"
      },
      "source": [
        "**Q: Is this a good visualization of the ratio data? Why? Why not? Explain.**"
      ]
    },
    {
      "cell_type": "markdown",
      "source": [
        "This is not a proper representation of the ratios as 1/1000 ~ 1/100 ~ 1/10 is all approximated to 0 or we can say that they are all nearly 0.\n"
      ],
      "metadata": {
        "id": "6QR6wPb8FdDN"
      }
    },
    {
      "cell_type": "markdown",
      "metadata": {
        "id": "NX186nMlFdDO"
      },
      "source": [
        "**Q: Can you fix it?**"
      ]
    },
    {
      "cell_type": "markdown",
      "source": [
        "We can gix it by taking the log values of the ratios and representing the data on a log scale on the y axos"
      ],
      "metadata": {
        "id": "1RhMRKsMQJ14"
      }
    },
    {
      "cell_type": "code",
      "execution_count": 5,
      "metadata": {
        "id": "LloZA8HpFdDO",
        "jupyter": {
          "outputs_hidden": false
        },
        "colab": {
          "base_uri": "https://localhost:8080/",
          "height": 286
        },
        "outputId": "0d25a346-48df-42c4-8ebd-d46b869deeca"
      },
      "outputs": [
        {
          "output_type": "display_data",
          "data": {
            "text/plain": [
              "<Figure size 432x288 with 1 Axes>"
            ],
            "image/png": "[encoded data removed]"
          },
          "metadata": {
            "needs_background": "light"
          }
        }
      ],
      "source": [
        "# Implement\n",
        "X = np.arange(len(ratio))\n",
        "plt.scatter(X, np.log10(ratio))\n",
        "plt.axhline(0, color='black', lw=0.5)\n",
        "plt.title(\"Log scale representation of the ratios\", fontsize=20)\n",
        "plt.show()"
      ]
    },
    {
      "cell_type": "markdown",
      "metadata": {
        "id": "YLw4Lf56FdDO"
      },
      "source": [
        "## Log-binning\n",
        "\n",
        "Let's first see what happens if we do not use the log scale for a dataset with a heavy tail. \n",
        "\n",
        "**Q: Load the movie dataset from `vega_datasets` and remove the NaN rows based on the following three columns: `IMDB_Rating`, `IMDB_Votes`, `Rotten_Tomatoes_Rating`.**"
      ]
    },
    {
      "cell_type": "code",
      "execution_count": 6,
      "metadata": {
        "id": "PPhPxPDkFdDP",
        "colab": {
          "base_uri": "https://localhost:8080/",
          "height": 496
        },
        "outputId": "84035c2c-4b61-4e6a-8e9f-f6d9821bac9d"
      },
      "outputs": [
        {
          "output_type": "execute_result",
          "data": {
            "text/plain": [
              "                        Title   US_Gross  Worldwide_Gross  US_DVD_Sales  \\\n",
              "0              The Land Girls   146083.0         146083.0           NaN   \n",
              "1      First Love, Last Rites    10876.0          10876.0           NaN   \n",
              "2  I Married a Strange Person   203134.0         203134.0           NaN   \n",
              "3        Let's Talk About Sex   373615.0         373615.0           NaN   \n",
              "4                        Slam  1009819.0        1087521.0           NaN   \n",
              "\n",
              "   Production_Budget Release_Date MPAA_Rating  Running_Time_min Distributor  \\\n",
              "0          8000000.0  Jun 12 1998           R               NaN    Gramercy   \n",
              "1           300000.0  Aug 07 1998           R               NaN      Strand   \n",
              "2           250000.0  Aug 28 1998        None               NaN   Lionsgate   \n",
              "3           300000.0  Sep 11 1998        None               NaN   Fine Line   \n",
              "4          1000000.0  Oct 09 1998           R               NaN     Trimark   \n",
              "\n",
              "                Source Major_Genre         Creative_Type Director  \\\n",
              "0                 None        None                  None     None   \n",
              "1                 None       Drama                  None     None   \n",
              "2                 None      Comedy                  None     None   \n",
              "3                 None      Comedy                  None     None   \n",
              "4  Original Screenplay       Drama  Contemporary Fiction     None   \n",
              "\n",
              "   Rotten_Tomatoes_Rating  IMDB_Rating  IMDB_Votes  \n",
              "0                     NaN          6.1      1071.0  \n",
              "1                     NaN          6.9       207.0  \n",
              "2                     NaN          6.8       865.0  \n",
              "3                    13.0          NaN         NaN  \n",
              "4                    62.0          3.4       165.0  "
            ],
            "text/html": [
              "\n",
              "  <div id=\"df-d0ef23de-80ea-4d60-a4d0-22ff4ff7b9b7\">\n",
              "    <div class=\"colab-df-container\">\n",
              "      <div>\n",
              "<style scoped>\n",
              "    .dataframe tbody tr th:only-of-type {\n",
              "        vertical-align: middle;\n",
              "    }\n",
              "\n",
              "    .dataframe tbody tr th {\n",
              "        vertical-align: top;\n",
              "    }\n",
              "\n",
              "    .dataframe thead th {\n",
              "        text-align: right;\n",
              "    }\n",
              "</style>\n",
              "<table border=\"1\" class=\"dataframe\">\n",
              "  <thead>\n",
              "    <tr style=\"text-align: right;\">\n",
              "      <th></th>\n",
              "      <th>Title</th>\n",
              "      <th>US_Gross</th>\n",
              "      <th>Worldwide_Gross</th>\n",
              "      <th>US_DVD_Sales</th>\n",
              "      <th>Production_Budget</th>\n",
              "      <th>Release_Date</th>\n",
              "      <th>MPAA_Rating</th>\n",
              "      <th>Running_Time_min</th>\n",
              "      <th>Distributor</th>\n",
              "      <th>Source</th>\n",
              "      <th>Major_Genre</th>\n",
              "      <th>Creative_Type</th>\n",
              "      <th>Director</th>\n",
              "      <th>Rotten_Tomatoes_Rating</th>\n",
              "      <th>IMDB_Rating</th>\n",
              "      <th>IMDB_Votes</th>\n",
              "    </tr>\n",
              "  </thead>\n",
              "  <tbody>\n",
              "    <tr>\n",
              "      <th>0</th>\n",
              "      <td>The Land Girls</td>\n",
              "      <td>146083.0</td>\n",
              "      <td>146083.0</td>\n",
              "      <td>NaN</td>\n",
              "      <td>8000000.0</td>\n",
              "      <td>Jun 12 1998</td>\n",
              "      <td>R</td>\n",
              "      <td>NaN</td>\n",
              "      <td>Gramercy</td>\n",
              "      <td>None</td>\n",
              "      <td>None</td>\n",
              "      <td>None</td>\n",
              "      <td>None</td>\n",
              "      <td>NaN</td>\n",
              "      <td>6.1</td>\n",
              "      <td>1071.0</td>\n",
              "    </tr>\n",
              "    <tr>\n",
              "      <th>1</th>\n",
              "      <td>First Love, Last Rites</td>\n",
              "      <td>10876.0</td>\n",
              "      <td>10876.0</td>\n",
              "      <td>NaN</td>\n",
              "      <td>300000.0</td>\n",
              "      <td>Aug 07 1998</td>\n",
              "      <td>R</td>\n",
              "      <td>NaN</td>\n",
              "      <td>Strand</td>\n",
              "      <td>None</td>\n",
              "      <td>Drama</td>\n",
              "      <td>None</td>\n",
              "      <td>None</td>\n",
              "      <td>NaN</td>\n",
              "      <td>6.9</td>\n",
              "      <td>207.0</td>\n",
              "    </tr>\n",
              "    <tr>\n",
              "      <th>2</th>\n",
              "      <td>I Married a Strange Person</td>\n",
              "      <td>203134.0</td>\n",
              "      <td>203134.0</td>\n",
              "      <td>NaN</td>\n",
              "      <td>250000.0</td>\n",
              "      <td>Aug 28 1998</td>\n",
              "      <td>None</td>\n",
              "      <td>NaN</td>\n",
              "      <td>Lionsgate</td>\n",
              "      <td>None</td>\n",
              "      <td>Comedy</td>\n",
              "      <td>None</td>\n",
              "      <td>None</td>\n",
              "      <td>NaN</td>\n",
              "      <td>6.8</td>\n",
              "      <td>865.0</td>\n",
              "    </tr>\n",
              "    <tr>\n",
              "      <th>3</th>\n",
              "      <td>Let's Talk About Sex</td>\n",
              "      <td>373615.0</td>\n",
              "      <td>373615.0</td>\n",
              "      <td>NaN</td>\n",
              "      <td>300000.0</td>\n",
              "      <td>Sep 11 1998</td>\n",
              "      <td>None</td>\n",
              "      <td>NaN</td>\n",
              "      <td>Fine Line</td>\n",
              "      <td>None</td>\n",
              "      <td>Comedy</td>\n",
              "      <td>None</td>\n",
              "      <td>None</td>\n",
              "      <td>13.0</td>\n",
              "      <td>NaN</td>\n",
              "      <td>NaN</td>\n",
              "    </tr>\n",
              "    <tr>\n",
              "      <th>4</th>\n",
              "      <td>Slam</td>\n",
              "      <td>1009819.0</td>\n",
              "      <td>1087521.0</td>\n",
              "      <td>NaN</td>\n",
              "      <td>1000000.0</td>\n",
              "      <td>Oct 09 1998</td>\n",
              "      <td>R</td>\n",
              "      <td>NaN</td>\n",
              "      <td>Trimark</td>\n",
              "      <td>Original Screenplay</td>\n",
              "      <td>Drama</td>\n",
              "      <td>Contemporary Fiction</td>\n",
              "      <td>None</td>\n",
              "      <td>62.0</td>\n",
              "      <td>3.4</td>\n",
              "      <td>165.0</td>\n",
              "    </tr>\n",
              "  </tbody>\n",
              "</table>\n",
              "</div>\n",
              "      <button class=\"colab-df-convert\" onclick=\"convertToInteractive('df-d0ef23de-80ea-4d60-a4d0-22ff4ff7b9b7')\"\n",
              "              title=\"Convert this dataframe to an interactive table.\"\n",
              "              style=\"display:none;\">\n",
              "        \n",
              "  <svg xmlns=\"http://www.w3.org/2000/svg\" height=\"24px\"viewBox=\"0 0 24 24\"\n",
              "       width=\"24px\">\n",
              "    <path d=\"M0 0h24v24H0V0z\" fill=\"none\"/>\n",
              "    <path d=\"M18.56 5.44l.94 2.06.94-2.06 2.06-.94-2.06-.94-.94-2.06-.94 2.06-2.06.94zm-11 1L8.5 8.5l.94-2.06 2.06-.94-2.06-.94L8.5 2.5l-.94 2.06-2.06.94zm10 10l.94 2.06.94-2.06 2.06-.94-2.06-.94-.94-2.06-.94 2.06-2.06.94z\"/><path d=\"M17.41 7.96l-1.37-1.37c-.4-.4-.92-.59-1.43-.59-.52 0-1.04.2-1.43.59L10.3 9.45l-7.72 7.72c-.78.78-.78 2.05 0 2.83L4 21.41c.39.39.9.59 1.41.59.51 0 1.02-.2 1.41-.59l7.78-7.78 2.81-2.81c.8-.78.8-2.07 0-2.86zM5.41 20L4 18.59l7.72-7.72 1.47 1.35L5.41 20z\"/>\n",
              "  </svg>\n",
              "      </button>\n",
              "      \n",
              "  <style>\n",
              "    .colab-df-container {\n",
              "      display:flex;\n",
              "      flex-wrap:wrap;\n",
              "      gap: 12px;\n",
              "    }\n",
              "\n",
              "    .colab-df-convert {\n",
              "      background-color: #E8F0FE;\n",
              "      border: none;\n",
              "      border-radius: 50%;\n",
              "      cursor: pointer;\n",
              "      display: none;\n",
              "      fill: #1967D2;\n",
              "      height: 32px;\n",
              "      padding: 0 0 0 0;\n",
              "      width: 32px;\n",
              "    }\n",
              "\n",
              "    .colab-df-convert:hover {\n",
              "      background-color: #E2EBFA;\n",
              "      box-shadow: 0px 1px 2px rgba(60, 64, 67, 0.3), 0px 1px 3px 1px rgba(60, 64, 67, 0.15);\n",
              "      fill: #174EA6;\n",
              "    }\n",
              "\n",
              "    [theme=dark] .colab-df-convert {\n",
              "      background-color: #3B4455;\n",
              "      fill: #D2E3FC;\n",
              "    }\n",
              "\n",
              "    [theme=dark] .colab-df-convert:hover {\n",
              "      background-color: #434B5C;\n",
              "      box-shadow: 0px 1px 3px 1px rgba(0, 0, 0, 0.15);\n",
              "      filter: drop-shadow(0px 1px 2px rgba(0, 0, 0, 0.3));\n",
              "      fill: #FFFFFF;\n",
              "    }\n",
              "  </style>\n",
              "\n",
              "      <script>\n",
              "        const buttonEl =\n",
              "          document.querySelector('#df-d0ef23de-80ea-4d60-a4d0-22ff4ff7b9b7 button.colab-df-convert');\n",
              "        buttonEl.style.display =\n",
              "          google.colab.kernel.accessAllowed ? 'block' : 'none';\n",
              "\n",
              "        async function convertToInteractive(key) {\n",
              "          const element = document.querySelector('#df-d0ef23de-80ea-4d60-a4d0-22ff4ff7b9b7');\n",
              "          const dataTable =\n",
              "            await google.colab.kernel.invokeFunction('convertToInteractive',\n",
              "                                                     [key], {});\n",
              "          if (!dataTable) return;\n",
              "\n",
              "          const docLinkHtml = 'Like what you see? Visit the ' +\n",
              "            '<a target=\"_blank\" href=https://colab.research.google.com/notebooks/data_table.ipynb>data table notebook</a>'\n",
              "            + ' to learn more about interactive tables.';\n",
              "          element.innerHTML = '';\n",
              "          dataTable['output_type'] = 'display_data';\n",
              "          await google.colab.output.renderOutput(dataTable, element);\n",
              "          const docLink = document.createElement('div');\n",
              "          docLink.innerHTML = docLinkHtml;\n",
              "          element.appendChild(docLink);\n",
              "        }\n",
              "      </script>\n",
              "    </div>\n",
              "  </div>\n",
              "  "
            ]
          },
          "metadata": {},
          "execution_count": 6
        }
      ],
      "source": [
        "# TODO: Implement the functionality mentioned above \n",
        "# The following code is just a dummy. You should load the correct dataset from vega_datasets package. \n",
        "# movies = pd.DataFrame({\"Worldwide_Gross\": np.random.sample(200), \"IMDB_Rating\": np.random.sample(200)})\n",
        "\n",
        "import vega_datasets\n",
        "\n",
        "movies = vega_datasets.data.movies()\n",
        "movies.head()"
      ]
    },
    {
      "cell_type": "markdown",
      "metadata": {
        "id": "yFKbNLzIFdDP"
      },
      "source": [
        "If you simply call `hist()` method with a dataframe object, it identifies all the numeric columns and draw a histogram for each. \n",
        "\n",
        "**Q: draw all possible histograms of the movie dataframe. Adjust the size of the plots if needed.**"
      ]
    },
    {
      "cell_type": "code",
      "source": [
        "import warnings\n",
        "warnings.filterwarnings(\"ignore\")"
      ],
      "metadata": {
        "id": "JQT1S6xfSE_p"
      },
      "execution_count": 7,
      "outputs": []
    },
    {
      "cell_type": "code",
      "source": [
        "fig, ax = plt.subplots(figsize= (15,8))\n",
        "movies = movies.reindex(sorted(movies.columns), axis=1)\n",
        "movies.hist(ax = ax)\n",
        "plt.show()"
      ],
      "metadata": {
        "colab": {
          "base_uri": "https://localhost:8080/",
          "height": 512
        },
        "id": "IYmKlAq-RAgt",
        "outputId": "61759e26-2125-4f03-d120-3e914c79fb1f"
      },
      "execution_count": 8,
      "outputs": [
        {
          "output_type": "display_data",
          "data": {
            "text/plain": [
              "<Figure size 1080x576 with 9 Axes>"
            ],
            "image/png": "[encoded data removed]"
          },
          "metadata": {
            "needs_background": "light"
          }
        }
      ]
    },
    {
      "cell_type": "markdown",
      "metadata": {
        "id": "ndkDy0fcFdDQ"
      },
      "source": [
        "As we can see, a majority of the columns are not normally distributed. In particular, if you look at the worldwide gross variable, you only see a couple of meaningful data from the histogram. Is this a problem of resolution? How about increasing the number of bins?"
      ]
    },
    {
      "cell_type": "code",
      "execution_count": 9,
      "metadata": {
        "id": "78aPqskwFdDQ",
        "outputId": "82ba363a-9988-4b56-df62-b34414e68200",
        "colab": {
          "base_uri": "https://localhost:8080/",
          "height": 301
        }
      },
      "outputs": [
        {
          "output_type": "execute_result",
          "data": {
            "text/plain": [
              "(0.0, 800.0)"
            ]
          },
          "metadata": {},
          "execution_count": 9
        },
        {
          "output_type": "display_data",
          "data": {
            "text/plain": [
              "<Figure size 432x288 with 1 Axes>"
            ],
            "image/png": "[encoded data removed]"
          },
          "metadata": {
            "needs_background": "light"
          }
        }
      ],
      "source": [
        "ax = movies[\"Worldwide_Gross\"].hist(bins=200)\n",
        "ax.set_xlabel(\"World wide gross\")\n",
        "ax.set_ylabel(\"Frequency\")\n",
        "ax.set_ylim([0, 800])"
      ]
    },
    {
      "cell_type": "markdown",
      "metadata": {
        "id": "hBwec0zvFdDQ"
      },
      "source": [
        "Maybe a bit more useful, but it doesn't tell anything about the data distribution above certain point. How about changing the vertical scale to logarithmic scale?"
      ]
    },
    {
      "cell_type": "code",
      "execution_count": 10,
      "metadata": {
        "id": "h2FpYMdrFdDR",
        "outputId": "6142b6c2-6c3d-4e42-b6ae-46a553f5602b",
        "colab": {
          "base_uri": "https://localhost:8080/",
          "height": 297
        }
      },
      "outputs": [
        {
          "output_type": "execute_result",
          "data": {
            "text/plain": [
              "Text(0, 0.5, 'Frequency')"
            ]
          },
          "metadata": {},
          "execution_count": 10
        },
        {
          "output_type": "display_data",
          "data": {
            "text/plain": [
              "<Figure size 432x288 with 1 Axes>"
            ],
            "image/png": "[encoded data removed]"
          },
          "metadata": {
            "needs_background": "light"
          }
        }
      ],
      "source": [
        "ax = movies[\"Worldwide_Gross\"].hist(bins=200)\n",
        "ax.set_yscale('log')\n",
        "ax.set_xlabel(\"World wide gross\")\n",
        "ax.set_ylabel(\"Frequency\")"
      ]
    },
    {
      "cell_type": "markdown",
      "metadata": {
        "id": "zxUO951uFdDR"
      },
      "source": [
        "Now, let's try log-bin. Recall that when plotting histgrams we can specify the edges of bins through the `bins` parameter. For example, we can specify the edges of bins to [1, 2, 3, ... , 10] as follows.\n"
      ]
    },
    {
      "cell_type": "code",
      "execution_count": 11,
      "metadata": {
        "id": "ev0LG9AgFdDR",
        "jupyter": {
          "outputs_hidden": false
        },
        "outputId": "14fc9175-9404-4190-abeb-d43b62260853",
        "colab": {
          "base_uri": "https://localhost:8080/",
          "height": 283
        }
      },
      "outputs": [
        {
          "output_type": "execute_result",
          "data": {
            "text/plain": [
              "<matplotlib.axes._subplots.AxesSubplot at 0x7f90ee460590>"
            ]
          },
          "metadata": {},
          "execution_count": 11
        },
        {
          "output_type": "display_data",
          "data": {
            "text/plain": [
              "<Figure size 432x288 with 1 Axes>"
            ],
            "image/png": "[encoded data removed]"
          },
          "metadata": {
            "needs_background": "light"
          }
        }
      ],
      "source": [
        "movies[\"IMDB_Rating\"].hist(bins=range(0,11))"
      ]
    },
    {
      "cell_type": "markdown",
      "metadata": {
        "id": "yqGdymRVFdDS"
      },
      "source": [
        "Here, we can specify the edges of bins in a similar way. Instead of specifying on the linear scale, we do it on the log space. Some useful resources:\n",
        "\n",
        "* [Google query: python log-bin](https://www.google.com/webhp?sourceid=chrome-instant&ion=1&espv=2&ie=UTF-8#q=python+log-bin&pws=0)\n",
        "* [numpy.logspace](http://docs.scipy.org/doc/numpy/reference/generated/numpy.logspace.html)\n",
        "* [numpy.linspace vs numpy.logspace](http://stackoverflow.com/questions/31480033/difference-in-output-between-numpy-linspace-and-numpy-logspace)\n",
        "\n",
        "Hint: since $10^{\\text{start}} = \\text{min(Worldwide_Gross)}$, $\\text{start} = \\log_{10}(\\text{min(Worldwide_Gross)})$"
      ]
    },
    {
      "cell_type": "code",
      "execution_count": 12,
      "metadata": {
        "id": "DhrElVC1FdDS",
        "outputId": "071a59c6-a56f-4f83-b747-b8522b4fe5c3",
        "colab": {
          "base_uri": "https://localhost:8080/"
        }
      },
      "outputs": [
        {
          "output_type": "execute_result",
          "data": {
            "text/plain": [
              "0.0"
            ]
          },
          "metadata": {},
          "execution_count": 12
        }
      ],
      "source": [
        "min(movies[\"Worldwide_Gross\"])"
      ]
    },
    {
      "cell_type": "markdown",
      "metadata": {
        "id": "syjfeVu4FdDS"
      },
      "source": [
        "Because there seems to be movie(s) that made $0, and because log(0) is undefined & log(1) = 0, let's add 1 to the variable.  "
      ]
    },
    {
      "cell_type": "code",
      "execution_count": 13,
      "metadata": {
        "id": "ENVL7YZrFdDT"
      },
      "outputs": [],
      "source": [
        "movies[\"Worldwide_Gross\"] = movies[\"Worldwide_Gross\"]+1.0"
      ]
    },
    {
      "cell_type": "code",
      "source": [
        "start, stop = np.log10(min(movies[\"Worldwide_Gross\"])) , np.log10(max(movies[\"Worldwide_Gross\"]))\n",
        "start, stop"
      ],
      "metadata": {
        "colab": {
          "base_uri": "https://localhost:8080/"
        },
        "id": "zP7hQnNVTqBV",
        "outputId": "d1e2692b-0745-403a-ea99-9bbe4057f1ae"
      },
      "execution_count": 14,
      "outputs": [
        {
          "output_type": "execute_result",
          "data": {
            "text/plain": [
              "(0.0, 9.442149061986008)"
            ]
          },
          "metadata": {},
          "execution_count": 14
        }
      ]
    },
    {
      "cell_type": "code",
      "execution_count": 15,
      "metadata": {
        "id": "OjHiC3_-FdDT",
        "outputId": "7b54f0d1-abdd-49fa-f38c-a0b4a71182b0",
        "colab": {
          "base_uri": "https://localhost:8080/"
        }
      },
      "outputs": [
        {
          "output_type": "execute_result",
          "data": {
            "text/plain": [
              "array([1.00000000e+00, 3.14018485e+00, 9.86076088e+00, 3.09646119e+01,\n",
              "       9.72346052e+01, 3.05334634e+02, 9.58807191e+02, 3.01083182e+03,\n",
              "       9.45456845e+03, 2.96890926e+04, 9.32292387e+04, 2.92757043e+05,\n",
              "       9.19311230e+05, 2.88680720e+06, 9.06510822e+06, 2.84661155e+07,\n",
              "       8.93888645e+07, 2.80697558e+08, 8.81442219e+08, 2.76789150e+09])"
            ]
          },
          "metadata": {},
          "execution_count": 15
        }
      ],
      "source": [
        "# TODO: Replace the dummy value of bins using np.logspace.  \n",
        "# Create 20 bins that cover the whole range of the dataset. \n",
        "bins = np.logspace(start, stop, num=20)\n",
        "bins"
      ]
    },
    {
      "cell_type": "markdown",
      "metadata": {
        "id": "2MoKtVlnFdDT"
      },
      "source": [
        "Now we can plot a histgram with log-bin. Set both axis to be log-scale. "
      ]
    },
    {
      "cell_type": "code",
      "source": [
        "# total = (movies[\"Worldwide_Gross\"]+1.0).sum()\n",
        "# np.log10((movies[\"Worldwide_Gross\"]+1.0)/ total)\n",
        "# # np.array(np.log10(movies[\"Worldwide_Gross\"]+1.0).value_counts())[:50]"
      ],
      "metadata": {
        "id": "WTh-0136WZXY"
      },
      "execution_count": 16,
      "outputs": []
    },
    {
      "cell_type": "code",
      "execution_count": 17,
      "metadata": {
        "id": "TemQE6UBFdDU",
        "jupyter": {
          "outputs_hidden": false
        },
        "outputId": "17aaeebd-0a02-4b4a-9ad8-642691c68869",
        "colab": {
          "base_uri": "https://localhost:8080/",
          "height": 287
        }
      },
      "outputs": [
        {
          "output_type": "display_data",
          "data": {
            "text/plain": [
              "<Figure size 432x288 with 1 Axes>"
            ],
            "image/png": "[encoded data removed]"
          },
          "metadata": {
            "needs_background": "light"
          }
        }
      ],
      "source": [
        "ax = (movies[\"Worldwide_Gross\"]+1.0).hist(bins=bins)\n",
        "ax.set_yscale('log')\n",
        "ax.set_xscale('log')\n",
        "ax.set_xlabel(\"World wide gross\")\n",
        "ax.set_ylabel(\"Frequency\")\n",
        "plt.show()"
      ]
    },
    {
      "cell_type": "markdown",
      "metadata": {
        "id": "pJZ-2b3sFdDU"
      },
      "source": [
        "What is going on? Is this the right plot?\n",
        "\n",
        "**Q: explain and fix**\n",
        "\n",
        "In Histogram the  area of the rectangle is proportional to its frequency and not the length"
      ]
    },
    {
      "cell_type": "code",
      "execution_count": 18,
      "metadata": {
        "id": "sUp01d71FdDU",
        "jupyter": {
          "outputs_hidden": false
        },
        "outputId": "6a6e3af1-d446-489c-d2de-20f273b443cd",
        "colab": {
          "base_uri": "https://localhost:8080/",
          "height": 283
        }
      },
      "outputs": [
        {
          "output_type": "display_data",
          "data": {
            "text/plain": [
              "<Figure size 432x288 with 1 Axes>"
            ],
            "image/png": "[encoded data removed]"
          },
          "metadata": {
            "needs_background": "light"
          }
        }
      ],
      "source": [
        "ax = (movies[\"Worldwide_Gross\"]+1.0).hist(bins=bins, density=True)\n",
        "ax.set_yscale('log')\n",
        "ax.set_xscale('log')\n",
        "ax.set_xlabel(\"World wide gross\")\n",
        "ax.set_ylabel(\"Probability Density (PDF)\")\n",
        "plt.show()"
      ]
    },
    {
      "cell_type": "markdown",
      "metadata": {
        "id": "IqrM7ufNFdDU"
      },
      "source": [
        "**Q: Can you explain the plot? Why are there gaps?**"
      ]
    },
    {
      "cell_type": "markdown",
      "source": [
        "IN the log scale, the ratios is plotted against the total world wide gross and by doing so the values are narrowed so the movies with less gross income are very few to null. Hence the gap"
      ],
      "metadata": {
        "id": "bqFunZ08FdDV"
      }
    },
    {
      "cell_type": "markdown",
      "metadata": {
        "id": "2w70ZBBFFdDV"
      },
      "source": [
        "## CCDF\n",
        "\n",
        "CCDF is a nice alternative to examine distributions with heavy tails. The idea is same as CDF, but the direction of aggregation is opposite. For a given value x, CCDF(x) is the number (fraction) of data points that are same or larger than x. To write code to draw CCDF, it'll be helpful to draw it by hand by using a very small, toy dataset. Draw it by hand and then think about how each point in the CCDF plot can be computed. \n",
        "\n",
        "**Q: Draw a CCDF of worldwide gross data in log-log scale**"
      ]
    },
    {
      "cell_type": "code",
      "source": [
        "N = 100\n",
        "import matplotlib\n",
        "values = movies[\"Worldwide_Gross\"]+1.0\n",
        "Y = range(len(values))\n",
        "# Y = range(N)\n",
        "# values = values.sample(N) \n",
        "cdf = values.cumsum() / values.sum()\n",
        "ccdf = 1 - cdf\n",
        "\n",
        "fig, ax = plt.subplots(ncols=1, figsize=(6, 4))\n",
        "# ax1.plot(cdf, Y, label='cdf')\n",
        "ax.plot(ccdf, Y , label='ccdf')\n",
        "ax.set_yscale('log')\n",
        "ax.set_xscale('log')\n",
        "ax.set_xlabel(\"World wide gross\")\n",
        "ax.set_ylabel(\"CCDF\")\n",
        "ax.legend()\n",
        "plt.title(\"CCDF of Worldwide_Gross data\", fontsize = 20)\n",
        "plt.show()"
      ],
      "metadata": {
        "colab": {
          "base_uri": "https://localhost:8080/",
          "height": 304
        },
        "id": "WkjEbLGEbNsB",
        "outputId": "2a6567f7-44cb-4cb7-fcd5-8c93e35246c6"
      },
      "execution_count": 19,
      "outputs": [
        {
          "output_type": "display_data",
          "data": {
            "text/plain": [
              "<Figure size 432x288 with 1 Axes>"
            ],
            "image/png": "[encoded data removed]"
          },
          "metadata": {
            "needs_background": "light"
          }
        }
      ]
    },
    {
      "cell_type": "code",
      "execution_count": 20,
      "metadata": {
        "id": "bjgKDyA4FdDV"
      },
      "outputs": [],
      "source": [
        "# TODO: Implement functionality mentioned above\n",
        "# You must replace the dummy values with the correct code. \n",
        "worldgross_sorted = np.random.sample(200)\n",
        "Y = np.random.sample(200)"
      ]
    },
    {
      "cell_type": "markdown",
      "metadata": {
        "id": "ODq6ng4nFdDV"
      },
      "source": [
        "We can also try in semilog scale (only one axis is in a log-scale), where the horizontal axis is linear. "
      ]
    },
    {
      "cell_type": "code",
      "source": [
        "values = movies[\"Worldwide_Gross\"]+1.0\n",
        "Y = range(len(values))\n",
        "\n",
        "cdf = values.cumsum() / values.sum()\n",
        "ccdf = 1 - cdf\n",
        "\n",
        "fig, ax = plt.subplots(ncols=1, figsize=(6, 4))\n",
        "\n",
        "ax.plot(np.sort(values)[::-1],Y , label='ccdf')\n",
        "ax.set_yscale('log')\n",
        "ax.set_xscale('linear')\n",
        "ax.set_xlabel(\"World wide gross\")\n",
        "ax.set_ylabel(\"CCDF\")\n",
        "ax.legend()\n",
        "plt.title(\"Semilog scale- Worldwide_Gross\", fontsize = 20)\n",
        "plt.show()"
      ],
      "metadata": {
        "colab": {
          "base_uri": "https://localhost:8080/",
          "height": 300
        },
        "id": "wWB2YCLwd7ad",
        "outputId": "807881fd-50ee-4fa9-e070-a35d3cabcc12"
      },
      "execution_count": 21,
      "outputs": [
        {
          "output_type": "display_data",
          "data": {
            "text/plain": [
              "<Figure size 432x288 with 1 Axes>"
            ],
            "image/png": "[encoded data removed]"
          },
          "metadata": {
            "needs_background": "light"
          }
        }
      ]
    },
    {
      "cell_type": "code",
      "execution_count": 24,
      "metadata": {
        "id": "IWO1Rr3QFdDW"
      },
      "outputs": [],
      "source": [
        "# plt.xlabel(\"World wide gross\")\n",
        "# plt.ylabel(\"CCDF\")\n",
        "# plt.plot(worldgross_sorted,Y)\n",
        "# plt.yscale('log')"
      ]
    },
    {
      "cell_type": "markdown",
      "metadata": {
        "id": "KsJNpR2iFdDW"
      },
      "source": [
        "A straight line in semilog scale means exponential decay (cf. a straight line in log-log scale means power-law decay). So it seems like the amount of money a movie makes across the world follows *roughly* an exponential distribution, while there are some outliers that make insane amount of money. \n",
        "\n",
        "**Q: Which is the most successful movie in our dataset?**\n",
        "\n",
        "You can use the following\n",
        "\n",
        "- `idxmax()`: https://pandas.pydata.org/pandas-docs/stable/generated/pandas.DataFrame.idxmax.html\n",
        "- `loc`: https://pandas.pydata.org/pandas-docs/stable/generated/pandas.DataFrame.loc.html"
      ]
    },
    {
      "cell_type": "code",
      "source": [
        "movies = vega_datasets.data.movies()\n",
        "movies.loc[movies['Worldwide_Gross'].idxmax()]"
      ],
      "metadata": {
        "colab": {
          "base_uri": "https://localhost:8080/"
        },
        "id": "VNOoyEjqlAEL",
        "outputId": "217f5ae7-8281-469a-f5ef-88be2b023aad"
      },
      "execution_count": 26,
      "outputs": [
        {
          "output_type": "execute_result",
          "data": {
            "text/plain": [
              "Title                                  Avatar\n",
              "US_Gross                          760167650.0\n",
              "Worldwide_Gross                  2767891499.0\n",
              "US_DVD_Sales                      146153933.0\n",
              "Production_Budget                 237000000.0\n",
              "Release_Date                      Dec 18 2009\n",
              "MPAA_Rating                             PG-13\n",
              "Running_Time_min                          NaN\n",
              "Distributor                  20th Century Fox\n",
              "Source                    Original Screenplay\n",
              "Major_Genre                            Action\n",
              "Creative_Type                 Science Fiction\n",
              "Director                        James Cameron\n",
              "Rotten_Tomatoes_Rating                   83.0\n",
              "IMDB_Rating                               8.3\n",
              "IMDB_Votes                           261439.0\n",
              "Name: 1234, dtype: object"
            ]
          },
          "metadata": {},
          "execution_count": 26
        }
      ]
    },
    {
      "cell_type": "markdown",
      "metadata": {
        "id": "kWvmFSd-fN20"
      },
      "source": [
        "## Convert the notebook to HTML"
      ]
    },
    {
      "cell_type": "code",
      "metadata": {
        "id": "Eg7d80bnfQ8-",
        "colab": {
          "base_uri": "https://localhost:8080/"
        },
        "outputId": "e0de5fec-5dfe-400a-a2ed-e72874a88aa7"
      },
      "source": [
        "%%shell\n",
        "# jupyter nbconvert --to html /content/m10_lab_Ganapathy_Anitha.ipynb"
      ],
      "execution_count": 28,
      "outputs": [
        {
          "output_type": "execute_result",
          "data": {
            "text/plain": [
              ""
            ]
          },
          "metadata": {},
          "execution_count": 28
        }
      ]
    }
  ],
  "metadata": {
    "anaconda-cloud": {},
    "colab": {
      "collapsed_sections": [],
      "name": "m10_lab_Ganapathy_Anitha.ipynb",
      "provenance": []
    },
    "kernel_info": {
      "name": "python3"
    },
    "kernelspec": {
      "display_name": "dviz",
      "language": "python",
      "name": "dviz"
    },
    "language_info": {
      "codemirror_mode": {
        "name": "ipython",
        "version": 3
      },
      "file_extension": ".py",
      "mimetype": "text/x-python",
      "name": "python",
      "nbconvert_exporter": "python",
      "pygments_lexer": "ipython3",
      "version": "3.7.7"
    },
    "nteract": {
      "version": "0.23.3"
    }
  },
  "nbformat": 4,
  "nbformat_minor": 0
}
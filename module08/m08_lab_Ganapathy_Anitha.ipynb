{
  "nbformat": 4,
  "nbformat_minor": 0,
  "metadata": {
    "anaconda-cloud": {},
    "kernel_info": {
      "name": "dviz"
    },
    "kernelspec": {
      "display_name": "dviz",
      "language": "python",
      "name": "dviz"
    },
    "language_info": {
      "codemirror_mode": {
        "name": "ipython",
        "version": 3
      },
      "file_extension": ".py",
      "mimetype": "text/x-python",
      "name": "python",
      "nbconvert_exporter": "python",
      "pygments_lexer": "ipython3",
      "version": "3.7.7"
    },
    "nteract": {
      "version": "0.23.3"
    },
    "toc": {
      "nav_menu": {},
      "number_sections": true,
      "sideBar": true,
      "skip_h1_title": false,
      "title_cell": "Table of Contents",
      "title_sidebar": "Contents",
      "toc_cell": false,
      "toc_position": {},
      "toc_section_display": true,
      "toc_window_display": false
    },
    "colab": {
      "name": "m08_lab_Ganapathy_Anitha.ipynb",
      "provenance": [],
      "collapsed_sections": []
    }
  },
  "cells": [
    {
      "cell_type": "markdown",
      "source": [
        "# Module 8: Histogram and CDF\n",
        "\n",
        "A deep dive into Histogram and boxplot."
      ],
      "metadata": {
        "id": "uJaeks6I_G-4"
      }
    },
    {
      "cell_type": "code",
      "execution_count": 1,
      "source": [
        "import matplotlib.pyplot as plt\n",
        "import numpy as np\n",
        "import seaborn as sns\n",
        "import altair as alt\n",
        "import pandas as pd"
      ],
      "outputs": [],
      "metadata": {
        "id": "a7PXB9c9_G-5"
      }
    },
    {
      "cell_type": "code",
      "execution_count": 2,
      "source": [
        "import matplotlib\n",
        "matplotlib.__version__"
      ],
      "outputs": [
        {
          "output_type": "execute_result",
          "data": {
            "text/plain": [
              "'3.2.2'"
            ],
            "application/vnd.google.colaboratory.intrinsic+json": {
              "type": "string"
            }
          },
          "metadata": {},
          "execution_count": 2
        }
      ],
      "metadata": {
        "jupyter": {
          "outputs_hidden": false
        },
        "id": "b05OkVl0_G-6",
        "outputId": "a3204ad5-fbf4-4fd5-b40f-4ca8e3065e8e",
        "colab": {
          "base_uri": "https://localhost:8080/",
          "height": 36
        }
      }
    },
    {
      "cell_type": "markdown",
      "source": [
        "## The tricky histogram with pre-counted data"
      ],
      "metadata": {
        "id": "8_bJgIa-_G-7"
      }
    },
    {
      "cell_type": "markdown",
      "source": [
        "Let's revisit the table from the class\n",
        "\n",
        "| Hours | Frequency |\n",
        "|-------|-----------|\n",
        "| 0-1   | 4,300     |\n",
        "| 1-3   | 6,900     |\n",
        "| 3-5   | 4,900     |\n",
        "| 5-10  | 2,000     |\n",
        "| 10-24 | 2,100     |"
      ],
      "metadata": {
        "id": "BlKijZi6_G-7"
      }
    },
    {
      "cell_type": "markdown",
      "source": [
        "You can draw a histogram by just providing bins and counts instead of a list of numbers. So, let's try that. "
      ],
      "metadata": {
        "id": "TRqvntvf_G-8"
      }
    },
    {
      "cell_type": "code",
      "execution_count": 28,
      "source": [
        "bins = [0, 1, 3, 5, 10, 24]\n",
        "data = {0.5: 4300, 2: 6900, 4: 4900, 7: 2000, 15: 2100} "
      ],
      "outputs": [],
      "metadata": {
        "id": "QZ4VOzrB_G-8"
      }
    },
    {
      "cell_type": "code",
      "execution_count": 29,
      "source": [
        "data.keys()"
      ],
      "outputs": [
        {
          "output_type": "execute_result",
          "data": {
            "text/plain": [
              "dict_keys([0.5, 2, 4, 7, 15])"
            ]
          },
          "metadata": {},
          "execution_count": 29
        }
      ],
      "metadata": {
        "jupyter": {
          "outputs_hidden": false
        },
        "id": "7gP0hDx8_G-8",
        "outputId": "2a1ae70c-9e3a-48ba-cd2b-a86630680c9c",
        "colab": {
          "base_uri": "https://localhost:8080/"
        }
      }
    },
    {
      "cell_type": "markdown",
      "source": [
        "**Q: Draw histogram using this data.** Useful query: [Google search: matplotlib histogram pre-counted](https://www.google.com/search?client=safari&rls=en&q=matplotlib+histogram+already+counted&ie=UTF-8&oe=UTF-8#q=matplotlib+histogram+pre-counted)"
      ],
      "metadata": {
        "id": "29jcxJhc_G-9"
      }
    },
    {
      "cell_type": "code",
      "execution_count": 35,
      "source": [
        "# TODO: draw a histogram with weighted data. \n",
        "\n",
        "x = list(data.keys())\n",
        "y = list(data.values())\n",
        "\n",
        "plt.hist(x, weights= y, bins = bins)\n",
        "plt.xlabel('Hours')\n",
        "plt.ylabel('Frequency')\n",
        "plt.show()"
      ],
      "outputs": [
        {
          "output_type": "display_data",
          "data": {
            "text/plain": [
              "<Figure size 432x288 with 1 Axes>"
            ],
            "image/png": "[encoded data removed]"
          },
          "metadata": {
            "needs_background": "light"
          }
        }
      ],
      "metadata": {
        "jupyter": {
          "outputs_hidden": false
        },
        "id": "QVvYy95b_G-9",
        "outputId": "34d637a6-091d-4ff0-8e54-48735b12e0c5",
        "colab": {
          "base_uri": "https://localhost:8080/",
          "height": 279
        }
      }
    },
    {
      "cell_type": "markdown",
      "source": [
        "As you can see, the **default histogram does not normalize with binwidth and simply shows the counts**! This can be very misleading if you are working with variable bin width (e.g. logarithmic bins). So please be mindful about histograms when you work with variable bins. \n",
        "\n",
        "**Q: You can fix this by using the `density` option.**"
      ],
      "metadata": {
        "id": "4upYTxA__G--"
      }
    },
    {
      "cell_type": "code",
      "execution_count": 36,
      "source": [
        "# TODO: fix it with density option. \n",
        "\n",
        "\n",
        "x = list(data.keys())\n",
        "y = list(data.values())\n",
        "\n",
        "plt.hist(x, weights= y, bins = bins, density= True)\n",
        "plt.xlabel('Hours')\n",
        "plt.ylabel('Density')\n",
        "plt.show()"
      ],
      "outputs": [
        {
          "output_type": "display_data",
          "data": {
            "text/plain": [
              "<Figure size 432x288 with 1 Axes>"
            ],
            "image/png": "[encoded data removed]"
          },
          "metadata": {
            "needs_background": "light"
          }
        }
      ],
      "metadata": {
        "jupyter": {
          "outputs_hidden": false
        },
        "id": "scqFe0gC_G-_",
        "outputId": "fe6684bf-99ef-4646-b4d4-d3c4b8ffcc7b",
        "colab": {
          "base_uri": "https://localhost:8080/",
          "height": 279
        }
      }
    },
    {
      "cell_type": "markdown",
      "source": [
        "## Let's use an actual dataset"
      ],
      "metadata": {
        "id": "Y4vQlcG2_G-_"
      }
    },
    {
      "cell_type": "code",
      "execution_count": 86,
      "source": [
        "import vega_datasets"
      ],
      "outputs": [],
      "metadata": {
        "id": "nTs4tXrh_G_A"
      }
    },
    {
      "cell_type": "code",
      "execution_count": 76,
      "source": [
        "vega_datasets.__version__"
      ],
      "outputs": [
        {
          "output_type": "execute_result",
          "data": {
            "text/plain": [
              "'0.9.0'"
            ],
            "application/vnd.google.colaboratory.intrinsic+json": {
              "type": "string"
            }
          },
          "metadata": {},
          "execution_count": 76
        }
      ],
      "metadata": {
        "id": "5W2VDMUw_O9_",
        "colab": {
          "base_uri": "https://localhost:8080/",
          "height": 36
        },
        "outputId": "9d6b586e-3b6e-443a-ff50-462a8e6362f5"
      }
    },
    {
      "cell_type": "markdown",
      "source": [
        "**Note:** Please check your `vega_datasets` version using `vega_datasets.__version__`. If you have a version lower than `0.9.0`, you will need to check the column names in `movies.head()` and update it accordingly in the code cells below."
      ],
      "metadata": {
        "id": "2qrsL-7B_SIe"
      }
    },
    {
      "cell_type": "code",
      "execution_count": 87,
      "source": [
        "movies = vega_datasets.data.movies()\n",
        "movies.head()"
      ],
      "outputs": [
        {
          "output_type": "execute_result",
          "data": {
            "text/plain": [
              "                        Title   US_Gross  Worldwide_Gross  US_DVD_Sales  \\\n",
              "0              The Land Girls   146083.0         146083.0           NaN   \n",
              "1      First Love, Last Rites    10876.0          10876.0           NaN   \n",
              "2  I Married a Strange Person   203134.0         203134.0           NaN   \n",
              "3        Let's Talk About Sex   373615.0         373615.0           NaN   \n",
              "4                        Slam  1009819.0        1087521.0           NaN   \n",
              "\n",
              "   Production_Budget Release_Date MPAA_Rating  Running_Time_min Distributor  \\\n",
              "0          8000000.0  Jun 12 1998           R               NaN    Gramercy   \n",
              "1           300000.0  Aug 07 1998           R               NaN      Strand   \n",
              "2           250000.0  Aug 28 1998        None               NaN   Lionsgate   \n",
              "3           300000.0  Sep 11 1998        None               NaN   Fine Line   \n",
              "4          1000000.0  Oct 09 1998           R               NaN     Trimark   \n",
              "\n",
              "                Source Major_Genre         Creative_Type Director  \\\n",
              "0                 None        None                  None     None   \n",
              "1                 None       Drama                  None     None   \n",
              "2                 None      Comedy                  None     None   \n",
              "3                 None      Comedy                  None     None   \n",
              "4  Original Screenplay       Drama  Contemporary Fiction     None   \n",
              "\n",
              "   Rotten_Tomatoes_Rating  IMDB_Rating  IMDB_Votes  \n",
              "0                     NaN          6.1      1071.0  \n",
              "1                     NaN          6.9       207.0  \n",
              "2                     NaN          6.8       865.0  \n",
              "3                    13.0          NaN         NaN  \n",
              "4                    62.0          3.4       165.0  "
            ],
            "text/html": [
              "\n",
              "  <div id=\"df-fdb5956e-26b6-4c29-b41a-9f35e953d209\">\n",
              "    <div class=\"colab-df-container\">\n",
              "      <div>\n",
              "<style scoped>\n",
              "    .dataframe tbody tr th:only-of-type {\n",
              "        vertical-align: middle;\n",
              "    }\n",
              "\n",
              "    .dataframe tbody tr th {\n",
              "        vertical-align: top;\n",
              "    }\n",
              "\n",
              "    .dataframe thead th {\n",
              "        text-align: right;\n",
              "    }\n",
              "</style>\n",
              "<table border=\"1\" class=\"dataframe\">\n",
              "  <thead>\n",
              "    <tr style=\"text-align: right;\">\n",
              "      <th></th>\n",
              "      <th>Title</th>\n",
              "      <th>US_Gross</th>\n",
              "      <th>Worldwide_Gross</th>\n",
              "      <th>US_DVD_Sales</th>\n",
              "      <th>Production_Budget</th>\n",
              "      <th>Release_Date</th>\n",
              "      <th>MPAA_Rating</th>\n",
              "      <th>Running_Time_min</th>\n",
              "      <th>Distributor</th>\n",
              "      <th>Source</th>\n",
              "      <th>Major_Genre</th>\n",
              "      <th>Creative_Type</th>\n",
              "      <th>Director</th>\n",
              "      <th>Rotten_Tomatoes_Rating</th>\n",
              "      <th>IMDB_Rating</th>\n",
              "      <th>IMDB_Votes</th>\n",
              "    </tr>\n",
              "  </thead>\n",
              "  <tbody>\n",
              "    <tr>\n",
              "      <th>0</th>\n",
              "      <td>The Land Girls</td>\n",
              "      <td>146083.0</td>\n",
              "      <td>146083.0</td>\n",
              "      <td>NaN</td>\n",
              "      <td>8000000.0</td>\n",
              "      <td>Jun 12 1998</td>\n",
              "      <td>R</td>\n",
              "      <td>NaN</td>\n",
              "      <td>Gramercy</td>\n",
              "      <td>None</td>\n",
              "      <td>None</td>\n",
              "      <td>None</td>\n",
              "      <td>None</td>\n",
              "      <td>NaN</td>\n",
              "      <td>6.1</td>\n",
              "      <td>1071.0</td>\n",
              "    </tr>\n",
              "    <tr>\n",
              "      <th>1</th>\n",
              "      <td>First Love, Last Rites</td>\n",
              "      <td>10876.0</td>\n",
              "      <td>10876.0</td>\n",
              "      <td>NaN</td>\n",
              "      <td>300000.0</td>\n",
              "      <td>Aug 07 1998</td>\n",
              "      <td>R</td>\n",
              "      <td>NaN</td>\n",
              "      <td>Strand</td>\n",
              "      <td>None</td>\n",
              "      <td>Drama</td>\n",
              "      <td>None</td>\n",
              "      <td>None</td>\n",
              "      <td>NaN</td>\n",
              "      <td>6.9</td>\n",
              "      <td>207.0</td>\n",
              "    </tr>\n",
              "    <tr>\n",
              "      <th>2</th>\n",
              "      <td>I Married a Strange Person</td>\n",
              "      <td>203134.0</td>\n",
              "      <td>203134.0</td>\n",
              "      <td>NaN</td>\n",
              "      <td>250000.0</td>\n",
              "      <td>Aug 28 1998</td>\n",
              "      <td>None</td>\n",
              "      <td>NaN</td>\n",
              "      <td>Lionsgate</td>\n",
              "      <td>None</td>\n",
              "      <td>Comedy</td>\n",
              "      <td>None</td>\n",
              "      <td>None</td>\n",
              "      <td>NaN</td>\n",
              "      <td>6.8</td>\n",
              "      <td>865.0</td>\n",
              "    </tr>\n",
              "    <tr>\n",
              "      <th>3</th>\n",
              "      <td>Let's Talk About Sex</td>\n",
              "      <td>373615.0</td>\n",
              "      <td>373615.0</td>\n",
              "      <td>NaN</td>\n",
              "      <td>300000.0</td>\n",
              "      <td>Sep 11 1998</td>\n",
              "      <td>None</td>\n",
              "      <td>NaN</td>\n",
              "      <td>Fine Line</td>\n",
              "      <td>None</td>\n",
              "      <td>Comedy</td>\n",
              "      <td>None</td>\n",
              "      <td>None</td>\n",
              "      <td>13.0</td>\n",
              "      <td>NaN</td>\n",
              "      <td>NaN</td>\n",
              "    </tr>\n",
              "    <tr>\n",
              "      <th>4</th>\n",
              "      <td>Slam</td>\n",
              "      <td>1009819.0</td>\n",
              "      <td>1087521.0</td>\n",
              "      <td>NaN</td>\n",
              "      <td>1000000.0</td>\n",
              "      <td>Oct 09 1998</td>\n",
              "      <td>R</td>\n",
              "      <td>NaN</td>\n",
              "      <td>Trimark</td>\n",
              "      <td>Original Screenplay</td>\n",
              "      <td>Drama</td>\n",
              "      <td>Contemporary Fiction</td>\n",
              "      <td>None</td>\n",
              "      <td>62.0</td>\n",
              "      <td>3.4</td>\n",
              "      <td>165.0</td>\n",
              "    </tr>\n",
              "  </tbody>\n",
              "</table>\n",
              "</div>\n",
              "      <button class=\"colab-df-convert\" onclick=\"convertToInteractive('df-fdb5956e-26b6-4c29-b41a-9f35e953d209')\"\n",
              "              title=\"Convert this dataframe to an interactive table.\"\n",
              "              style=\"display:none;\">\n",
              "        \n",
              "  <svg xmlns=\"http://www.w3.org/2000/svg\" height=\"24px\"viewBox=\"0 0 24 24\"\n",
              "       width=\"24px\">\n",
              "    <path d=\"M0 0h24v24H0V0z\" fill=\"none\"/>\n",
              "    <path d=\"M18.56 5.44l.94 2.06.94-2.06 2.06-.94-2.06-.94-.94-2.06-.94 2.06-2.06.94zm-11 1L8.5 8.5l.94-2.06 2.06-.94-2.06-.94L8.5 2.5l-.94 2.06-2.06.94zm10 10l.94 2.06.94-2.06 2.06-.94-2.06-.94-.94-2.06-.94 2.06-2.06.94z\"/><path d=\"M17.41 7.96l-1.37-1.37c-.4-.4-.92-.59-1.43-.59-.52 0-1.04.2-1.43.59L10.3 9.45l-7.72 7.72c-.78.78-.78 2.05 0 2.83L4 21.41c.39.39.9.59 1.41.59.51 0 1.02-.2 1.41-.59l7.78-7.78 2.81-2.81c.8-.78.8-2.07 0-2.86zM5.41 20L4 18.59l7.72-7.72 1.47 1.35L5.41 20z\"/>\n",
              "  </svg>\n",
              "      </button>\n",
              "      \n",
              "  <style>\n",
              "    .colab-df-container {\n",
              "      display:flex;\n",
              "      flex-wrap:wrap;\n",
              "      gap: 12px;\n",
              "    }\n",
              "\n",
              "    .colab-df-convert {\n",
              "      background-color: #E8F0FE;\n",
              "      border: none;\n",
              "      border-radius: 50%;\n",
              "      cursor: pointer;\n",
              "      display: none;\n",
              "      fill: #1967D2;\n",
              "      height: 32px;\n",
              "      padding: 0 0 0 0;\n",
              "      width: 32px;\n",
              "    }\n",
              "\n",
              "    .colab-df-convert:hover {\n",
              "      background-color: #E2EBFA;\n",
              "      box-shadow: 0px 1px 2px rgba(60, 64, 67, 0.3), 0px 1px 3px 1px rgba(60, 64, 67, 0.15);\n",
              "      fill: #174EA6;\n",
              "    }\n",
              "\n",
              "    [theme=dark] .colab-df-convert {\n",
              "      background-color: #3B4455;\n",
              "      fill: #D2E3FC;\n",
              "    }\n",
              "\n",
              "    [theme=dark] .colab-df-convert:hover {\n",
              "      background-color: #434B5C;\n",
              "      box-shadow: 0px 1px 3px 1px rgba(0, 0, 0, 0.15);\n",
              "      filter: drop-shadow(0px 1px 2px rgba(0, 0, 0, 0.3));\n",
              "      fill: #FFFFFF;\n",
              "    }\n",
              "  </style>\n",
              "\n",
              "      <script>\n",
              "        const buttonEl =\n",
              "          document.querySelector('#df-fdb5956e-26b6-4c29-b41a-9f35e953d209 button.colab-df-convert');\n",
              "        buttonEl.style.display =\n",
              "          google.colab.kernel.accessAllowed ? 'block' : 'none';\n",
              "\n",
              "        async function convertToInteractive(key) {\n",
              "          const element = document.querySelector('#df-fdb5956e-26b6-4c29-b41a-9f35e953d209');\n",
              "          const dataTable =\n",
              "            await google.colab.kernel.invokeFunction('convertToInteractive',\n",
              "                                                     [key], {});\n",
              "          if (!dataTable) return;\n",
              "\n",
              "          const docLinkHtml = 'Like what you see? Visit the ' +\n",
              "            '<a target=\"_blank\" href=https://colab.research.google.com/notebooks/data_table.ipynb>data table notebook</a>'\n",
              "            + ' to learn more about interactive tables.';\n",
              "          element.innerHTML = '';\n",
              "          dataTable['output_type'] = 'display_data';\n",
              "          await google.colab.output.renderOutput(dataTable, element);\n",
              "          const docLink = document.createElement('div');\n",
              "          docLink.innerHTML = docLinkHtml;\n",
              "          element.appendChild(docLink);\n",
              "        }\n",
              "      </script>\n",
              "    </div>\n",
              "  </div>\n",
              "  "
            ]
          },
          "metadata": {},
          "execution_count": 87
        }
      ],
      "metadata": {
        "jupyter": {
          "outputs_hidden": false
        },
        "id": "QAuKwXO-_G_A",
        "outputId": "f1cec29a-d00e-4ab5-df49-d73b12e5df99",
        "colab": {
          "base_uri": "https://localhost:8080/",
          "height": 496
        }
      }
    },
    {
      "cell_type": "markdown",
      "source": [
        "Let's plot the histogram of IMDB ratings. "
      ],
      "metadata": {
        "id": "SrNIv642_G_B"
      }
    },
    {
      "cell_type": "code",
      "execution_count": 78,
      "source": [
        "try:\n",
        "    plt.hist(movies['IMDB_Rating'])\n",
        "except KeyError as e:\n",
        "    print(\"movies has given KeyError: \", str(e))"
      ],
      "outputs": [
        {
          "output_type": "display_data",
          "data": {
            "text/plain": [
              "<Figure size 432x288 with 1 Axes>"
            ],
            "image/png": "[encoded data removed]"
          },
          "metadata": {
            "needs_background": "light"
          }
        }
      ],
      "metadata": {
        "jupyter": {
          "outputs_hidden": false
        },
        "id": "bWFmgyf6_G_B",
        "outputId": "7389e5b3-5a84-4a01-97ad-b7e215605c81",
        "colab": {
          "base_uri": "https://localhost:8080/",
          "height": 265
        }
      }
    },
    {
      "cell_type": "markdown",
      "source": [
        "Did you get an error or a warning? What's going on? \n",
        "\n",
        "The problem is that the column contains `NaN` (Not a Number) values, which represent missing data points. The following command check whether each value is a `NaN` and returns the result. "
      ],
      "metadata": {
        "id": "xq651UDL_G_C"
      }
    },
    {
      "cell_type": "code",
      "execution_count": 79,
      "source": [
        "movies['IMDB_Rating'].isna()"
      ],
      "outputs": [
        {
          "output_type": "execute_result",
          "data": {
            "text/plain": [
              "0       False\n",
              "1       False\n",
              "2       False\n",
              "3        True\n",
              "4       False\n",
              "        ...  \n",
              "3196    False\n",
              "3197     True\n",
              "3198    False\n",
              "3199    False\n",
              "3200    False\n",
              "Name: IMDB_Rating, Length: 3201, dtype: bool"
            ]
          },
          "metadata": {},
          "execution_count": 79
        }
      ],
      "metadata": {
        "jupyter": {
          "outputs_hidden": false
        },
        "id": "l-bbby0r_G_C",
        "outputId": "d95c4857-df8b-4084-c4d4-25045245a923",
        "colab": {
          "base_uri": "https://localhost:8080/"
        }
      }
    },
    {
      "cell_type": "markdown",
      "source": [
        "As you can see there are a bunch of missing rows. You can count them. "
      ],
      "metadata": {
        "id": "5KArMNuy_G_D"
      }
    },
    {
      "cell_type": "code",
      "execution_count": 80,
      "source": [
        "sum(movies['IMDB_Rating'].isna())"
      ],
      "outputs": [
        {
          "output_type": "execute_result",
          "data": {
            "text/plain": [
              "213"
            ]
          },
          "metadata": {},
          "execution_count": 80
        }
      ],
      "metadata": {
        "jupyter": {
          "outputs_hidden": false
        },
        "id": "NLIOP85J_G_D",
        "outputId": "474fe565-45b4-4faf-de98-3666820697b1",
        "colab": {
          "base_uri": "https://localhost:8080/"
        }
      }
    },
    {
      "cell_type": "markdown",
      "source": [
        "or drop them. "
      ],
      "metadata": {
        "id": "HNl9DzI8_G_D"
      }
    },
    {
      "cell_type": "code",
      "execution_count": 88,
      "source": [
        "IMDB_ratings_nan_dropped = movies['IMDB_Rating'].dropna()\n",
        "len(IMDB_ratings_nan_dropped)"
      ],
      "outputs": [
        {
          "output_type": "execute_result",
          "data": {
            "text/plain": [
              "2988"
            ]
          },
          "metadata": {},
          "execution_count": 88
        }
      ],
      "metadata": {
        "jupyter": {
          "outputs_hidden": false
        },
        "id": "fRcgNczJ_G_E",
        "outputId": "c5b97fbe-6ed7-4a64-be3c-48ec0646ce94",
        "colab": {
          "base_uri": "https://localhost:8080/"
        }
      }
    },
    {
      "cell_type": "code",
      "execution_count": 82,
      "source": [
        "213 + 2988"
      ],
      "outputs": [
        {
          "output_type": "execute_result",
          "data": {
            "text/plain": [
              "3201"
            ]
          },
          "metadata": {},
          "execution_count": 82
        }
      ],
      "metadata": {
        "jupyter": {
          "outputs_hidden": false
        },
        "id": "IwHSLkO-_G_E",
        "outputId": "3d302c50-8e05-4e5e-e74b-d25b0552ca94",
        "colab": {
          "base_uri": "https://localhost:8080/"
        }
      }
    },
    {
      "cell_type": "markdown",
      "source": [
        "The `dropna` can be applied to the dataframe too. \n",
        "\n",
        "**Q: drop rows from `movies` dataframe where either `IMDB_Rating` or `IMDB_Votes` is `NaN`.**"
      ],
      "metadata": {
        "id": "ilwIh89N_G_F"
      }
    },
    {
      "cell_type": "code",
      "execution_count": 89,
      "source": [
        "# TODO\n",
        "movies.dropna(subset=['IMDB_Rating','IMDB_Votes'], inplace=True)"
      ],
      "outputs": [],
      "metadata": {
        "id": "-3lfyoBg_G_F"
      }
    },
    {
      "cell_type": "code",
      "execution_count": 90,
      "source": [
        "# Both should be zero. \n",
        "print(sum(movies['IMDB_Rating'].isna()), sum(movies['IMDB_Votes'].isna()))"
      ],
      "outputs": [
        {
          "output_type": "stream",
          "name": "stdout",
          "text": [
            "0 0\n"
          ]
        }
      ],
      "metadata": {
        "jupyter": {
          "outputs_hidden": false
        },
        "id": "fDbetoUi_G_F",
        "outputId": "5f1421aa-0620-4d0f-cb6b-e2b157afaed8",
        "colab": {
          "base_uri": "https://localhost:8080/"
        }
      }
    },
    {
      "cell_type": "markdown",
      "source": [
        "How does `matplotlib` decides the bins? Actually `matplotlib`'s `hist` function uses `numpy`'s `histogram` function under the hood. "
      ],
      "metadata": {
        "id": "ce-ZFHwu_G_G"
      }
    },
    {
      "cell_type": "markdown",
      "source": [
        "**Q: Plot the histogram of movie ratings (`IMDB_Rating`) using the `plt.hist()` function.**"
      ],
      "metadata": {
        "id": "zOm7ESwb_G_G"
      }
    },
    {
      "cell_type": "code",
      "execution_count": 96,
      "source": [
        "# TODO\n",
        "a, b, c = plt.hist(movies.IMDB_Rating )"
      ],
      "outputs": [
        {
          "output_type": "display_data",
          "data": {
            "text/plain": [
              "<Figure size 432x288 with 1 Axes>"
            ],
            "image/png": "[encoded data removed]"
          },
          "metadata": {
            "needs_background": "light"
          }
        }
      ],
      "metadata": {
        "jupyter": {
          "outputs_hidden": false
        },
        "id": "UBp4ZGKW_G_H",
        "outputId": "21e9cb81-78bc-457d-b31a-6853073c8ee6",
        "colab": {
          "base_uri": "https://localhost:8080/",
          "height": 265
        }
      }
    },
    {
      "cell_type": "markdown",
      "source": [
        "Have you noticed that this function returns three objects? Take a look at the documentation [here](http://matplotlib.org/api/pyplot_api.html#matplotlib.pyplot.hist) to figure out what they are.\n",
        "\n",
        "To get the returned three objects:"
      ],
      "metadata": {
        "id": "WKd-vsn6_G_H"
      }
    },
    {
      "cell_type": "code",
      "execution_count": 99,
      "source": [
        "# TODO: Replace dummy value of below variables with actual values.\n",
        "n_raw, bins_raw, patches = a, b, c\n",
        "print(n_raw)\n",
        "print(bins_raw)\n",
        "print(patches)\n",
        "\n",
        "plt.hist(movies.IMDB_Rating )"
      ],
      "outputs": [
        {
          "output_type": "stream",
          "name": "stdout",
          "text": [
            "[  9.  39.  76. 133. 293. 599. 784. 684. 323.  48.]\n",
            "[1.4  2.18 2.96 3.74 4.52 5.3  6.08 6.86 7.64 8.42 9.2 ]\n",
            "<a list of 10 Patch objects>\n"
          ]
        },
        {
          "output_type": "execute_result",
          "data": {
            "text/plain": [
              "(array([  9.,  39.,  76., 133., 293., 599., 784., 684., 323.,  48.]),\n",
              " array([1.4 , 2.18, 2.96, 3.74, 4.52, 5.3 , 6.08, 6.86, 7.64, 8.42, 9.2 ]),\n",
              " <a list of 10 Patch objects>)"
            ]
          },
          "metadata": {},
          "execution_count": 99
        },
        {
          "output_type": "display_data",
          "data": {
            "text/plain": [
              "<Figure size 432x288 with 1 Axes>"
            ],
            "image/png": "[encoded data removed]"
          },
          "metadata": {
            "needs_background": "light"
          }
        }
      ],
      "metadata": {
        "jupyter": {
          "outputs_hidden": false
        },
        "id": "wECMi8FE_G_I",
        "outputId": "6deb8641-f969-40f7-d13a-27c10c08f3f8",
        "colab": {
          "base_uri": "https://localhost:8080/",
          "height": 374
        }
      }
    },
    {
      "cell_type": "markdown",
      "source": [
        "Here, `n_raw` contains the values of histograms, i.e., the number of movies in each of the 10 bins. Thus, the sum of the elements in `n_raw` should be equal to the total number of movies. \n",
        "\n",
        "**Q: Test whether the sum of values in `n_raw` is equal to the number of movies in the `movies` dataset**"
      ],
      "metadata": {
        "id": "l_RFSwpF_G_I"
      }
    },
    {
      "cell_type": "code",
      "execution_count": 103,
      "source": [
        "# TODO: test whether the sum of the numbers in n_raw is equal to the number of movies. \n",
        "\n",
        "print(sum(n_raw))\n",
        "print(movies.shape[0])\n",
        "sum(n_raw) == movies.shape[0]"
      ],
      "outputs": [
        {
          "output_type": "stream",
          "name": "stdout",
          "text": [
            "2988.0\n",
            "2988\n"
          ]
        },
        {
          "output_type": "execute_result",
          "data": {
            "text/plain": [
              "True"
            ]
          },
          "metadata": {},
          "execution_count": 103
        }
      ],
      "metadata": {
        "jupyter": {
          "outputs_hidden": false
        },
        "id": "HF6S_I7l_G_I",
        "outputId": "63b6789e-4b6c-40e6-e259-6a593f8cc876",
        "colab": {
          "base_uri": "https://localhost:8080/"
        }
      }
    },
    {
      "cell_type": "markdown",
      "source": [
        "The second returned object (`bins_raw`) is a list containing the edges of the 10 bins: the first bin is \\[1.4, 2.18\\], the second \\[2.18, 2.96\\], and so on. What's the width of the bins?"
      ],
      "metadata": {
        "id": "5ROhZszP_G_J"
      }
    },
    {
      "cell_type": "code",
      "execution_count": 104,
      "source": [
        "np.diff(bins_raw)"
      ],
      "outputs": [
        {
          "output_type": "execute_result",
          "data": {
            "text/plain": [
              "array([0.78, 0.78, 0.78, 0.78, 0.78, 0.78, 0.78, 0.78, 0.78, 0.78])"
            ]
          },
          "metadata": {},
          "execution_count": 104
        }
      ],
      "metadata": {
        "jupyter": {
          "outputs_hidden": false
        },
        "id": "8TtA_llF_G_J",
        "outputId": "ba1fb222-791c-49f3-b8cc-cd5ff4379882",
        "colab": {
          "base_uri": "https://localhost:8080/"
        }
      }
    },
    {
      "cell_type": "markdown",
      "source": [
        "The width is same as the maximum value minus minimum value, divided by 10. "
      ],
      "metadata": {
        "id": "wr6fjCqJ_G_J"
      }
    },
    {
      "cell_type": "code",
      "execution_count": 105,
      "source": [
        "min_rating = min(movies['IMDB_Rating'])\n",
        "max_rating = max(movies['IMDB_Rating'])\n",
        "print(min_rating, max_rating)\n",
        "print( (max_rating-min_rating) / 10 )"
      ],
      "outputs": [
        {
          "output_type": "stream",
          "name": "stdout",
          "text": [
            "1.4 9.2\n",
            "0.7799999999999999\n"
          ]
        }
      ],
      "metadata": {
        "jupyter": {
          "outputs_hidden": false
        },
        "id": "nDsPLuhs_G_K",
        "outputId": "d28b67ce-f0dd-4d6c-c1fa-5b8bd9d9b90e",
        "colab": {
          "base_uri": "https://localhost:8080/"
        }
      }
    },
    {
      "cell_type": "markdown",
      "source": [
        "Now, let's plot a normalized (density) histogram. "
      ],
      "metadata": {
        "id": "9-kP893P_G_K"
      }
    },
    {
      "cell_type": "code",
      "execution_count": 106,
      "source": [
        "n, bins, patches = plt.hist(movies['IMDB_Rating'], density=True)\n",
        "print(n)\n",
        "print(bins)"
      ],
      "outputs": [
        {
          "output_type": "stream",
          "name": "stdout",
          "text": [
            "[0.0038616  0.0167336  0.03260907 0.05706587 0.12571654 0.25701095\n",
            " 0.33638829 0.29348162 0.13858854 0.0205952 ]\n",
            "[1.4  2.18 2.96 3.74 4.52 5.3  6.08 6.86 7.64 8.42 9.2 ]\n"
          ]
        },
        {
          "output_type": "display_data",
          "data": {
            "text/plain": [
              "<Figure size 432x288 with 1 Axes>"
            ],
            "image/png": "[encoded data removed]"
          },
          "metadata": {
            "needs_background": "light"
          }
        }
      ],
      "metadata": {
        "jupyter": {
          "outputs_hidden": false
        },
        "id": "Mkv5LHGH_G_K",
        "outputId": "a6ccc636-7e18-47ca-912f-f15855ff1a19",
        "colab": {
          "base_uri": "https://localhost:8080/",
          "height": 322
        }
      }
    },
    {
      "cell_type": "markdown",
      "source": [
        "The ten bins do not change. But now `n` represents the density of the data inside each bin. In other words, the sum of the area of each bar will equal to 1. \n",
        "\n",
        "**Q: Can you verify this?**\n",
        "\n",
        "Hint: the area of each bar is calculated as height * width. You may get something like 0.99999999999999978 instead of 1."
      ],
      "metadata": {
        "id": "zvztNYNs_G_L"
      }
    },
    {
      "cell_type": "code",
      "execution_count": 124,
      "source": [
        "# TODO\n",
        "print(len(n), len(bins))\n",
        "print(np.diff(bins))\n",
        "\n",
        "print('sum of area of the bars : ', sum(n * np.diff(bins)))"
      ],
      "outputs": [
        {
          "output_type": "stream",
          "name": "stdout",
          "text": [
            "10 11\n",
            "[0.78 0.78 0.78 0.78 0.78 0.78 0.78 0.78 0.78 0.78]\n",
            "sum of area of the bars :  1.0\n"
          ]
        }
      ],
      "metadata": {
        "jupyter": {
          "outputs_hidden": false
        },
        "id": "Ldt8Eoj8_G_L",
        "outputId": "f940754a-582c-4d4d-8239-5e0002fc774c",
        "colab": {
          "base_uri": "https://localhost:8080/"
        }
      }
    },
    {
      "cell_type": "markdown",
      "source": [
        "Anyway, these data generated from the `hist` function is calculated from `numpy`'s `histogram` function. https://docs.scipy.org/doc/numpy/reference/generated/numpy.histogram.html \n",
        "\n",
        "Note that the result of `np.histogram()` is same as that of `plt.hist()`. "
      ],
      "metadata": {
        "id": "pQXojeqp_G_L"
      }
    },
    {
      "cell_type": "code",
      "execution_count": 125,
      "source": [
        "# TODO: If below code gives ValueError with NaN, then there are still missing values in IMDB_Rating and you must remove it.\n",
        "try:\n",
        "    np.histogram(movies['IMDB_Rating'])\n",
        "except ValueError as e:\n",
        "    print(\"Resulted in ValueError:\", str(e))"
      ],
      "outputs": [],
      "metadata": {
        "execution": {
          "iopub.execute_input": "2020-06-14T19:57:14.303Z",
          "iopub.status.busy": "2020-06-14T19:57:14.287Z",
          "iopub.status.idle": "2020-06-14T19:57:14.334Z",
          "shell.execute_reply": "2020-06-14T19:57:14.349Z"
        },
        "jupyter": {
          "outputs_hidden": false
        },
        "id": "NDSkwiqc_G_M"
      }
    },
    {
      "cell_type": "code",
      "execution_count": 126,
      "source": [
        "plt.hist(movies['IMDB_Rating'])"
      ],
      "outputs": [
        {
          "output_type": "execute_result",
          "data": {
            "text/plain": [
              "(array([  9.,  39.,  76., 133., 293., 599., 784., 684., 323.,  48.]),\n",
              " array([1.4 , 2.18, 2.96, 3.74, 4.52, 5.3 , 6.08, 6.86, 7.64, 8.42, 9.2 ]),\n",
              " <a list of 10 Patch objects>)"
            ]
          },
          "metadata": {},
          "execution_count": 126
        },
        {
          "output_type": "display_data",
          "data": {
            "text/plain": [
              "<Figure size 432x288 with 1 Axes>"
            ],
            "image/png": "[encoded data removed]"
          },
          "metadata": {
            "needs_background": "light"
          }
        }
      ],
      "metadata": {
        "jupyter": {
          "outputs_hidden": false
        },
        "id": "5hU0Bt2a_G_M",
        "outputId": "23963a3a-096e-46c8-c517-93ae52806c5a",
        "colab": {
          "base_uri": "https://localhost:8080/",
          "height": 320
        }
      }
    },
    {
      "cell_type": "markdown",
      "source": [
        "If you look at the documentation, you can see that `numpy` uses simply 10 as the default number of bins. But you can set it manually or set it to be `auto`, which is the \"Maximum of the `sturges` and `fd` estimators.\". Let's try this `auto` option. "
      ],
      "metadata": {
        "id": "CeFQkji4_G_M"
      }
    },
    {
      "cell_type": "code",
      "execution_count": 127,
      "source": [
        "_ = plt.hist(movies['IMDB_Rating'], bins='auto')"
      ],
      "outputs": [
        {
          "output_type": "display_data",
          "data": {
            "text/plain": [
              "<Figure size 432x288 with 1 Axes>"
            ],
            "image/png": "[encoded data removed]"
          },
          "metadata": {
            "needs_background": "light"
          }
        }
      ],
      "metadata": {
        "jupyter": {
          "outputs_hidden": false
        },
        "id": "ZRD_UKiD_G_N",
        "outputId": "a1550690-0f57-4e2d-a253-13b30b5d494a",
        "colab": {
          "base_uri": "https://localhost:8080/",
          "height": 265
        }
      }
    },
    {
      "cell_type": "markdown",
      "source": [
        "## Consequences of the binning parameter\n",
        "\n",
        "Let's explore the effect of bin size using small multiples. In `matplotlib`, you can use [subplot](https://www.google.com/search?client=safari&rls=en&q=matplotlib+subplot&ie=UTF-8&oe=UTF-8) to put multiple plots into a single figure. \n",
        "\n",
        "For instance, you can do something like:"
      ],
      "metadata": {
        "id": "GwPlFvHn_G_N"
      }
    },
    {
      "cell_type": "code",
      "execution_count": 128,
      "source": [
        "plt.figure(figsize=(10,5))\n",
        "plt.subplot(1,2,1)\n",
        "movies['IMDB_Rating'].hist(bins=3)\n",
        "plt.subplot(1,2,2)\n",
        "movies['IMDB_Rating'].hist(bins=20)"
      ],
      "outputs": [
        {
          "output_type": "execute_result",
          "data": {
            "text/plain": [
              "<matplotlib.axes._subplots.AxesSubplot at 0x7f2d5809b090>"
            ]
          },
          "metadata": {},
          "execution_count": 128
        },
        {
          "output_type": "display_data",
          "data": {
            "text/plain": [
              "<Figure size 720x360 with 2 Axes>"
            ],
            "image/png": "[encoded data removed]"
          },
          "metadata": {
            "needs_background": "light"
          }
        }
      ],
      "metadata": {
        "jupyter": {
          "outputs_hidden": false
        },
        "id": "hDnPdqBU_G_N",
        "outputId": "73dab31f-0dab-4cb2-a8c4-7047f727c9f3",
        "colab": {
          "base_uri": "https://localhost:8080/",
          "height": 338
        }
      }
    },
    {
      "cell_type": "markdown",
      "source": [
        "What does the argument in `plt.subplot(1,2,1)` mean? If you're not sure, check out: http://stackoverflow.com/questions/3584805/in-matplotlib-what-does-the-argument-mean-in-fig-add-subplot111\n",
        "\n",
        "**Q: create 8 subplots (2 rows and 4 columns) with the following `binsizes`.**"
      ],
      "metadata": {
        "id": "7uzX4QWE_G_O"
      }
    },
    {
      "cell_type": "code",
      "execution_count": 143,
      "source": [
        "nbins = [2, 3, 5, 10, 30, 40, 60, 100 ]\n",
        "figsize = (18, 10)\n",
        "\n",
        "# TODO\n",
        "\n",
        "nbins = [2, 3, 5, 10, 30, 40, 60, 100 ]\n",
        "figsize = (18, 10)\n",
        "\n",
        "plt.figure(figsize=(18, 10))\n",
        "\n",
        "# plt.subplot(2,4,1) \n",
        "# movies['IMDB_Rating'].hist(bins=nbins[0])\n",
        "# plt.title(f'Bins = {nbins[0]}' )\n",
        "\n",
        "# plt.subplot(2,4,2) \n",
        "# movies['IMDB_Rating'].hist(bins=nbins[1])\n",
        "# plt.title(f'Bins = {nbins[1]}' )\n",
        "\n",
        "for i in range(len(nbins)):\n",
        "  plt.subplot(2,4,i+1) \n",
        "  movies['IMDB_Rating'].hist(bins=nbins[i])\n",
        "  plt.title(f'Bins = {nbins[i]}')\n",
        "  plt.xlabel('Rating')"
      ],
      "outputs": [
        {
          "output_type": "display_data",
          "data": {
            "text/plain": [
              "<Figure size 1296x720 with 8 Axes>"
            ],
            "image/png": "[encoded data removed]"
          },
          "metadata": {
            "needs_background": "light"
          }
        }
      ],
      "metadata": {
        "jupyter": {
          "outputs_hidden": false
        },
        "id": "NbM-6DjA_G_O",
        "outputId": "2b5b6cb0-326a-4e43-f871-946fb846ea83",
        "colab": {
          "base_uri": "https://localhost:8080/",
          "height": 621
        }
      }
    },
    {
      "cell_type": "markdown",
      "source": [
        "Do you see the issues with having too few bins or too many bins? In particular, do you notice weird patterns that emerge from `bins=30`? \n",
        "\n",
        "**Q: Can you guess why do you see such patterns? What are the peaks and what are the empty bars? What do they tell you about choosing the binsize in histograms?**"
      ],
      "metadata": {
        "id": "4MUtaGwi_G_O"
      }
    },
    {
      "cell_type": "code",
      "execution_count": null,
      "source": [
        "# TODO: Provide your answer and evidence here\n"
      ],
      "outputs": [
        {
          "output_type": "display_data",
          "data": {
            "image/png": "[encoded data removed]",
            "text/plain": [
              "<Figure size 432x288 with 1 Axes>"
            ]
          },
          "metadata": {
            "tags": [],
            "needs_background": "light"
          }
        }
      ],
      "metadata": {
        "jupyter": {
          "outputs_hidden": false
        },
        "id": "qIj9lKUM_G_P",
        "outputId": "5dae9680-092d-4992-f116-8d2c33a27b7c"
      }
    },
    {
      "cell_type": "markdown",
      "source": [
        "## Formulae for choosing the number of bins. \n",
        "\n",
        "We can manually choose the number of bins based on those formulae. "
      ],
      "metadata": {
        "id": "f_07JYIS_G_P"
      }
    },
    {
      "cell_type": "code",
      "execution_count": 144,
      "source": [
        "N = len(movies)\n",
        "\n",
        "plt.figure(figsize=(12,4))\n",
        "\n",
        "# Sqrt \n",
        "nbins = int(np.sqrt(N))\n",
        "\n",
        "plt.subplot(1,3,1)\n",
        "plt.title(\"SQRT, {} bins\".format(nbins))\n",
        "movies['IMDB_Rating'].hist(bins=nbins)\n",
        "\n",
        "# Sturge's formula\n",
        "nbins = int(np.ceil(np.log2(N) + 1))\n",
        "\n",
        "plt.subplot(1,3,2)\n",
        "plt.title(\"Sturge, {} bins\".format(nbins))\n",
        "movies['IMDB_Rating'].hist(bins=nbins)\n",
        "\n",
        "# Freedman-Diaconis\n",
        "# TODO: If below code gives ValueError with NaN, then there are still missing values in IMDB_Rating and you must remove it.\n",
        "try:\n",
        "    iqr = np.percentile(movies['IMDB_Rating'], 75) - np.percentile(movies['IMDB_Rating'], 25)\n",
        "    width = 2*iqr/np.power(N, 1/3)\n",
        "    nbins = int((max(movies['IMDB_Rating']) - min(movies['IMDB_Rating'])) / width)\n",
        "\n",
        "    plt.subplot(1,3,3)\n",
        "    plt.title(\"F-D, {} bins\".format(nbins))\n",
        "    movies['IMDB_Rating'].hist(bins=nbins)\n",
        "except ValueError as e:\n",
        "    print(\"Resulted in ValueError:\", str(e))"
      ],
      "outputs": [
        {
          "output_type": "display_data",
          "data": {
            "text/plain": [
              "<Figure size 864x288 with 3 Axes>"
            ],
            "image/png": "[encoded data removed]"
          },
          "metadata": {
            "needs_background": "light"
          }
        }
      ],
      "metadata": {
        "id": "EFxa5Cwz_G_Q",
        "outputId": "5bdf19c6-8919-43e8-c858-aba3f57fe233",
        "colab": {
          "base_uri": "https://localhost:8080/",
          "height": 281
        }
      }
    },
    {
      "cell_type": "markdown",
      "source": [
        "But we can also use built-in formulae too. Let's try all of them. "
      ],
      "metadata": {
        "id": "x5pGenYF_G_Q"
      }
    },
    {
      "cell_type": "code",
      "execution_count": 145,
      "source": [
        "plt.figure(figsize=(20,4))\n",
        "\n",
        "plt.subplot(161)\n",
        "movies['IMDB_Rating'].hist(bins='fd')\n",
        "\n",
        "plt.subplot(162)\n",
        "movies['IMDB_Rating'].hist(bins='doane')\n",
        "\n",
        "plt.subplot(163)\n",
        "movies['IMDB_Rating'].hist(bins='scott')\n",
        "\n",
        "plt.subplot(164)\n",
        "movies['IMDB_Rating'].hist(bins='rice')\n",
        "\n",
        "plt.subplot(165)\n",
        "movies['IMDB_Rating'].hist(bins='sturges')\n",
        "\n",
        "plt.subplot(166)\n",
        "movies['IMDB_Rating'].hist(bins='sqrt')"
      ],
      "outputs": [
        {
          "output_type": "execute_result",
          "data": {
            "text/plain": [
              "<matplotlib.axes._subplots.AxesSubplot at 0x7f2d5759a910>"
            ]
          },
          "metadata": {},
          "execution_count": 145
        },
        {
          "output_type": "display_data",
          "data": {
            "text/plain": [
              "<Figure size 1440x288 with 6 Axes>"
            ],
            "image/png": "[encoded data removed]"
          },
          "metadata": {
            "needs_background": "light"
          }
        }
      ],
      "metadata": {
        "jupyter": {
          "outputs_hidden": false
        },
        "id": "pyK-B5KN_G_R",
        "outputId": "fffed36f-90c3-48ac-c3b3-7cafc1ebf629",
        "colab": {
          "base_uri": "https://localhost:8080/",
          "height": 284
        }
      }
    },
    {
      "cell_type": "markdown",
      "source": [
        "Some are decent, but several of them tend to overestimate the good number of bins. As you have more data points, some of the formulae may overestimate the necessary number of bins. Particularly in our case, because of the precision issue, we shouldn't increase the number of bins too much."
      ],
      "metadata": {
        "id": "pYAItQoA_G_R"
      }
    },
    {
      "cell_type": "markdown",
      "source": [
        "### Then, how should we choose the number of bins?"
      ],
      "metadata": {
        "id": "0jf4KJxB_G_S"
      }
    },
    {
      "cell_type": "markdown",
      "source": [
        "So what's the conclusion? use Scott's rule or Sturges' formula? \n",
        "\n",
        "No, I think the take-away is that you **should understand how the inappropriate number of bins can mislead you** and you should **try multiple number of bins** to obtain the most accurate picture of the data. Although the 'default' may work in most cases, don't blindly trust it! Don't judge the distribution of a dataset based on a single histogram. Try multiple parameters to get the full picture!"
      ],
      "metadata": {
        "id": "2duwuNV5_G_S"
      }
    },
    {
      "cell_type": "markdown",
      "source": [
        "## CDF (Cumulative distribution function)\n",
        "\n",
        "Drawing a CDF is easy. Because it's very common data visualization, histogram has an option called `cumulative`. "
      ],
      "metadata": {
        "id": "jUB_C-vo_G_S"
      }
    },
    {
      "cell_type": "code",
      "execution_count": 146,
      "source": [
        "movies['IMDB_Rating'].hist(cumulative=True)"
      ],
      "outputs": [
        {
          "output_type": "execute_result",
          "data": {
            "text/plain": [
              "<matplotlib.axes._subplots.AxesSubplot at 0x7f2d573e36d0>"
            ]
          },
          "metadata": {},
          "execution_count": 146
        },
        {
          "output_type": "display_data",
          "data": {
            "text/plain": [
              "<Figure size 432x288 with 1 Axes>"
            ],
            "image/png": "[encoded data removed]"
          },
          "metadata": {
            "needs_background": "light"
          }
        }
      ],
      "metadata": {
        "jupyter": {
          "outputs_hidden": false
        },
        "id": "KuT78TG5_G_T",
        "outputId": "af3b5cd8-d489-47a3-b777-9ca1c434a253",
        "colab": {
          "base_uri": "https://localhost:8080/",
          "height": 283
        }
      }
    },
    {
      "cell_type": "markdown",
      "source": [
        "You can also combine with options such as `histtype` and `density`."
      ],
      "metadata": {
        "id": "S1ucXKzI_G_T"
      }
    },
    {
      "cell_type": "code",
      "execution_count": 147,
      "source": [
        "movies['IMDB_Rating'].hist(histtype='step', cumulative=True, density=True)"
      ],
      "outputs": [
        {
          "output_type": "execute_result",
          "data": {
            "text/plain": [
              "<matplotlib.axes._subplots.AxesSubplot at 0x7f2d57464d50>"
            ]
          },
          "metadata": {},
          "execution_count": 147
        },
        {
          "output_type": "display_data",
          "data": {
            "text/plain": [
              "<Figure size 432x288 with 1 Axes>"
            ],
            "image/png": "[encoded data removed]"
          },
          "metadata": {
            "needs_background": "light"
          }
        }
      ],
      "metadata": {
        "jupyter": {
          "outputs_hidden": false
        },
        "id": "FGB1nZqz_G_T",
        "outputId": "cb83500e-bfa7-4ca4-c042-974e3769ed28",
        "colab": {
          "base_uri": "https://localhost:8080/",
          "height": 283
        }
      }
    },
    {
      "cell_type": "markdown",
      "source": [
        "And increase the number of bins. "
      ],
      "metadata": {
        "id": "Nfm50nqF_G_T"
      }
    },
    {
      "cell_type": "code",
      "execution_count": 148,
      "source": [
        "movies['IMDB_Rating'].hist(cumulative=True, density=True, bins=1000)"
      ],
      "outputs": [
        {
          "output_type": "execute_result",
          "data": {
            "text/plain": [
              "<matplotlib.axes._subplots.AxesSubplot at 0x7f2d574f65d0>"
            ]
          },
          "metadata": {},
          "execution_count": 148
        },
        {
          "output_type": "display_data",
          "data": {
            "text/plain": [
              "<Figure size 432x288 with 1 Axes>"
            ],
            "image/png": "[encoded data removed]"
          },
          "metadata": {
            "needs_background": "light"
          }
        }
      ],
      "metadata": {
        "jupyter": {
          "outputs_hidden": false
        },
        "id": "ZrMVUVmW_G_U",
        "outputId": "ecdf00e0-a151-4376-f95e-70958582a672",
        "colab": {
          "base_uri": "https://localhost:8080/",
          "height": 283
        }
      }
    },
    {
      "cell_type": "markdown",
      "source": [
        "This method works fine. By increasing the number of bins, you can get a CDF in the resolution that you want. But let's also try it manually to better understand what's going on. First, we should sort all the values. "
      ],
      "metadata": {
        "id": "JrEXxI1Z_G_U"
      }
    },
    {
      "cell_type": "code",
      "execution_count": 149,
      "source": [
        "rating_sorted = movies['IMDB_Rating'].sort_values()\n",
        "rating_sorted.head()"
      ],
      "outputs": [
        {
          "output_type": "execute_result",
          "data": {
            "text/plain": [
              "1247    1.4\n",
              "406     1.5\n",
              "1754    1.6\n",
              "1590    1.7\n",
              "1515    1.7\n",
              "Name: IMDB_Rating, dtype: float64"
            ]
          },
          "metadata": {},
          "execution_count": 149
        }
      ],
      "metadata": {
        "jupyter": {
          "outputs_hidden": false
        },
        "id": "CVqSQmmU_G_U",
        "outputId": "0fa2f06f-31ab-4319-ba84-a2a071a78ec7",
        "colab": {
          "base_uri": "https://localhost:8080/"
        }
      }
    },
    {
      "cell_type": "markdown",
      "source": [
        "We need to know the number of data points, "
      ],
      "metadata": {
        "id": "ucOJmOOZ_G_V"
      }
    },
    {
      "cell_type": "code",
      "execution_count": 150,
      "source": [
        "N = len(rating_sorted)\n",
        "N"
      ],
      "outputs": [
        {
          "output_type": "execute_result",
          "data": {
            "text/plain": [
              "2988"
            ]
          },
          "metadata": {},
          "execution_count": 150
        }
      ],
      "metadata": {
        "jupyter": {
          "outputs_hidden": false
        },
        "id": "zlkvZ-wx_G_V",
        "outputId": "da62ab8b-00a8-41cb-ac33-891ef6f2cd0f",
        "colab": {
          "base_uri": "https://localhost:8080/"
        }
      }
    },
    {
      "cell_type": "markdown",
      "source": [
        "And I think this may be useful for you. "
      ],
      "metadata": {
        "id": "_iqJaMbJ_G_V"
      }
    },
    {
      "cell_type": "code",
      "execution_count": 151,
      "source": [
        "n = 50\n",
        "np.linspace(1/n, 1.0, num=n)"
      ],
      "outputs": [
        {
          "output_type": "execute_result",
          "data": {
            "text/plain": [
              "array([0.02, 0.04, 0.06, 0.08, 0.1 , 0.12, 0.14, 0.16, 0.18, 0.2 , 0.22,\n",
              "       0.24, 0.26, 0.28, 0.3 , 0.32, 0.34, 0.36, 0.38, 0.4 , 0.42, 0.44,\n",
              "       0.46, 0.48, 0.5 , 0.52, 0.54, 0.56, 0.58, 0.6 , 0.62, 0.64, 0.66,\n",
              "       0.68, 0.7 , 0.72, 0.74, 0.76, 0.78, 0.8 , 0.82, 0.84, 0.86, 0.88,\n",
              "       0.9 , 0.92, 0.94, 0.96, 0.98, 1.  ])"
            ]
          },
          "metadata": {},
          "execution_count": 151
        }
      ],
      "metadata": {
        "jupyter": {
          "outputs_hidden": false
        },
        "id": "JSAwidf8_G_V",
        "outputId": "9d14d2d4-f643-4334-d949-faa8bc278056",
        "colab": {
          "base_uri": "https://localhost:8080/"
        }
      }
    },
    {
      "cell_type": "markdown",
      "source": [
        "**Q: now you're ready to draw a proper CDF. Draw the CDF plot of this data.** "
      ],
      "metadata": {
        "id": "HVnvIXbH_G_W"
      }
    },
    {
      "cell_type": "code",
      "execution_count": 176,
      "source": [
        "# Implement\n",
        "\n",
        "movies['IMDB_Rating'].hist(histtype='step', cumulative=True, density=True, bins=1000)\n",
        "plt.grid(False)\n",
        "plt.xlabel('IMDB Rating')\n",
        "plt.ylabel('CDF')\n",
        "plt.show()"
      ],
      "outputs": [
        {
          "output_type": "display_data",
          "data": {
            "text/plain": [
              "<Figure size 432x288 with 1 Axes>"
            ],
            "image/png": "[encoded data removed]"
          },
          "metadata": {
            "needs_background": "light"
          }
        }
      ],
      "metadata": {
        "jupyter": {
          "outputs_hidden": false
        },
        "id": "zRw7i6Mc_G_W",
        "outputId": "a7186601-7ea5-40d4-f878-3b8a9f91ef8b",
        "colab": {
          "base_uri": "https://localhost:8080/",
          "height": 279
        }
      }
    },
    {
      "cell_type": "markdown",
      "source": [
        "## A bit more histogram with altair\n",
        "\n",
        "As you may remember, you can get a pandas dataframe from `vega_datasets` package and use it to create visualizations. But, if you use `altair`, you can simply pass the URL instead of the actual data. "
      ],
      "metadata": {
        "id": "f8SdTs86_G_W"
      }
    },
    {
      "cell_type": "code",
      "execution_count": 152,
      "source": [
        "vega_datasets.data.movies.url"
      ],
      "outputs": [
        {
          "output_type": "execute_result",
          "data": {
            "text/plain": [
              "'https://cdn.jsdelivr.net/npm/vega-datasets@v1.29.0/data/movies.json'"
            ],
            "application/vnd.google.colaboratory.intrinsic+json": {
              "type": "string"
            }
          },
          "metadata": {},
          "execution_count": 152
        }
      ],
      "metadata": {
        "jupyter": {
          "outputs_hidden": false
        },
        "id": "xk7zzU7j_G_X",
        "outputId": "bb31b221-2922-40ff-a85f-4c08486f2f5b",
        "colab": {
          "base_uri": "https://localhost:8080/",
          "height": 36
        }
      }
    },
    {
      "cell_type": "code",
      "execution_count": null,
      "source": [
        "# Choose based on your environment\n",
        "#alt.renderers.enable('notebook')\n",
        "#alt.renderers.enable('jupyterlab')\n",
        "#alt.renderers.enable('default')"
      ],
      "outputs": [],
      "metadata": {
        "jupyter": {
          "outputs_hidden": false
        },
        "id": "yd9bwymv_G_X"
      }
    },
    {
      "cell_type": "markdown",
      "source": [
        "As mentioned before, in `altair` histogram is not special. It is just a plot that use bars (`mark_bar()`) where X axis is defined by `IMDB_Rating` with bins (`bin=True`), and Y axis is defined by `count()` aggregation function. "
      ],
      "metadata": {
        "id": "iin4Nh4__G_Y"
      }
    },
    {
      "cell_type": "code",
      "execution_count": 153,
      "source": [
        "alt.Chart(vega_datasets.data.movies.url).mark_bar().encode(\n",
        "    alt.X(\"IMDB_Rating:Q\",  bin=True),\n",
        "    alt.Y('count()')\n",
        ")"
      ],
      "outputs": [
        {
          "output_type": "execute_result",
          "data": {
            "text/html": [
              "\n",
              "<div id=\"altair-viz-50d1468d12a0419bb23080262468fa45\"></div>\n",
              "<script type=\"text/javascript\">\n",
              "  var VEGA_DEBUG = (typeof VEGA_DEBUG == \"undefined\") ? {} : VEGA_DEBUG;\n",
              "  (function(spec, embedOpt){\n",
              "    let outputDiv = document.currentScript.previousElementSibling;\n",
              "    if (outputDiv.id !== \"altair-viz-50d1468d12a0419bb23080262468fa45\") {\n",
              "      outputDiv = document.getElementById(\"altair-viz-50d1468d12a0419bb23080262468fa45\");\n",
              "    }\n",
              "    const paths = {\n",
              "      \"vega\": \"https://cdn.jsdelivr.net/npm//vega@5?noext\",\n",
              "      \"vega-lib\": \"https://cdn.jsdelivr.net/npm//vega-lib?noext\",\n",
              "      \"vega-lite\": \"https://cdn.jsdelivr.net/npm//vega-lite@4.17.0?noext\",\n",
              "      \"vega-embed\": \"https://cdn.jsdelivr.net/npm//vega-embed@6?noext\",\n",
              "    };\n",
              "\n",
              "    function maybeLoadScript(lib, version) {\n",
              "      var key = `${lib.replace(\"-\", \"\")}_version`;\n",
              "      return (VEGA_DEBUG[key] == version) ?\n",
              "        Promise.resolve(paths[lib]) :\n",
              "        new Promise(function(resolve, reject) {\n",
              "          var s = document.createElement('script');\n",
              "          document.getElementsByTagName(\"head\")[0].appendChild(s);\n",
              "          s.async = true;\n",
              "          s.onload = () => {\n",
              "            VEGA_DEBUG[key] = version;\n",
              "            return resolve(paths[lib]);\n",
              "          };\n",
              "          s.onerror = () => reject(`Error loading script: ${paths[lib]}`);\n",
              "          s.src = paths[lib];\n",
              "        });\n",
              "    }\n",
              "\n",
              "    function showError(err) {\n",
              "      outputDiv.innerHTML = `<div class=\"error\" style=\"color:red;\">${err}</div>`;\n",
              "      throw err;\n",
              "    }\n",
              "\n",
              "    function displayChart(vegaEmbed) {\n",
              "      vegaEmbed(outputDiv, spec, embedOpt)\n",
              "        .catch(err => showError(`Javascript Error: ${err.message}<br>This usually means there's a typo in your chart specification. See the javascript console for the full traceback.`));\n",
              "    }\n",
              "\n",
              "    if(typeof define === \"function\" && define.amd) {\n",
              "      requirejs.config({paths});\n",
              "      require([\"vega-embed\"], displayChart, err => showError(`Error loading script: ${err.message}`));\n",
              "    } else {\n",
              "      maybeLoadScript(\"vega\", \"5\")\n",
              "        .then(() => maybeLoadScript(\"vega-lite\", \"4.17.0\"))\n",
              "        .then(() => maybeLoadScript(\"vega-embed\", \"6\"))\n",
              "        .catch(showError)\n",
              "        .then(() => displayChart(vegaEmbed));\n",
              "    }\n",
              "  })({\"config\": {\"view\": {\"continuousWidth\": 400, \"continuousHeight\": 300}}, \"data\": {\"url\": \"https://cdn.jsdelivr.net/npm/vega-datasets@v1.29.0/data/movies.json\"}, \"mark\": \"bar\", \"encoding\": {\"x\": {\"bin\": true, \"field\": \"IMDB_Rating\", \"type\": \"quantitative\"}, \"y\": {\"aggregate\": \"count\", \"type\": \"quantitative\"}}, \"$schema\": \"https://vega.github.io/schema/vega-lite/v4.17.0.json\"}, {\"mode\": \"vega-lite\"});\n",
              "</script>"
            ],
            "text/plain": [
              "alt.Chart(...)"
            ]
          },
          "metadata": {},
          "execution_count": 153
        }
      ],
      "metadata": {
        "jupyter": {
          "outputs_hidden": false
        },
        "id": "8ydZKh85_G_Y",
        "outputId": "d362a233-a67c-4965-ea6f-e4c3428a8cf3",
        "colab": {
          "base_uri": "https://localhost:8080/",
          "height": 368
        }
      }
    },
    {
      "cell_type": "markdown",
      "source": [
        "Have you noted that it is `IMDB_Rating:Q` not `IMDB_Rating`? This is a shorthand for"
      ],
      "metadata": {
        "id": "kcVjz-lH_G_Y"
      }
    },
    {
      "cell_type": "code",
      "execution_count": 154,
      "source": [
        "alt.Chart(vega_datasets.data.movies.url).mark_bar().encode(\n",
        "    alt.X('IMDB_Rating', type='quantitative', bin=True),\n",
        "    alt.Y(aggregate='count', type='quantitative')\n",
        ")"
      ],
      "outputs": [
        {
          "output_type": "execute_result",
          "data": {
            "text/html": [
              "\n",
              "<div id=\"altair-viz-377ba1059c404264ba086a8d6e0ed2db\"></div>\n",
              "<script type=\"text/javascript\">\n",
              "  var VEGA_DEBUG = (typeof VEGA_DEBUG == \"undefined\") ? {} : VEGA_DEBUG;\n",
              "  (function(spec, embedOpt){\n",
              "    let outputDiv = document.currentScript.previousElementSibling;\n",
              "    if (outputDiv.id !== \"altair-viz-377ba1059c404264ba086a8d6e0ed2db\") {\n",
              "      outputDiv = document.getElementById(\"altair-viz-377ba1059c404264ba086a8d6e0ed2db\");\n",
              "    }\n",
              "    const paths = {\n",
              "      \"vega\": \"https://cdn.jsdelivr.net/npm//vega@5?noext\",\n",
              "      \"vega-lib\": \"https://cdn.jsdelivr.net/npm//vega-lib?noext\",\n",
              "      \"vega-lite\": \"https://cdn.jsdelivr.net/npm//vega-lite@4.17.0?noext\",\n",
              "      \"vega-embed\": \"https://cdn.jsdelivr.net/npm//vega-embed@6?noext\",\n",
              "    };\n",
              "\n",
              "    function maybeLoadScript(lib, version) {\n",
              "      var key = `${lib.replace(\"-\", \"\")}_version`;\n",
              "      return (VEGA_DEBUG[key] == version) ?\n",
              "        Promise.resolve(paths[lib]) :\n",
              "        new Promise(function(resolve, reject) {\n",
              "          var s = document.createElement('script');\n",
              "          document.getElementsByTagName(\"head\")[0].appendChild(s);\n",
              "          s.async = true;\n",
              "          s.onload = () => {\n",
              "            VEGA_DEBUG[key] = version;\n",
              "            return resolve(paths[lib]);\n",
              "          };\n",
              "          s.onerror = () => reject(`Error loading script: ${paths[lib]}`);\n",
              "          s.src = paths[lib];\n",
              "        });\n",
              "    }\n",
              "\n",
              "    function showError(err) {\n",
              "      outputDiv.innerHTML = `<div class=\"error\" style=\"color:red;\">${err}</div>`;\n",
              "      throw err;\n",
              "    }\n",
              "\n",
              "    function displayChart(vegaEmbed) {\n",
              "      vegaEmbed(outputDiv, spec, embedOpt)\n",
              "        .catch(err => showError(`Javascript Error: ${err.message}<br>This usually means there's a typo in your chart specification. See the javascript console for the full traceback.`));\n",
              "    }\n",
              "\n",
              "    if(typeof define === \"function\" && define.amd) {\n",
              "      requirejs.config({paths});\n",
              "      require([\"vega-embed\"], displayChart, err => showError(`Error loading script: ${err.message}`));\n",
              "    } else {\n",
              "      maybeLoadScript(\"vega\", \"5\")\n",
              "        .then(() => maybeLoadScript(\"vega-lite\", \"4.17.0\"))\n",
              "        .then(() => maybeLoadScript(\"vega-embed\", \"6\"))\n",
              "        .catch(showError)\n",
              "        .then(() => displayChart(vegaEmbed));\n",
              "    }\n",
              "  })({\"config\": {\"view\": {\"continuousWidth\": 400, \"continuousHeight\": 300}}, \"data\": {\"url\": \"https://cdn.jsdelivr.net/npm/vega-datasets@v1.29.0/data/movies.json\"}, \"mark\": \"bar\", \"encoding\": {\"x\": {\"bin\": true, \"field\": \"IMDB_Rating\", \"type\": \"quantitative\"}, \"y\": {\"aggregate\": \"count\", \"type\": \"quantitative\"}}, \"$schema\": \"https://vega.github.io/schema/vega-lite/v4.17.0.json\"}, {\"mode\": \"vega-lite\"});\n",
              "</script>"
            ],
            "text/plain": [
              "alt.Chart(...)"
            ]
          },
          "metadata": {},
          "execution_count": 154
        }
      ],
      "metadata": {
        "jupyter": {
          "outputs_hidden": false
        },
        "id": "Ml1DzJ2B_G_Z",
        "outputId": "113d2f01-ed75-401f-ab93-6182838ca38b",
        "colab": {
          "base_uri": "https://localhost:8080/",
          "height": 368
        }
      }
    },
    {
      "cell_type": "markdown",
      "source": [
        "In altair, you want to specify the data types using one of the four categories: quantitative, ordinal, nominal, and temporal. https://altair-viz.github.io/user_guide/encoding.html#data-types"
      ],
      "metadata": {
        "id": "MXxEHGfq_G_Z"
      }
    },
    {
      "cell_type": "markdown",
      "source": [
        "Although you can adjust the bins in `altair`, it does not encourage you to set the bins directly. For instance, although there is `step` parameter that directly sets the bin size, there are parameters such as `maxbins` (maximum number of bins) or `minstep` (minimum allowable step size), or `nice` (attemps to make the bin boundaries more human-friendly), that encourage you not to specify the bins directly. "
      ],
      "metadata": {
        "id": "HRJ4yICd_G_Z"
      }
    },
    {
      "cell_type": "code",
      "execution_count": 155,
      "source": [
        "from altair import Bin\n",
        "\n",
        "alt.Chart(vega_datasets.data.movies.url).mark_bar().encode(\n",
        "    alt.X(\"IMDB_Rating:Q\",  bin=Bin(step=0.09)),\n",
        "    alt.Y('count()')\n",
        ")"
      ],
      "outputs": [
        {
          "output_type": "execute_result",
          "data": {
            "text/html": [
              "\n",
              "<div id=\"altair-viz-6aaabc49ffc24d58bf7e4d2ad38edaa3\"></div>\n",
              "<script type=\"text/javascript\">\n",
              "  var VEGA_DEBUG = (typeof VEGA_DEBUG == \"undefined\") ? {} : VEGA_DEBUG;\n",
              "  (function(spec, embedOpt){\n",
              "    let outputDiv = document.currentScript.previousElementSibling;\n",
              "    if (outputDiv.id !== \"altair-viz-6aaabc49ffc24d58bf7e4d2ad38edaa3\") {\n",
              "      outputDiv = document.getElementById(\"altair-viz-6aaabc49ffc24d58bf7e4d2ad38edaa3\");\n",
              "    }\n",
              "    const paths = {\n",
              "      \"vega\": \"https://cdn.jsdelivr.net/npm//vega@5?noext\",\n",
              "      \"vega-lib\": \"https://cdn.jsdelivr.net/npm//vega-lib?noext\",\n",
              "      \"vega-lite\": \"https://cdn.jsdelivr.net/npm//vega-lite@4.17.0?noext\",\n",
              "      \"vega-embed\": \"https://cdn.jsdelivr.net/npm//vega-embed@6?noext\",\n",
              "    };\n",
              "\n",
              "    function maybeLoadScript(lib, version) {\n",
              "      var key = `${lib.replace(\"-\", \"\")}_version`;\n",
              "      return (VEGA_DEBUG[key] == version) ?\n",
              "        Promise.resolve(paths[lib]) :\n",
              "        new Promise(function(resolve, reject) {\n",
              "          var s = document.createElement('script');\n",
              "          document.getElementsByTagName(\"head\")[0].appendChild(s);\n",
              "          s.async = true;\n",
              "          s.onload = () => {\n",
              "            VEGA_DEBUG[key] = version;\n",
              "            return resolve(paths[lib]);\n",
              "          };\n",
              "          s.onerror = () => reject(`Error loading script: ${paths[lib]}`);\n",
              "          s.src = paths[lib];\n",
              "        });\n",
              "    }\n",
              "\n",
              "    function showError(err) {\n",
              "      outputDiv.innerHTML = `<div class=\"error\" style=\"color:red;\">${err}</div>`;\n",
              "      throw err;\n",
              "    }\n",
              "\n",
              "    function displayChart(vegaEmbed) {\n",
              "      vegaEmbed(outputDiv, spec, embedOpt)\n",
              "        .catch(err => showError(`Javascript Error: ${err.message}<br>This usually means there's a typo in your chart specification. See the javascript console for the full traceback.`));\n",
              "    }\n",
              "\n",
              "    if(typeof define === \"function\" && define.amd) {\n",
              "      requirejs.config({paths});\n",
              "      require([\"vega-embed\"], displayChart, err => showError(`Error loading script: ${err.message}`));\n",
              "    } else {\n",
              "      maybeLoadScript(\"vega\", \"5\")\n",
              "        .then(() => maybeLoadScript(\"vega-lite\", \"4.17.0\"))\n",
              "        .then(() => maybeLoadScript(\"vega-embed\", \"6\"))\n",
              "        .catch(showError)\n",
              "        .then(() => displayChart(vegaEmbed));\n",
              "    }\n",
              "  })({\"config\": {\"view\": {\"continuousWidth\": 400, \"continuousHeight\": 300}}, \"data\": {\"url\": \"https://cdn.jsdelivr.net/npm/vega-datasets@v1.29.0/data/movies.json\"}, \"mark\": \"bar\", \"encoding\": {\"x\": {\"bin\": {\"step\": 0.09}, \"field\": \"IMDB_Rating\", \"type\": \"quantitative\"}, \"y\": {\"aggregate\": \"count\", \"type\": \"quantitative\"}}, \"$schema\": \"https://vega.github.io/schema/vega-lite/v4.17.0.json\"}, {\"mode\": \"vega-lite\"});\n",
              "</script>"
            ],
            "text/plain": [
              "alt.Chart(...)"
            ]
          },
          "metadata": {},
          "execution_count": 155
        }
      ],
      "metadata": {
        "jupyter": {
          "outputs_hidden": false
        },
        "id": "bQNAzAYV_G_a",
        "outputId": "e7d15094-7a99-4806-befa-969050933f9d",
        "colab": {
          "base_uri": "https://localhost:8080/",
          "height": 368
        }
      }
    },
    {
      "cell_type": "code",
      "execution_count": 156,
      "source": [
        "alt.Chart(vega_datasets.data.movies.url).mark_bar().encode(\n",
        "    alt.X(\"IMDB_Rating:Q\",  bin=Bin(nice=True, maxbins=20)),\n",
        "    alt.Y('count()')\n",
        ")"
      ],
      "outputs": [
        {
          "output_type": "execute_result",
          "data": {
            "text/html": [
              "\n",
              "<div id=\"altair-viz-41e88a1613534e9295c24c9996e0c1f1\"></div>\n",
              "<script type=\"text/javascript\">\n",
              "  var VEGA_DEBUG = (typeof VEGA_DEBUG == \"undefined\") ? {} : VEGA_DEBUG;\n",
              "  (function(spec, embedOpt){\n",
              "    let outputDiv = document.currentScript.previousElementSibling;\n",
              "    if (outputDiv.id !== \"altair-viz-41e88a1613534e9295c24c9996e0c1f1\") {\n",
              "      outputDiv = document.getElementById(\"altair-viz-41e88a1613534e9295c24c9996e0c1f1\");\n",
              "    }\n",
              "    const paths = {\n",
              "      \"vega\": \"https://cdn.jsdelivr.net/npm//vega@5?noext\",\n",
              "      \"vega-lib\": \"https://cdn.jsdelivr.net/npm//vega-lib?noext\",\n",
              "      \"vega-lite\": \"https://cdn.jsdelivr.net/npm//vega-lite@4.17.0?noext\",\n",
              "      \"vega-embed\": \"https://cdn.jsdelivr.net/npm//vega-embed@6?noext\",\n",
              "    };\n",
              "\n",
              "    function maybeLoadScript(lib, version) {\n",
              "      var key = `${lib.replace(\"-\", \"\")}_version`;\n",
              "      return (VEGA_DEBUG[key] == version) ?\n",
              "        Promise.resolve(paths[lib]) :\n",
              "        new Promise(function(resolve, reject) {\n",
              "          var s = document.createElement('script');\n",
              "          document.getElementsByTagName(\"head\")[0].appendChild(s);\n",
              "          s.async = true;\n",
              "          s.onload = () => {\n",
              "            VEGA_DEBUG[key] = version;\n",
              "            return resolve(paths[lib]);\n",
              "          };\n",
              "          s.onerror = () => reject(`Error loading script: ${paths[lib]}`);\n",
              "          s.src = paths[lib];\n",
              "        });\n",
              "    }\n",
              "\n",
              "    function showError(err) {\n",
              "      outputDiv.innerHTML = `<div class=\"error\" style=\"color:red;\">${err}</div>`;\n",
              "      throw err;\n",
              "    }\n",
              "\n",
              "    function displayChart(vegaEmbed) {\n",
              "      vegaEmbed(outputDiv, spec, embedOpt)\n",
              "        .catch(err => showError(`Javascript Error: ${err.message}<br>This usually means there's a typo in your chart specification. See the javascript console for the full traceback.`));\n",
              "    }\n",
              "\n",
              "    if(typeof define === \"function\" && define.amd) {\n",
              "      requirejs.config({paths});\n",
              "      require([\"vega-embed\"], displayChart, err => showError(`Error loading script: ${err.message}`));\n",
              "    } else {\n",
              "      maybeLoadScript(\"vega\", \"5\")\n",
              "        .then(() => maybeLoadScript(\"vega-lite\", \"4.17.0\"))\n",
              "        .then(() => maybeLoadScript(\"vega-embed\", \"6\"))\n",
              "        .catch(showError)\n",
              "        .then(() => displayChart(vegaEmbed));\n",
              "    }\n",
              "  })({\"config\": {\"view\": {\"continuousWidth\": 400, \"continuousHeight\": 300}}, \"data\": {\"url\": \"https://cdn.jsdelivr.net/npm/vega-datasets@v1.29.0/data/movies.json\"}, \"mark\": \"bar\", \"encoding\": {\"x\": {\"bin\": {\"maxbins\": 20, \"nice\": true}, \"field\": \"IMDB_Rating\", \"type\": \"quantitative\"}, \"y\": {\"aggregate\": \"count\", \"type\": \"quantitative\"}}, \"$schema\": \"https://vega.github.io/schema/vega-lite/v4.17.0.json\"}, {\"mode\": \"vega-lite\"});\n",
              "</script>"
            ],
            "text/plain": [
              "alt.Chart(...)"
            ]
          },
          "metadata": {},
          "execution_count": 156
        }
      ],
      "metadata": {
        "jupyter": {
          "outputs_hidden": false
        },
        "id": "yxUmNvoq_G_a",
        "outputId": "dab0b976-18b1-467e-b741-b4db9eccc63c",
        "colab": {
          "base_uri": "https://localhost:8080/",
          "height": 368
        }
      }
    },
    {
      "cell_type": "markdown",
      "source": [
        "### Composing charts in altair\n",
        "\n",
        "`altair` has a very nice way to compose multiple plots. Two histograms side by side? just do the following."
      ],
      "metadata": {
        "id": "Ebeq7q_o_G_a"
      }
    },
    {
      "cell_type": "code",
      "execution_count": 157,
      "source": [
        "chart1 = alt.Chart(vega_datasets.data.movies.url).mark_bar().encode(\n",
        "    alt.X(\"IMDB_Rating:Q\",  bin=Bin(step=0.1)),\n",
        "    alt.Y('count()')\n",
        ").properties(\n",
        "    width=300,\n",
        "    height=150\n",
        ")\n",
        "chart2 = alt.Chart(vega_datasets.data.movies.url).mark_bar().encode(\n",
        "    alt.X(\"IMDB_Rating:Q\",  bin=Bin(nice=True, maxbins=20)),\n",
        "    alt.Y('count()')\n",
        ").properties(\n",
        "    width=300,\n",
        "    height=150\n",
        ")"
      ],
      "outputs": [],
      "metadata": {
        "id": "HKWFq9uH_G_b"
      }
    },
    {
      "cell_type": "code",
      "execution_count": 158,
      "source": [
        "chart1 | chart2"
      ],
      "outputs": [
        {
          "output_type": "execute_result",
          "data": {
            "text/html": [
              "\n",
              "<div id=\"altair-viz-660a9569490d40fca52bfdb8f2a60e5e\"></div>\n",
              "<script type=\"text/javascript\">\n",
              "  var VEGA_DEBUG = (typeof VEGA_DEBUG == \"undefined\") ? {} : VEGA_DEBUG;\n",
              "  (function(spec, embedOpt){\n",
              "    let outputDiv = document.currentScript.previousElementSibling;\n",
              "    if (outputDiv.id !== \"altair-viz-660a9569490d40fca52bfdb8f2a60e5e\") {\n",
              "      outputDiv = document.getElementById(\"altair-viz-660a9569490d40fca52bfdb8f2a60e5e\");\n",
              "    }\n",
              "    const paths = {\n",
              "      \"vega\": \"https://cdn.jsdelivr.net/npm//vega@5?noext\",\n",
              "      \"vega-lib\": \"https://cdn.jsdelivr.net/npm//vega-lib?noext\",\n",
              "      \"vega-lite\": \"https://cdn.jsdelivr.net/npm//vega-lite@4.17.0?noext\",\n",
              "      \"vega-embed\": \"https://cdn.jsdelivr.net/npm//vega-embed@6?noext\",\n",
              "    };\n",
              "\n",
              "    function maybeLoadScript(lib, version) {\n",
              "      var key = `${lib.replace(\"-\", \"\")}_version`;\n",
              "      return (VEGA_DEBUG[key] == version) ?\n",
              "        Promise.resolve(paths[lib]) :\n",
              "        new Promise(function(resolve, reject) {\n",
              "          var s = document.createElement('script');\n",
              "          document.getElementsByTagName(\"head\")[0].appendChild(s);\n",
              "          s.async = true;\n",
              "          s.onload = () => {\n",
              "            VEGA_DEBUG[key] = version;\n",
              "            return resolve(paths[lib]);\n",
              "          };\n",
              "          s.onerror = () => reject(`Error loading script: ${paths[lib]}`);\n",
              "          s.src = paths[lib];\n",
              "        });\n",
              "    }\n",
              "\n",
              "    function showError(err) {\n",
              "      outputDiv.innerHTML = `<div class=\"error\" style=\"color:red;\">${err}</div>`;\n",
              "      throw err;\n",
              "    }\n",
              "\n",
              "    function displayChart(vegaEmbed) {\n",
              "      vegaEmbed(outputDiv, spec, embedOpt)\n",
              "        .catch(err => showError(`Javascript Error: ${err.message}<br>This usually means there's a typo in your chart specification. See the javascript console for the full traceback.`));\n",
              "    }\n",
              "\n",
              "    if(typeof define === \"function\" && define.amd) {\n",
              "      requirejs.config({paths});\n",
              "      require([\"vega-embed\"], displayChart, err => showError(`Error loading script: ${err.message}`));\n",
              "    } else {\n",
              "      maybeLoadScript(\"vega\", \"5\")\n",
              "        .then(() => maybeLoadScript(\"vega-lite\", \"4.17.0\"))\n",
              "        .then(() => maybeLoadScript(\"vega-embed\", \"6\"))\n",
              "        .catch(showError)\n",
              "        .then(() => displayChart(vegaEmbed));\n",
              "    }\n",
              "  })({\"config\": {\"view\": {\"continuousWidth\": 400, \"continuousHeight\": 300}}, \"hconcat\": [{\"data\": {\"url\": \"https://cdn.jsdelivr.net/npm/vega-datasets@v1.29.0/data/movies.json\"}, \"mark\": \"bar\", \"encoding\": {\"x\": {\"bin\": {\"step\": 0.1}, \"field\": \"IMDB_Rating\", \"type\": \"quantitative\"}, \"y\": {\"aggregate\": \"count\", \"type\": \"quantitative\"}}, \"height\": 150, \"width\": 300}, {\"data\": {\"url\": \"https://cdn.jsdelivr.net/npm/vega-datasets@v1.29.0/data/movies.json\"}, \"mark\": \"bar\", \"encoding\": {\"x\": {\"bin\": {\"maxbins\": 20, \"nice\": true}, \"field\": \"IMDB_Rating\", \"type\": \"quantitative\"}, \"y\": {\"aggregate\": \"count\", \"type\": \"quantitative\"}}, \"height\": 150, \"width\": 300}], \"$schema\": \"https://vega.github.io/schema/vega-lite/v4.17.0.json\"}, {\"mode\": \"vega-lite\"});\n",
              "</script>"
            ],
            "text/plain": [
              "alt.HConcatChart(...)"
            ]
          },
          "metadata": {},
          "execution_count": 158
        }
      ],
      "metadata": {
        "jupyter": {
          "outputs_hidden": false
        },
        "id": "CKFX__1v_G_b",
        "outputId": "529a1c6b-cc9a-41dd-ee09-dd12d2b8355e",
        "colab": {
          "base_uri": "https://localhost:8080/",
          "height": 215
        }
      }
    },
    {
      "cell_type": "code",
      "execution_count": 159,
      "source": [
        "alt.hconcat(chart1, chart2)"
      ],
      "outputs": [
        {
          "output_type": "execute_result",
          "data": {
            "text/html": [
              "\n",
              "<div id=\"altair-viz-2aad11b67dde47ec91236d9ba42c05c4\"></div>\n",
              "<script type=\"text/javascript\">\n",
              "  var VEGA_DEBUG = (typeof VEGA_DEBUG == \"undefined\") ? {} : VEGA_DEBUG;\n",
              "  (function(spec, embedOpt){\n",
              "    let outputDiv = document.currentScript.previousElementSibling;\n",
              "    if (outputDiv.id !== \"altair-viz-2aad11b67dde47ec91236d9ba42c05c4\") {\n",
              "      outputDiv = document.getElementById(\"altair-viz-2aad11b67dde47ec91236d9ba42c05c4\");\n",
              "    }\n",
              "    const paths = {\n",
              "      \"vega\": \"https://cdn.jsdelivr.net/npm//vega@5?noext\",\n",
              "      \"vega-lib\": \"https://cdn.jsdelivr.net/npm//vega-lib?noext\",\n",
              "      \"vega-lite\": \"https://cdn.jsdelivr.net/npm//vega-lite@4.17.0?noext\",\n",
              "      \"vega-embed\": \"https://cdn.jsdelivr.net/npm//vega-embed@6?noext\",\n",
              "    };\n",
              "\n",
              "    function maybeLoadScript(lib, version) {\n",
              "      var key = `${lib.replace(\"-\", \"\")}_version`;\n",
              "      return (VEGA_DEBUG[key] == version) ?\n",
              "        Promise.resolve(paths[lib]) :\n",
              "        new Promise(function(resolve, reject) {\n",
              "          var s = document.createElement('script');\n",
              "          document.getElementsByTagName(\"head\")[0].appendChild(s);\n",
              "          s.async = true;\n",
              "          s.onload = () => {\n",
              "            VEGA_DEBUG[key] = version;\n",
              "            return resolve(paths[lib]);\n",
              "          };\n",
              "          s.onerror = () => reject(`Error loading script: ${paths[lib]}`);\n",
              "          s.src = paths[lib];\n",
              "        });\n",
              "    }\n",
              "\n",
              "    function showError(err) {\n",
              "      outputDiv.innerHTML = `<div class=\"error\" style=\"color:red;\">${err}</div>`;\n",
              "      throw err;\n",
              "    }\n",
              "\n",
              "    function displayChart(vegaEmbed) {\n",
              "      vegaEmbed(outputDiv, spec, embedOpt)\n",
              "        .catch(err => showError(`Javascript Error: ${err.message}<br>This usually means there's a typo in your chart specification. See the javascript console for the full traceback.`));\n",
              "    }\n",
              "\n",
              "    if(typeof define === \"function\" && define.amd) {\n",
              "      requirejs.config({paths});\n",
              "      require([\"vega-embed\"], displayChart, err => showError(`Error loading script: ${err.message}`));\n",
              "    } else {\n",
              "      maybeLoadScript(\"vega\", \"5\")\n",
              "        .then(() => maybeLoadScript(\"vega-lite\", \"4.17.0\"))\n",
              "        .then(() => maybeLoadScript(\"vega-embed\", \"6\"))\n",
              "        .catch(showError)\n",
              "        .then(() => displayChart(vegaEmbed));\n",
              "    }\n",
              "  })({\"config\": {\"view\": {\"continuousWidth\": 400, \"continuousHeight\": 300}}, \"hconcat\": [{\"data\": {\"url\": \"https://cdn.jsdelivr.net/npm/vega-datasets@v1.29.0/data/movies.json\"}, \"mark\": \"bar\", \"encoding\": {\"x\": {\"bin\": {\"step\": 0.1}, \"field\": \"IMDB_Rating\", \"type\": \"quantitative\"}, \"y\": {\"aggregate\": \"count\", \"type\": \"quantitative\"}}, \"height\": 150, \"width\": 300}, {\"data\": {\"url\": \"https://cdn.jsdelivr.net/npm/vega-datasets@v1.29.0/data/movies.json\"}, \"mark\": \"bar\", \"encoding\": {\"x\": {\"bin\": {\"maxbins\": 20, \"nice\": true}, \"field\": \"IMDB_Rating\", \"type\": \"quantitative\"}, \"y\": {\"aggregate\": \"count\", \"type\": \"quantitative\"}}, \"height\": 150, \"width\": 300}], \"$schema\": \"https://vega.github.io/schema/vega-lite/v4.17.0.json\"}, {\"mode\": \"vega-lite\"});\n",
              "</script>"
            ],
            "text/plain": [
              "alt.HConcatChart(...)"
            ]
          },
          "metadata": {},
          "execution_count": 159
        }
      ],
      "metadata": {
        "jupyter": {
          "outputs_hidden": false
        },
        "id": "6EddLDKT_G_b",
        "outputId": "61b4bde1-8335-4fdc-e66c-5792f10e2a00",
        "colab": {
          "base_uri": "https://localhost:8080/",
          "height": 215
        }
      }
    },
    {
      "cell_type": "markdown",
      "source": [
        "Vertical commposition? "
      ],
      "metadata": {
        "id": "U9RjftBC_G_b"
      }
    },
    {
      "cell_type": "code",
      "execution_count": 160,
      "source": [
        "alt.vconcat(chart1, chart2)"
      ],
      "outputs": [
        {
          "output_type": "execute_result",
          "data": {
            "text/html": [
              "\n",
              "<div id=\"altair-viz-feddd94be25646a2ac5c781800e76152\"></div>\n",
              "<script type=\"text/javascript\">\n",
              "  var VEGA_DEBUG = (typeof VEGA_DEBUG == \"undefined\") ? {} : VEGA_DEBUG;\n",
              "  (function(spec, embedOpt){\n",
              "    let outputDiv = document.currentScript.previousElementSibling;\n",
              "    if (outputDiv.id !== \"altair-viz-feddd94be25646a2ac5c781800e76152\") {\n",
              "      outputDiv = document.getElementById(\"altair-viz-feddd94be25646a2ac5c781800e76152\");\n",
              "    }\n",
              "    const paths = {\n",
              "      \"vega\": \"https://cdn.jsdelivr.net/npm//vega@5?noext\",\n",
              "      \"vega-lib\": \"https://cdn.jsdelivr.net/npm//vega-lib?noext\",\n",
              "      \"vega-lite\": \"https://cdn.jsdelivr.net/npm//vega-lite@4.17.0?noext\",\n",
              "      \"vega-embed\": \"https://cdn.jsdelivr.net/npm//vega-embed@6?noext\",\n",
              "    };\n",
              "\n",
              "    function maybeLoadScript(lib, version) {\n",
              "      var key = `${lib.replace(\"-\", \"\")}_version`;\n",
              "      return (VEGA_DEBUG[key] == version) ?\n",
              "        Promise.resolve(paths[lib]) :\n",
              "        new Promise(function(resolve, reject) {\n",
              "          var s = document.createElement('script');\n",
              "          document.getElementsByTagName(\"head\")[0].appendChild(s);\n",
              "          s.async = true;\n",
              "          s.onload = () => {\n",
              "            VEGA_DEBUG[key] = version;\n",
              "            return resolve(paths[lib]);\n",
              "          };\n",
              "          s.onerror = () => reject(`Error loading script: ${paths[lib]}`);\n",
              "          s.src = paths[lib];\n",
              "        });\n",
              "    }\n",
              "\n",
              "    function showError(err) {\n",
              "      outputDiv.innerHTML = `<div class=\"error\" style=\"color:red;\">${err}</div>`;\n",
              "      throw err;\n",
              "    }\n",
              "\n",
              "    function displayChart(vegaEmbed) {\n",
              "      vegaEmbed(outputDiv, spec, embedOpt)\n",
              "        .catch(err => showError(`Javascript Error: ${err.message}<br>This usually means there's a typo in your chart specification. See the javascript console for the full traceback.`));\n",
              "    }\n",
              "\n",
              "    if(typeof define === \"function\" && define.amd) {\n",
              "      requirejs.config({paths});\n",
              "      require([\"vega-embed\"], displayChart, err => showError(`Error loading script: ${err.message}`));\n",
              "    } else {\n",
              "      maybeLoadScript(\"vega\", \"5\")\n",
              "        .then(() => maybeLoadScript(\"vega-lite\", \"4.17.0\"))\n",
              "        .then(() => maybeLoadScript(\"vega-embed\", \"6\"))\n",
              "        .catch(showError)\n",
              "        .then(() => displayChart(vegaEmbed));\n",
              "    }\n",
              "  })({\"config\": {\"view\": {\"continuousWidth\": 400, \"continuousHeight\": 300}}, \"vconcat\": [{\"data\": {\"url\": \"https://cdn.jsdelivr.net/npm/vega-datasets@v1.29.0/data/movies.json\"}, \"mark\": \"bar\", \"encoding\": {\"x\": {\"bin\": {\"step\": 0.1}, \"field\": \"IMDB_Rating\", \"type\": \"quantitative\"}, \"y\": {\"aggregate\": \"count\", \"type\": \"quantitative\"}}, \"height\": 150, \"width\": 300}, {\"data\": {\"url\": \"https://cdn.jsdelivr.net/npm/vega-datasets@v1.29.0/data/movies.json\"}, \"mark\": \"bar\", \"encoding\": {\"x\": {\"bin\": {\"maxbins\": 20, \"nice\": true}, \"field\": \"IMDB_Rating\", \"type\": \"quantitative\"}, \"y\": {\"aggregate\": \"count\", \"type\": \"quantitative\"}}, \"height\": 150, \"width\": 300}], \"$schema\": \"https://vega.github.io/schema/vega-lite/v4.17.0.json\"}, {\"mode\": \"vega-lite\"});\n",
              "</script>"
            ],
            "text/plain": [
              "alt.VConcatChart(...)"
            ]
          },
          "metadata": {},
          "execution_count": 160
        }
      ],
      "metadata": {
        "jupyter": {
          "outputs_hidden": false
        },
        "id": "Tv0T5fgc_G_c",
        "outputId": "539fbd9b-4ef2-4e00-c1a5-f26cacfed07b",
        "colab": {
          "base_uri": "https://localhost:8080/",
          "height": 419
        }
      }
    },
    {
      "cell_type": "code",
      "execution_count": 161,
      "source": [
        "chart1 & chart2"
      ],
      "outputs": [
        {
          "output_type": "execute_result",
          "data": {
            "text/html": [
              "\n",
              "<div id=\"altair-viz-296e70324e454adea3bd4d29b09cfc8e\"></div>\n",
              "<script type=\"text/javascript\">\n",
              "  var VEGA_DEBUG = (typeof VEGA_DEBUG == \"undefined\") ? {} : VEGA_DEBUG;\n",
              "  (function(spec, embedOpt){\n",
              "    let outputDiv = document.currentScript.previousElementSibling;\n",
              "    if (outputDiv.id !== \"altair-viz-296e70324e454adea3bd4d29b09cfc8e\") {\n",
              "      outputDiv = document.getElementById(\"altair-viz-296e70324e454adea3bd4d29b09cfc8e\");\n",
              "    }\n",
              "    const paths = {\n",
              "      \"vega\": \"https://cdn.jsdelivr.net/npm//vega@5?noext\",\n",
              "      \"vega-lib\": \"https://cdn.jsdelivr.net/npm//vega-lib?noext\",\n",
              "      \"vega-lite\": \"https://cdn.jsdelivr.net/npm//vega-lite@4.17.0?noext\",\n",
              "      \"vega-embed\": \"https://cdn.jsdelivr.net/npm//vega-embed@6?noext\",\n",
              "    };\n",
              "\n",
              "    function maybeLoadScript(lib, version) {\n",
              "      var key = `${lib.replace(\"-\", \"\")}_version`;\n",
              "      return (VEGA_DEBUG[key] == version) ?\n",
              "        Promise.resolve(paths[lib]) :\n",
              "        new Promise(function(resolve, reject) {\n",
              "          var s = document.createElement('script');\n",
              "          document.getElementsByTagName(\"head\")[0].appendChild(s);\n",
              "          s.async = true;\n",
              "          s.onload = () => {\n",
              "            VEGA_DEBUG[key] = version;\n",
              "            return resolve(paths[lib]);\n",
              "          };\n",
              "          s.onerror = () => reject(`Error loading script: ${paths[lib]}`);\n",
              "          s.src = paths[lib];\n",
              "        });\n",
              "    }\n",
              "\n",
              "    function showError(err) {\n",
              "      outputDiv.innerHTML = `<div class=\"error\" style=\"color:red;\">${err}</div>`;\n",
              "      throw err;\n",
              "    }\n",
              "\n",
              "    function displayChart(vegaEmbed) {\n",
              "      vegaEmbed(outputDiv, spec, embedOpt)\n",
              "        .catch(err => showError(`Javascript Error: ${err.message}<br>This usually means there's a typo in your chart specification. See the javascript console for the full traceback.`));\n",
              "    }\n",
              "\n",
              "    if(typeof define === \"function\" && define.amd) {\n",
              "      requirejs.config({paths});\n",
              "      require([\"vega-embed\"], displayChart, err => showError(`Error loading script: ${err.message}`));\n",
              "    } else {\n",
              "      maybeLoadScript(\"vega\", \"5\")\n",
              "        .then(() => maybeLoadScript(\"vega-lite\", \"4.17.0\"))\n",
              "        .then(() => maybeLoadScript(\"vega-embed\", \"6\"))\n",
              "        .catch(showError)\n",
              "        .then(() => displayChart(vegaEmbed));\n",
              "    }\n",
              "  })({\"config\": {\"view\": {\"continuousWidth\": 400, \"continuousHeight\": 300}}, \"vconcat\": [{\"data\": {\"url\": \"https://cdn.jsdelivr.net/npm/vega-datasets@v1.29.0/data/movies.json\"}, \"mark\": \"bar\", \"encoding\": {\"x\": {\"bin\": {\"step\": 0.1}, \"field\": \"IMDB_Rating\", \"type\": \"quantitative\"}, \"y\": {\"aggregate\": \"count\", \"type\": \"quantitative\"}}, \"height\": 150, \"width\": 300}, {\"data\": {\"url\": \"https://cdn.jsdelivr.net/npm/vega-datasets@v1.29.0/data/movies.json\"}, \"mark\": \"bar\", \"encoding\": {\"x\": {\"bin\": {\"maxbins\": 20, \"nice\": true}, \"field\": \"IMDB_Rating\", \"type\": \"quantitative\"}, \"y\": {\"aggregate\": \"count\", \"type\": \"quantitative\"}}, \"height\": 150, \"width\": 300}], \"$schema\": \"https://vega.github.io/schema/vega-lite/v4.17.0.json\"}, {\"mode\": \"vega-lite\"});\n",
              "</script>"
            ],
            "text/plain": [
              "alt.VConcatChart(...)"
            ]
          },
          "metadata": {},
          "execution_count": 161
        }
      ],
      "metadata": {
        "jupyter": {
          "outputs_hidden": false
        },
        "id": "qNsN6uZt_G_c",
        "outputId": "49e18f0e-7738-40c5-858a-f4d67a4de170",
        "colab": {
          "base_uri": "https://localhost:8080/",
          "height": 419
        }
      }
    },
    {
      "cell_type": "markdown",
      "source": [
        "Shall we avoid some repetitions? You can define a *base* empty chart first and then assign encodings later when you put together multiple charts together. Here is an example: https://altair-viz.github.io/user_guide/compound_charts.html#repeated-charts\n",
        "\n"
      ],
      "metadata": {
        "id": "q64PqDaq_G_c"
      }
    },
    {
      "cell_type": "markdown",
      "source": [
        "Use base chart to produce the chart above:"
      ],
      "metadata": {
        "id": "8sacUYEF_G_d"
      }
    },
    {
      "cell_type": "code",
      "execution_count": 162,
      "source": [
        "base = alt.Chart().mark_bar().encode(\n",
        "    alt.X(\"IMDB_Rating:Q\",  bin=Bin(nice=True, maxbins=20)),\n",
        "    alt.Y('count()')\n",
        ").properties(\n",
        "    width=300,\n",
        "    height=150\n",
        ")\n",
        "\n",
        "chart = alt.vconcat(data=vega_datasets.data.movies.url)\n",
        "for bin_param in [Bin(step=0.1), Bin(nice=True, maxbins=20)]:\n",
        "    row = alt.hconcat()\n",
        "    row |= base.encode(x=alt.X(\"IMDB_Rating:Q\", bin=bin_param), y='count()')\n",
        "    chart &= row\n",
        "\n",
        "chart"
      ],
      "outputs": [
        {
          "output_type": "execute_result",
          "data": {
            "text/html": [
              "\n",
              "<div id=\"altair-viz-ae3021cb316044b697943c0a0746fb93\"></div>\n",
              "<script type=\"text/javascript\">\n",
              "  var VEGA_DEBUG = (typeof VEGA_DEBUG == \"undefined\") ? {} : VEGA_DEBUG;\n",
              "  (function(spec, embedOpt){\n",
              "    let outputDiv = document.currentScript.previousElementSibling;\n",
              "    if (outputDiv.id !== \"altair-viz-ae3021cb316044b697943c0a0746fb93\") {\n",
              "      outputDiv = document.getElementById(\"altair-viz-ae3021cb316044b697943c0a0746fb93\");\n",
              "    }\n",
              "    const paths = {\n",
              "      \"vega\": \"https://cdn.jsdelivr.net/npm//vega@5?noext\",\n",
              "      \"vega-lib\": \"https://cdn.jsdelivr.net/npm//vega-lib?noext\",\n",
              "      \"vega-lite\": \"https://cdn.jsdelivr.net/npm//vega-lite@4.17.0?noext\",\n",
              "      \"vega-embed\": \"https://cdn.jsdelivr.net/npm//vega-embed@6?noext\",\n",
              "    };\n",
              "\n",
              "    function maybeLoadScript(lib, version) {\n",
              "      var key = `${lib.replace(\"-\", \"\")}_version`;\n",
              "      return (VEGA_DEBUG[key] == version) ?\n",
              "        Promise.resolve(paths[lib]) :\n",
              "        new Promise(function(resolve, reject) {\n",
              "          var s = document.createElement('script');\n",
              "          document.getElementsByTagName(\"head\")[0].appendChild(s);\n",
              "          s.async = true;\n",
              "          s.onload = () => {\n",
              "            VEGA_DEBUG[key] = version;\n",
              "            return resolve(paths[lib]);\n",
              "          };\n",
              "          s.onerror = () => reject(`Error loading script: ${paths[lib]}`);\n",
              "          s.src = paths[lib];\n",
              "        });\n",
              "    }\n",
              "\n",
              "    function showError(err) {\n",
              "      outputDiv.innerHTML = `<div class=\"error\" style=\"color:red;\">${err}</div>`;\n",
              "      throw err;\n",
              "    }\n",
              "\n",
              "    function displayChart(vegaEmbed) {\n",
              "      vegaEmbed(outputDiv, spec, embedOpt)\n",
              "        .catch(err => showError(`Javascript Error: ${err.message}<br>This usually means there's a typo in your chart specification. See the javascript console for the full traceback.`));\n",
              "    }\n",
              "\n",
              "    if(typeof define === \"function\" && define.amd) {\n",
              "      requirejs.config({paths});\n",
              "      require([\"vega-embed\"], displayChart, err => showError(`Error loading script: ${err.message}`));\n",
              "    } else {\n",
              "      maybeLoadScript(\"vega\", \"5\")\n",
              "        .then(() => maybeLoadScript(\"vega-lite\", \"4.17.0\"))\n",
              "        .then(() => maybeLoadScript(\"vega-embed\", \"6\"))\n",
              "        .catch(showError)\n",
              "        .then(() => displayChart(vegaEmbed));\n",
              "    }\n",
              "  })({\"config\": {\"view\": {\"continuousWidth\": 400, \"continuousHeight\": 300}}, \"vconcat\": [{\"hconcat\": [{\"mark\": \"bar\", \"encoding\": {\"x\": {\"bin\": {\"step\": 0.1}, \"field\": \"IMDB_Rating\", \"type\": \"quantitative\"}, \"y\": {\"aggregate\": \"count\", \"type\": \"quantitative\"}}, \"height\": 150, \"width\": 300}]}, {\"hconcat\": [{\"mark\": \"bar\", \"encoding\": {\"x\": {\"bin\": {\"maxbins\": 20, \"nice\": true}, \"field\": \"IMDB_Rating\", \"type\": \"quantitative\"}, \"y\": {\"aggregate\": \"count\", \"type\": \"quantitative\"}}, \"height\": 150, \"width\": 300}]}], \"data\": {\"url\": \"https://cdn.jsdelivr.net/npm/vega-datasets@v1.29.0/data/movies.json\"}, \"$schema\": \"https://vega.github.io/schema/vega-lite/v4.17.0.json\"}, {\"mode\": \"vega-lite\"});\n",
              "</script>"
            ],
            "text/plain": [
              "alt.VConcatChart(...)"
            ]
          },
          "metadata": {},
          "execution_count": 162
        }
      ],
      "metadata": {
        "id": "8p4KLnHb_G_d",
        "outputId": "a904f238-6cdb-4775-e681-5200b6323652",
        "colab": {
          "base_uri": "https://localhost:8080/",
          "height": 419
        }
      }
    },
    {
      "cell_type": "markdown",
      "source": [
        "**Q: Using the base chart approach to create a 2x2 chart where the top row shows the two histograms of `IMDB_Rating` with `maxbins`=10 and 50 respectively, and the bottom row shows another two histograms of `IMDB_Votes` with `maxbins`=10 and 50.**"
      ],
      "metadata": {
        "id": "fNks8h5J_G_d"
      }
    },
    {
      "cell_type": "code",
      "execution_count": 192,
      "source": [
        "# TODO\n",
        "\n",
        "chart11 = alt.Chart(vega_datasets.data.movies.url, title ='bin = 10').mark_bar().encode(\n",
        "    alt.X(\"IMDB_Rating:Q\",  bin=Bin(nice=True, maxbins=10)),\n",
        "    alt.Y('count()', axis=alt.Axis(grid=False))\n",
        "     \n",
        ").properties(\n",
        "    width=300,\n",
        "    height=150\n",
        ")\n",
        "\n",
        "chart12 = alt.Chart(vega_datasets.data.movies.url, title ='bin = 50').mark_bar().encode(\n",
        "    alt.X(\"IMDB_Rating:Q\",  bin=Bin(nice=True, maxbins=50)),\n",
        "    alt.Y('count()', axis=alt.Axis(grid=False))\n",
        ").properties(\n",
        "    width=300,\n",
        "    height=150\n",
        ")\n",
        "\n",
        "chart21 = alt.Chart(vega_datasets.data.movies.url, title ='bin = 10').mark_bar().encode(\n",
        "    alt.X(\"IMDB_Votes:Q\",  bin=Bin(nice=True, maxbins=10)),\n",
        "    alt.Y('count()', axis=alt.Axis(grid=False))\n",
        ").properties(\n",
        "    width=300,\n",
        "    height=150\n",
        ")\n",
        "\n",
        "chart22 = alt.Chart(vega_datasets.data.movies.url, title ='bin = 50').mark_bar().encode(\n",
        "    alt.X(\"IMDB_Votes:Q\",  bin=Bin(nice=True, maxbins=50)),\n",
        "    alt.Y('count()', axis=alt.Axis(grid=False))\n",
        ").properties(\n",
        "    width=300,\n",
        "    height=150\n",
        ")\n",
        "\n",
        "chart_l1 = alt.hconcat(chart11, chart12)\n",
        "chart_l2 = alt.hconcat(chart21, chart22)\n",
        "\n",
        "chart_l1 & chart_l2"
      ],
      "outputs": [
        {
          "output_type": "execute_result",
          "data": {
            "text/html": [
              "\n",
              "<div id=\"altair-viz-472753a034aa40ff81584d26e7ea5999\"></div>\n",
              "<script type=\"text/javascript\">\n",
              "  var VEGA_DEBUG = (typeof VEGA_DEBUG == \"undefined\") ? {} : VEGA_DEBUG;\n",
              "  (function(spec, embedOpt){\n",
              "    let outputDiv = document.currentScript.previousElementSibling;\n",
              "    if (outputDiv.id !== \"altair-viz-472753a034aa40ff81584d26e7ea5999\") {\n",
              "      outputDiv = document.getElementById(\"altair-viz-472753a034aa40ff81584d26e7ea5999\");\n",
              "    }\n",
              "    const paths = {\n",
              "      \"vega\": \"https://cdn.jsdelivr.net/npm//vega@5?noext\",\n",
              "      \"vega-lib\": \"https://cdn.jsdelivr.net/npm//vega-lib?noext\",\n",
              "      \"vega-lite\": \"https://cdn.jsdelivr.net/npm//vega-lite@4.17.0?noext\",\n",
              "      \"vega-embed\": \"https://cdn.jsdelivr.net/npm//vega-embed@6?noext\",\n",
              "    };\n",
              "\n",
              "    function maybeLoadScript(lib, version) {\n",
              "      var key = `${lib.replace(\"-\", \"\")}_version`;\n",
              "      return (VEGA_DEBUG[key] == version) ?\n",
              "        Promise.resolve(paths[lib]) :\n",
              "        new Promise(function(resolve, reject) {\n",
              "          var s = document.createElement('script');\n",
              "          document.getElementsByTagName(\"head\")[0].appendChild(s);\n",
              "          s.async = true;\n",
              "          s.onload = () => {\n",
              "            VEGA_DEBUG[key] = version;\n",
              "            return resolve(paths[lib]);\n",
              "          };\n",
              "          s.onerror = () => reject(`Error loading script: ${paths[lib]}`);\n",
              "          s.src = paths[lib];\n",
              "        });\n",
              "    }\n",
              "\n",
              "    function showError(err) {\n",
              "      outputDiv.innerHTML = `<div class=\"error\" style=\"color:red;\">${err}</div>`;\n",
              "      throw err;\n",
              "    }\n",
              "\n",
              "    function displayChart(vegaEmbed) {\n",
              "      vegaEmbed(outputDiv, spec, embedOpt)\n",
              "        .catch(err => showError(`Javascript Error: ${err.message}<br>This usually means there's a typo in your chart specification. See the javascript console for the full traceback.`));\n",
              "    }\n",
              "\n",
              "    if(typeof define === \"function\" && define.amd) {\n",
              "      requirejs.config({paths});\n",
              "      require([\"vega-embed\"], displayChart, err => showError(`Error loading script: ${err.message}`));\n",
              "    } else {\n",
              "      maybeLoadScript(\"vega\", \"5\")\n",
              "        .then(() => maybeLoadScript(\"vega-lite\", \"4.17.0\"))\n",
              "        .then(() => maybeLoadScript(\"vega-embed\", \"6\"))\n",
              "        .catch(showError)\n",
              "        .then(() => displayChart(vegaEmbed));\n",
              "    }\n",
              "  })({\"config\": {\"view\": {\"continuousWidth\": 400, \"continuousHeight\": 300}}, \"vconcat\": [{\"hconcat\": [{\"data\": {\"url\": \"https://cdn.jsdelivr.net/npm/vega-datasets@v1.29.0/data/movies.json\"}, \"mark\": \"bar\", \"encoding\": {\"x\": {\"bin\": {\"maxbins\": 10, \"nice\": true}, \"field\": \"IMDB_Rating\", \"type\": \"quantitative\"}, \"y\": {\"aggregate\": \"count\", \"axis\": {\"grid\": false}, \"type\": \"quantitative\"}}, \"height\": 150, \"title\": \"bin = 10\", \"width\": 300}, {\"data\": {\"url\": \"https://cdn.jsdelivr.net/npm/vega-datasets@v1.29.0/data/movies.json\"}, \"mark\": \"bar\", \"encoding\": {\"x\": {\"bin\": {\"maxbins\": 50, \"nice\": true}, \"field\": \"IMDB_Rating\", \"type\": \"quantitative\"}, \"y\": {\"aggregate\": \"count\", \"axis\": {\"grid\": false}, \"type\": \"quantitative\"}}, \"height\": 150, \"title\": \"bin = 50\", \"width\": 300}]}, {\"hconcat\": [{\"data\": {\"url\": \"https://cdn.jsdelivr.net/npm/vega-datasets@v1.29.0/data/movies.json\"}, \"mark\": \"bar\", \"encoding\": {\"x\": {\"bin\": {\"maxbins\": 10, \"nice\": true}, \"field\": \"IMDB_Votes\", \"type\": \"quantitative\"}, \"y\": {\"aggregate\": \"count\", \"axis\": {\"grid\": false}, \"type\": \"quantitative\"}}, \"height\": 150, \"title\": \"bin = 10\", \"width\": 300}, {\"data\": {\"url\": \"https://cdn.jsdelivr.net/npm/vega-datasets@v1.29.0/data/movies.json\"}, \"mark\": \"bar\", \"encoding\": {\"x\": {\"bin\": {\"maxbins\": 50, \"nice\": true}, \"field\": \"IMDB_Votes\", \"type\": \"quantitative\"}, \"y\": {\"aggregate\": \"count\", \"axis\": {\"grid\": false}, \"type\": \"quantitative\"}}, \"height\": 150, \"title\": \"bin = 50\", \"width\": 300}]}], \"$schema\": \"https://vega.github.io/schema/vega-lite/v4.17.0.json\"}, {\"mode\": \"vega-lite\"});\n",
              "</script>"
            ],
            "text/plain": [
              "alt.VConcatChart(...)"
            ]
          },
          "metadata": {},
          "execution_count": 192
        }
      ],
      "metadata": {
        "jupyter": {
          "outputs_hidden": false
        },
        "id": "kQcK-33e_G_d",
        "outputId": "1292bc5f-9a57-4cf5-928a-bf58eff06ab6",
        "colab": {
          "base_uri": "https://localhost:8080/",
          "height": 463
        }
      }
    },
    {
      "cell_type": "markdown",
      "metadata": {
        "id": "kWvmFSd-fN20"
      },
      "source": [
        "## Convert the notebook to HTML"
      ]
    },
    {
      "cell_type": "code",
      "metadata": {
        "id": "Eg7d80bnfQ8-",
        "colab": {
          "base_uri": "https://localhost:8080/"
        },
        "outputId": "df43a0f3-6527-404b-a501-e6772e6227b8"
      },
      "source": [
        "%%shell\n",
        "# jupyter nbconvert --to html /content/m08_lab_Ganapathy_Anitha.ipynb"
      ],
      "execution_count": 193,
      "outputs": [
        {
          "output_type": "execute_result",
          "data": {
            "text/plain": [
              ""
            ]
          },
          "metadata": {},
          "execution_count": 193
        }
      ]
    }
  ]
}
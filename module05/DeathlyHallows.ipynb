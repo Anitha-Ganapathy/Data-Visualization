{
 "cells": [
  {
   "cell_type": "code",
   "execution_count": 1,
   "id": "cb5e2178-3227-4b95-82cd-391e8f6df505",
   "metadata": {},
   "outputs": [
    {
     "data": {
      "text/html": [
       "<head>\n",
       "<style>\n",
       ".fig_style {\n",
       "  fill: white;\n",
       "  stroke: black;\n",
       "  stroke-width: 9;\n",
       "}\n",
       "</style>\n",
       "</head>\n",
       "<body>\n",
       "<svg width=\"300\" height=\"300\">\n",
       "   <circle cx=\"150\" cy=\"150\" r=\"75\" class=\"fig_style\"/>\n",
       "   <line x1=\"150\" y1=\"0\" x2=\"150\" y2=\"230\" class=\"fig_style\" />\n",
       "   <line x1=\"150\" y1=\"0\" x2=\"0\" y2=\"230\" class=\"fig_style\" />\n",
       "   <line x1=\"150\" y1=\"0\" x2=\"300\" y2=\"230\" class=\"fig_style\" />\n",
       "   <line x1=\"0\" y1=\"230\" x2=\"300\" y2=\"230\" class=\"fig_style\" />\n",
       "</svg>\n",
       "  \n",
       "</body>\n"
      ],
      "text/plain": [
       "<IPython.core.display.HTML object>"
      ]
     },
     "metadata": {},
     "output_type": "display_data"
    }
   ],
   "source": [
    "%%html\n",
    "<head>\n",
    "<style>\n",
    ".fig_style {\n",
    "  fill: white;\n",
    "  stroke: black;\n",
    "  stroke-width: 9;\n",
    "}\n",
    "</style>\n",
    "</head>\n",
    "<body>\n",
    "<svg width=\"300\" height=\"300\">\n",
    "   <circle cx=\"150\" cy=\"150\" r=\"75\" class=\"fig_style\"/>\n",
    "   <line x1=\"150\" y1=\"0\" x2=\"150\" y2=\"230\" class=\"fig_style\" />\n",
    "   <line x1=\"150\" y1=\"0\" x2=\"0\" y2=\"230\" class=\"fig_style\" />\n",
    "   <line x1=\"150\" y1=\"0\" x2=\"300\" y2=\"230\" class=\"fig_style\" />\n",
    "   <line x1=\"0\" y1=\"230\" x2=\"300\" y2=\"230\" class=\"fig_style\" />\n",
    "</svg>\n",
    "  \n",
    "</body>"
   ]
  }
 ],
 "metadata": {
  "kernelspec": {
   "display_name": "Python 3",
   "language": "python",
   "name": "python3"
  },
  "language_info": {
   "codemirror_mode": {
    "name": "ipython",
    "version": 3
   },
   "file_extension": ".py",
   "mimetype": "text/x-python",
   "name": "python",
   "nbconvert_exporter": "python",
   "pygments_lexer": "ipython3",
   "version": "3.9.5"
  }
 },
 "nbformat": 4,
 "nbformat_minor": 5
}

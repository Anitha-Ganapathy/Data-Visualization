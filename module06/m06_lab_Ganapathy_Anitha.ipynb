{
  "cells": [
    {
      "cell_type": "markdown",
      "source": [
        "# Module 6: Data types and tidy data"
      ],
      "metadata": {
        "id": "MKLOww6FVU_G"
      }
    },
    {
      "cell_type": "markdown",
      "source": [
        "## Tidy data\n",
        "\n",
        "Let's do some tidy exercise first. This is one of the non-tidy dataset assembled by Hadley Wickham (check out [here](https://github.com/tidyverse/tidyr/tree/master/vignettes) for more datasets, explanation, and R code). \n",
        "\n",
        "Let's take a look at this small dataset: https://raw.githubusercontent.com/tidyverse/tidyr/4c0a8d0fdb9372302fcc57ad995d57a43d9e4337/vignettes/pew.csv"
      ],
      "metadata": {
        "id": "YBbgy5ZsVU_J"
      }
    },
    {
      "cell_type": "code",
      "execution_count": 1,
      "source": [
        "import pandas as pd"
      ],
      "outputs": [],
      "metadata": {
        "id": "FTo6MNPBVU_K"
      }
    },
    {
      "cell_type": "code",
      "execution_count": 2,
      "source": [
        "pew_df = pd.read_csv('https://raw.githubusercontent.com/tidyverse/tidyr/4c0a8d0fdb9372302fcc57ad995d57a43d9e4337/vignettes/pew.csv')\n",
        "pew_df"
      ],
      "outputs": [
        {
          "output_type": "execute_result",
          "data": {
            "text/plain": [
              "                   religion  <$10k  $10-20k  $20-30k  $30-40k  $40-50k  \\\n",
              "0                  Agnostic     27       34       60       81       76   \n",
              "1                   Atheist     12       27       37       52       35   \n",
              "2                  Buddhist     27       21       30       34       33   \n",
              "3                  Catholic    418      617      732      670      638   \n",
              "4        Don’t know/refused     15       14       15       11       10   \n",
              "5          Evangelical Prot    575      869     1064      982      881   \n",
              "6                     Hindu      1        9        7        9       11   \n",
              "7   Historically Black Prot    228      244      236      238      197   \n",
              "8         Jehovah's Witness     20       27       24       24       21   \n",
              "9                    Jewish     19       19       25       25       30   \n",
              "10            Mainline Prot    289      495      619      655      651   \n",
              "11                   Mormon     29       40       48       51       56   \n",
              "12                   Muslim      6        7        9       10        9   \n",
              "13                 Orthodox     13       17       23       32       32   \n",
              "14          Other Christian      9        7       11       13       13   \n",
              "15             Other Faiths     20       33       40       46       49   \n",
              "16    Other World Religions      5        2        3        4        2   \n",
              "17             Unaffiliated    217      299      374      365      341   \n",
              "\n",
              "    $50-75k  $75-100k  $100-150k  >150k  Don't know/refused  \n",
              "0       137       122        109     84                  96  \n",
              "1        70        73         59     74                  76  \n",
              "2        58        62         39     53                  54  \n",
              "3      1116       949        792    633                1489  \n",
              "4        35        21         17     18                 116  \n",
              "5      1486       949        723    414                1529  \n",
              "6        34        47         48     54                  37  \n",
              "7       223       131         81     78                 339  \n",
              "8        30        15         11      6                  37  \n",
              "9        95        69         87    151                 162  \n",
              "10     1107       939        753    634                1328  \n",
              "11      112        85         49     42                  69  \n",
              "12       23        16          8      6                  22  \n",
              "13       47        38         42     46                  73  \n",
              "14       14        18         14     12                  18  \n",
              "15       63        46         40     41                  71  \n",
              "16        7         3          4      4                   8  \n",
              "17      528       407        321    258                 597  "
            ],
            "text/html": [
              "\n",
              "  <div id=\"df-1353bba6-5f01-4c53-86be-174920c96ea8\">\n",
              "    <div class=\"colab-df-container\">\n",
              "      <div>\n",
              "<style scoped>\n",
              "    .dataframe tbody tr th:only-of-type {\n",
              "        vertical-align: middle;\n",
              "    }\n",
              "\n",
              "    .dataframe tbody tr th {\n",
              "        vertical-align: top;\n",
              "    }\n",
              "\n",
              "    .dataframe thead th {\n",
              "        text-align: right;\n",
              "    }\n",
              "</style>\n",
              "<table border=\"1\" class=\"dataframe\">\n",
              "  <thead>\n",
              "    <tr style=\"text-align: right;\">\n",
              "      <th></th>\n",
              "      <th>religion</th>\n",
              "      <th>&lt;$10k</th>\n",
              "      <th>$10-20k</th>\n",
              "      <th>$20-30k</th>\n",
              "      <th>$30-40k</th>\n",
              "      <th>$40-50k</th>\n",
              "      <th>$50-75k</th>\n",
              "      <th>$75-100k</th>\n",
              "      <th>$100-150k</th>\n",
              "      <th>&gt;150k</th>\n",
              "      <th>Don't know/refused</th>\n",
              "    </tr>\n",
              "  </thead>\n",
              "  <tbody>\n",
              "    <tr>\n",
              "      <th>0</th>\n",
              "      <td>Agnostic</td>\n",
              "      <td>27</td>\n",
              "      <td>34</td>\n",
              "      <td>60</td>\n",
              "      <td>81</td>\n",
              "      <td>76</td>\n",
              "      <td>137</td>\n",
              "      <td>122</td>\n",
              "      <td>109</td>\n",
              "      <td>84</td>\n",
              "      <td>96</td>\n",
              "    </tr>\n",
              "    <tr>\n",
              "      <th>1</th>\n",
              "      <td>Atheist</td>\n",
              "      <td>12</td>\n",
              "      <td>27</td>\n",
              "      <td>37</td>\n",
              "      <td>52</td>\n",
              "      <td>35</td>\n",
              "      <td>70</td>\n",
              "      <td>73</td>\n",
              "      <td>59</td>\n",
              "      <td>74</td>\n",
              "      <td>76</td>\n",
              "    </tr>\n",
              "    <tr>\n",
              "      <th>2</th>\n",
              "      <td>Buddhist</td>\n",
              "      <td>27</td>\n",
              "      <td>21</td>\n",
              "      <td>30</td>\n",
              "      <td>34</td>\n",
              "      <td>33</td>\n",
              "      <td>58</td>\n",
              "      <td>62</td>\n",
              "      <td>39</td>\n",
              "      <td>53</td>\n",
              "      <td>54</td>\n",
              "    </tr>\n",
              "    <tr>\n",
              "      <th>3</th>\n",
              "      <td>Catholic</td>\n",
              "      <td>418</td>\n",
              "      <td>617</td>\n",
              "      <td>732</td>\n",
              "      <td>670</td>\n",
              "      <td>638</td>\n",
              "      <td>1116</td>\n",
              "      <td>949</td>\n",
              "      <td>792</td>\n",
              "      <td>633</td>\n",
              "      <td>1489</td>\n",
              "    </tr>\n",
              "    <tr>\n",
              "      <th>4</th>\n",
              "      <td>Don’t know/refused</td>\n",
              "      <td>15</td>\n",
              "      <td>14</td>\n",
              "      <td>15</td>\n",
              "      <td>11</td>\n",
              "      <td>10</td>\n",
              "      <td>35</td>\n",
              "      <td>21</td>\n",
              "      <td>17</td>\n",
              "      <td>18</td>\n",
              "      <td>116</td>\n",
              "    </tr>\n",
              "    <tr>\n",
              "      <th>5</th>\n",
              "      <td>Evangelical Prot</td>\n",
              "      <td>575</td>\n",
              "      <td>869</td>\n",
              "      <td>1064</td>\n",
              "      <td>982</td>\n",
              "      <td>881</td>\n",
              "      <td>1486</td>\n",
              "      <td>949</td>\n",
              "      <td>723</td>\n",
              "      <td>414</td>\n",
              "      <td>1529</td>\n",
              "    </tr>\n",
              "    <tr>\n",
              "      <th>6</th>\n",
              "      <td>Hindu</td>\n",
              "      <td>1</td>\n",
              "      <td>9</td>\n",
              "      <td>7</td>\n",
              "      <td>9</td>\n",
              "      <td>11</td>\n",
              "      <td>34</td>\n",
              "      <td>47</td>\n",
              "      <td>48</td>\n",
              "      <td>54</td>\n",
              "      <td>37</td>\n",
              "    </tr>\n",
              "    <tr>\n",
              "      <th>7</th>\n",
              "      <td>Historically Black Prot</td>\n",
              "      <td>228</td>\n",
              "      <td>244</td>\n",
              "      <td>236</td>\n",
              "      <td>238</td>\n",
              "      <td>197</td>\n",
              "      <td>223</td>\n",
              "      <td>131</td>\n",
              "      <td>81</td>\n",
              "      <td>78</td>\n",
              "      <td>339</td>\n",
              "    </tr>\n",
              "    <tr>\n",
              "      <th>8</th>\n",
              "      <td>Jehovah's Witness</td>\n",
              "      <td>20</td>\n",
              "      <td>27</td>\n",
              "      <td>24</td>\n",
              "      <td>24</td>\n",
              "      <td>21</td>\n",
              "      <td>30</td>\n",
              "      <td>15</td>\n",
              "      <td>11</td>\n",
              "      <td>6</td>\n",
              "      <td>37</td>\n",
              "    </tr>\n",
              "    <tr>\n",
              "      <th>9</th>\n",
              "      <td>Jewish</td>\n",
              "      <td>19</td>\n",
              "      <td>19</td>\n",
              "      <td>25</td>\n",
              "      <td>25</td>\n",
              "      <td>30</td>\n",
              "      <td>95</td>\n",
              "      <td>69</td>\n",
              "      <td>87</td>\n",
              "      <td>151</td>\n",
              "      <td>162</td>\n",
              "    </tr>\n",
              "    <tr>\n",
              "      <th>10</th>\n",
              "      <td>Mainline Prot</td>\n",
              "      <td>289</td>\n",
              "      <td>495</td>\n",
              "      <td>619</td>\n",
              "      <td>655</td>\n",
              "      <td>651</td>\n",
              "      <td>1107</td>\n",
              "      <td>939</td>\n",
              "      <td>753</td>\n",
              "      <td>634</td>\n",
              "      <td>1328</td>\n",
              "    </tr>\n",
              "    <tr>\n",
              "      <th>11</th>\n",
              "      <td>Mormon</td>\n",
              "      <td>29</td>\n",
              "      <td>40</td>\n",
              "      <td>48</td>\n",
              "      <td>51</td>\n",
              "      <td>56</td>\n",
              "      <td>112</td>\n",
              "      <td>85</td>\n",
              "      <td>49</td>\n",
              "      <td>42</td>\n",
              "      <td>69</td>\n",
              "    </tr>\n",
              "    <tr>\n",
              "      <th>12</th>\n",
              "      <td>Muslim</td>\n",
              "      <td>6</td>\n",
              "      <td>7</td>\n",
              "      <td>9</td>\n",
              "      <td>10</td>\n",
              "      <td>9</td>\n",
              "      <td>23</td>\n",
              "      <td>16</td>\n",
              "      <td>8</td>\n",
              "      <td>6</td>\n",
              "      <td>22</td>\n",
              "    </tr>\n",
              "    <tr>\n",
              "      <th>13</th>\n",
              "      <td>Orthodox</td>\n",
              "      <td>13</td>\n",
              "      <td>17</td>\n",
              "      <td>23</td>\n",
              "      <td>32</td>\n",
              "      <td>32</td>\n",
              "      <td>47</td>\n",
              "      <td>38</td>\n",
              "      <td>42</td>\n",
              "      <td>46</td>\n",
              "      <td>73</td>\n",
              "    </tr>\n",
              "    <tr>\n",
              "      <th>14</th>\n",
              "      <td>Other Christian</td>\n",
              "      <td>9</td>\n",
              "      <td>7</td>\n",
              "      <td>11</td>\n",
              "      <td>13</td>\n",
              "      <td>13</td>\n",
              "      <td>14</td>\n",
              "      <td>18</td>\n",
              "      <td>14</td>\n",
              "      <td>12</td>\n",
              "      <td>18</td>\n",
              "    </tr>\n",
              "    <tr>\n",
              "      <th>15</th>\n",
              "      <td>Other Faiths</td>\n",
              "      <td>20</td>\n",
              "      <td>33</td>\n",
              "      <td>40</td>\n",
              "      <td>46</td>\n",
              "      <td>49</td>\n",
              "      <td>63</td>\n",
              "      <td>46</td>\n",
              "      <td>40</td>\n",
              "      <td>41</td>\n",
              "      <td>71</td>\n",
              "    </tr>\n",
              "    <tr>\n",
              "      <th>16</th>\n",
              "      <td>Other World Religions</td>\n",
              "      <td>5</td>\n",
              "      <td>2</td>\n",
              "      <td>3</td>\n",
              "      <td>4</td>\n",
              "      <td>2</td>\n",
              "      <td>7</td>\n",
              "      <td>3</td>\n",
              "      <td>4</td>\n",
              "      <td>4</td>\n",
              "      <td>8</td>\n",
              "    </tr>\n",
              "    <tr>\n",
              "      <th>17</th>\n",
              "      <td>Unaffiliated</td>\n",
              "      <td>217</td>\n",
              "      <td>299</td>\n",
              "      <td>374</td>\n",
              "      <td>365</td>\n",
              "      <td>341</td>\n",
              "      <td>528</td>\n",
              "      <td>407</td>\n",
              "      <td>321</td>\n",
              "      <td>258</td>\n",
              "      <td>597</td>\n",
              "    </tr>\n",
              "  </tbody>\n",
              "</table>\n",
              "</div>\n",
              "      <button class=\"colab-df-convert\" onclick=\"convertToInteractive('df-1353bba6-5f01-4c53-86be-174920c96ea8')\"\n",
              "              title=\"Convert this dataframe to an interactive table.\"\n",
              "              style=\"display:none;\">\n",
              "        \n",
              "  <svg xmlns=\"http://www.w3.org/2000/svg\" height=\"24px\"viewBox=\"0 0 24 24\"\n",
              "       width=\"24px\">\n",
              "    <path d=\"M0 0h24v24H0V0z\" fill=\"none\"/>\n",
              "    <path d=\"M18.56 5.44l.94 2.06.94-2.06 2.06-.94-2.06-.94-.94-2.06-.94 2.06-2.06.94zm-11 1L8.5 8.5l.94-2.06 2.06-.94-2.06-.94L8.5 2.5l-.94 2.06-2.06.94zm10 10l.94 2.06.94-2.06 2.06-.94-2.06-.94-.94-2.06-.94 2.06-2.06.94z\"/><path d=\"M17.41 7.96l-1.37-1.37c-.4-.4-.92-.59-1.43-.59-.52 0-1.04.2-1.43.59L10.3 9.45l-7.72 7.72c-.78.78-.78 2.05 0 2.83L4 21.41c.39.39.9.59 1.41.59.51 0 1.02-.2 1.41-.59l7.78-7.78 2.81-2.81c.8-.78.8-2.07 0-2.86zM5.41 20L4 18.59l7.72-7.72 1.47 1.35L5.41 20z\"/>\n",
              "  </svg>\n",
              "      </button>\n",
              "      \n",
              "  <style>\n",
              "    .colab-df-container {\n",
              "      display:flex;\n",
              "      flex-wrap:wrap;\n",
              "      gap: 12px;\n",
              "    }\n",
              "\n",
              "    .colab-df-convert {\n",
              "      background-color: #E8F0FE;\n",
              "      border: none;\n",
              "      border-radius: 50%;\n",
              "      cursor: pointer;\n",
              "      display: none;\n",
              "      fill: #1967D2;\n",
              "      height: 32px;\n",
              "      padding: 0 0 0 0;\n",
              "      width: 32px;\n",
              "    }\n",
              "\n",
              "    .colab-df-convert:hover {\n",
              "      background-color: #E2EBFA;\n",
              "      box-shadow: 0px 1px 2px rgba(60, 64, 67, 0.3), 0px 1px 3px 1px rgba(60, 64, 67, 0.15);\n",
              "      fill: #174EA6;\n",
              "    }\n",
              "\n",
              "    [theme=dark] .colab-df-convert {\n",
              "      background-color: #3B4455;\n",
              "      fill: #D2E3FC;\n",
              "    }\n",
              "\n",
              "    [theme=dark] .colab-df-convert:hover {\n",
              "      background-color: #434B5C;\n",
              "      box-shadow: 0px 1px 3px 1px rgba(0, 0, 0, 0.15);\n",
              "      filter: drop-shadow(0px 1px 2px rgba(0, 0, 0, 0.3));\n",
              "      fill: #FFFFFF;\n",
              "    }\n",
              "  </style>\n",
              "\n",
              "      <script>\n",
              "        const buttonEl =\n",
              "          document.querySelector('#df-1353bba6-5f01-4c53-86be-174920c96ea8 button.colab-df-convert');\n",
              "        buttonEl.style.display =\n",
              "          google.colab.kernel.accessAllowed ? 'block' : 'none';\n",
              "\n",
              "        async function convertToInteractive(key) {\n",
              "          const element = document.querySelector('#df-1353bba6-5f01-4c53-86be-174920c96ea8');\n",
              "          const dataTable =\n",
              "            await google.colab.kernel.invokeFunction('convertToInteractive',\n",
              "                                                     [key], {});\n",
              "          if (!dataTable) return;\n",
              "\n",
              "          const docLinkHtml = 'Like what you see? Visit the ' +\n",
              "            '<a target=\"_blank\" href=https://colab.research.google.com/notebooks/data_table.ipynb>data table notebook</a>'\n",
              "            + ' to learn more about interactive tables.';\n",
              "          element.innerHTML = '';\n",
              "          dataTable['output_type'] = 'display_data';\n",
              "          await google.colab.output.renderOutput(dataTable, element);\n",
              "          const docLink = document.createElement('div');\n",
              "          docLink.innerHTML = docLinkHtml;\n",
              "          element.appendChild(docLink);\n",
              "        }\n",
              "      </script>\n",
              "    </div>\n",
              "  </div>\n",
              "  "
            ]
          },
          "metadata": {},
          "execution_count": 2
        }
      ],
      "metadata": {
        "colab": {
          "base_uri": "https://localhost:8080/",
          "height": 613
        },
        "id": "taF-XzXyVU_L",
        "outputId": "54a490e9-10d1-416a-bfe6-c133f195c7b1"
      }
    },
    {
      "cell_type": "markdown",
      "source": [
        "This dataset is about the relationships between income and religion, assembled from a research by the Pew Research Center. You can read more details [here](https://github.com/tidyverse/tidyr/blob/master/vignettes/tidy-data.Rmd#column-headers-are-values-not-variable-names). Is this dataset tidy or not? Why?\n",
        "\n",
        "Yes, many of the columns are values, not variable names. How should we fix it? \n",
        "\n",
        "Pandas provides a convenient function called [melt](http://pandas.pydata.org/pandas-docs/stable/generated/pandas.melt.html). You specify the `id_vars` that are variable columns, and `value_vars` that are value columns, and provide the name for the variable as well as the name for the values. \n",
        "\n",
        "**Q: so please go ahead and tidy it up! I'd suggest to use the variable name \"income\" and value name \"frequency\"**"
      ],
      "metadata": {
        "id": "6TgEU_X0VU_N"
      }
    },
    {
      "cell_type": "code",
      "execution_count": 3,
      "source": [
        "# TODO: Replace the dummy value of pew_tidy_df and put your code here.\n",
        "\n",
        "pew_tidy_df = pd.melt(pew_df, id_vars=['religion'], \n",
        "                      value_vars=['<$10k', \n",
        "                                  '$10-20k', \n",
        "                                  '$20-30k', \n",
        "                                  '$30-40k', \n",
        "                                  '$40-50k',\n",
        "                                  '$50-75k', \n",
        "                                  '$75-100k', \n",
        "                                  '$100-150k', \n",
        "                                  '>150k',  \n",
        "                                  'Don\\'t know/refused'] ,\n",
        "                    var_name='income',\n",
        "                     value_name='frequency' )\n",
        "\n",
        "pew_tidy_df.sample(10)"
      ],
      "outputs": [
        {
          "output_type": "execute_result",
          "data": {
            "text/plain": [
              "                    religion              income  frequency\n",
              "173                   Mormon  Don't know/refused         69\n",
              "155                   Mormon               >150k         42\n",
              "69              Other Faiths             $30-40k         46\n",
              "79   Historically Black Prot             $40-50k        197\n",
              "90                  Agnostic             $50-75k        137\n",
              "48                    Muslim             $20-30k          9\n",
              "56                  Buddhist             $30-40k         34\n",
              "34     Other World Religions             $10-20k          2\n",
              "62         Jehovah's Witness             $30-40k         24\n",
              "103                 Orthodox             $50-75k         47"
            ],
            "text/html": [
              "\n",
              "  <div id=\"df-d6807e9a-a205-489d-801f-a533f3a09350\">\n",
              "    <div class=\"colab-df-container\">\n",
              "      <div>\n",
              "<style scoped>\n",
              "    .dataframe tbody tr th:only-of-type {\n",
              "        vertical-align: middle;\n",
              "    }\n",
              "\n",
              "    .dataframe tbody tr th {\n",
              "        vertical-align: top;\n",
              "    }\n",
              "\n",
              "    .dataframe thead th {\n",
              "        text-align: right;\n",
              "    }\n",
              "</style>\n",
              "<table border=\"1\" class=\"dataframe\">\n",
              "  <thead>\n",
              "    <tr style=\"text-align: right;\">\n",
              "      <th></th>\n",
              "      <th>religion</th>\n",
              "      <th>income</th>\n",
              "      <th>frequency</th>\n",
              "    </tr>\n",
              "  </thead>\n",
              "  <tbody>\n",
              "    <tr>\n",
              "      <th>173</th>\n",
              "      <td>Mormon</td>\n",
              "      <td>Don't know/refused</td>\n",
              "      <td>69</td>\n",
              "    </tr>\n",
              "    <tr>\n",
              "      <th>155</th>\n",
              "      <td>Mormon</td>\n",
              "      <td>&gt;150k</td>\n",
              "      <td>42</td>\n",
              "    </tr>\n",
              "    <tr>\n",
              "      <th>69</th>\n",
              "      <td>Other Faiths</td>\n",
              "      <td>$30-40k</td>\n",
              "      <td>46</td>\n",
              "    </tr>\n",
              "    <tr>\n",
              "      <th>79</th>\n",
              "      <td>Historically Black Prot</td>\n",
              "      <td>$40-50k</td>\n",
              "      <td>197</td>\n",
              "    </tr>\n",
              "    <tr>\n",
              "      <th>90</th>\n",
              "      <td>Agnostic</td>\n",
              "      <td>$50-75k</td>\n",
              "      <td>137</td>\n",
              "    </tr>\n",
              "    <tr>\n",
              "      <th>48</th>\n",
              "      <td>Muslim</td>\n",
              "      <td>$20-30k</td>\n",
              "      <td>9</td>\n",
              "    </tr>\n",
              "    <tr>\n",
              "      <th>56</th>\n",
              "      <td>Buddhist</td>\n",
              "      <td>$30-40k</td>\n",
              "      <td>34</td>\n",
              "    </tr>\n",
              "    <tr>\n",
              "      <th>34</th>\n",
              "      <td>Other World Religions</td>\n",
              "      <td>$10-20k</td>\n",
              "      <td>2</td>\n",
              "    </tr>\n",
              "    <tr>\n",
              "      <th>62</th>\n",
              "      <td>Jehovah's Witness</td>\n",
              "      <td>$30-40k</td>\n",
              "      <td>24</td>\n",
              "    </tr>\n",
              "    <tr>\n",
              "      <th>103</th>\n",
              "      <td>Orthodox</td>\n",
              "      <td>$50-75k</td>\n",
              "      <td>47</td>\n",
              "    </tr>\n",
              "  </tbody>\n",
              "</table>\n",
              "</div>\n",
              "      <button class=\"colab-df-convert\" onclick=\"convertToInteractive('df-d6807e9a-a205-489d-801f-a533f3a09350')\"\n",
              "              title=\"Convert this dataframe to an interactive table.\"\n",
              "              style=\"display:none;\">\n",
              "        \n",
              "  <svg xmlns=\"http://www.w3.org/2000/svg\" height=\"24px\"viewBox=\"0 0 24 24\"\n",
              "       width=\"24px\">\n",
              "    <path d=\"M0 0h24v24H0V0z\" fill=\"none\"/>\n",
              "    <path d=\"M18.56 5.44l.94 2.06.94-2.06 2.06-.94-2.06-.94-.94-2.06-.94 2.06-2.06.94zm-11 1L8.5 8.5l.94-2.06 2.06-.94-2.06-.94L8.5 2.5l-.94 2.06-2.06.94zm10 10l.94 2.06.94-2.06 2.06-.94-2.06-.94-.94-2.06-.94 2.06-2.06.94z\"/><path d=\"M17.41 7.96l-1.37-1.37c-.4-.4-.92-.59-1.43-.59-.52 0-1.04.2-1.43.59L10.3 9.45l-7.72 7.72c-.78.78-.78 2.05 0 2.83L4 21.41c.39.39.9.59 1.41.59.51 0 1.02-.2 1.41-.59l7.78-7.78 2.81-2.81c.8-.78.8-2.07 0-2.86zM5.41 20L4 18.59l7.72-7.72 1.47 1.35L5.41 20z\"/>\n",
              "  </svg>\n",
              "      </button>\n",
              "      \n",
              "  <style>\n",
              "    .colab-df-container {\n",
              "      display:flex;\n",
              "      flex-wrap:wrap;\n",
              "      gap: 12px;\n",
              "    }\n",
              "\n",
              "    .colab-df-convert {\n",
              "      background-color: #E8F0FE;\n",
              "      border: none;\n",
              "      border-radius: 50%;\n",
              "      cursor: pointer;\n",
              "      display: none;\n",
              "      fill: #1967D2;\n",
              "      height: 32px;\n",
              "      padding: 0 0 0 0;\n",
              "      width: 32px;\n",
              "    }\n",
              "\n",
              "    .colab-df-convert:hover {\n",
              "      background-color: #E2EBFA;\n",
              "      box-shadow: 0px 1px 2px rgba(60, 64, 67, 0.3), 0px 1px 3px 1px rgba(60, 64, 67, 0.15);\n",
              "      fill: #174EA6;\n",
              "    }\n",
              "\n",
              "    [theme=dark] .colab-df-convert {\n",
              "      background-color: #3B4455;\n",
              "      fill: #D2E3FC;\n",
              "    }\n",
              "\n",
              "    [theme=dark] .colab-df-convert:hover {\n",
              "      background-color: #434B5C;\n",
              "      box-shadow: 0px 1px 3px 1px rgba(0, 0, 0, 0.15);\n",
              "      filter: drop-shadow(0px 1px 2px rgba(0, 0, 0, 0.3));\n",
              "      fill: #FFFFFF;\n",
              "    }\n",
              "  </style>\n",
              "\n",
              "      <script>\n",
              "        const buttonEl =\n",
              "          document.querySelector('#df-d6807e9a-a205-489d-801f-a533f3a09350 button.colab-df-convert');\n",
              "        buttonEl.style.display =\n",
              "          google.colab.kernel.accessAllowed ? 'block' : 'none';\n",
              "\n",
              "        async function convertToInteractive(key) {\n",
              "          const element = document.querySelector('#df-d6807e9a-a205-489d-801f-a533f3a09350');\n",
              "          const dataTable =\n",
              "            await google.colab.kernel.invokeFunction('convertToInteractive',\n",
              "                                                     [key], {});\n",
              "          if (!dataTable) return;\n",
              "\n",
              "          const docLinkHtml = 'Like what you see? Visit the ' +\n",
              "            '<a target=\"_blank\" href=https://colab.research.google.com/notebooks/data_table.ipynb>data table notebook</a>'\n",
              "            + ' to learn more about interactive tables.';\n",
              "          element.innerHTML = '';\n",
              "          dataTable['output_type'] = 'display_data';\n",
              "          await google.colab.output.renderOutput(dataTable, element);\n",
              "          const docLink = document.createElement('div');\n",
              "          docLink.innerHTML = docLinkHtml;\n",
              "          element.appendChild(docLink);\n",
              "        }\n",
              "      </script>\n",
              "    </div>\n",
              "  </div>\n",
              "  "
            ]
          },
          "metadata": {},
          "execution_count": 3
        }
      ],
      "metadata": {
        "colab": {
          "base_uri": "https://localhost:8080/",
          "height": 363
        },
        "id": "Q6PNnMLSVU_P",
        "outputId": "f9608802-7d9c-4603-abd0-f812ea36e0a8"
      }
    },
    {
      "cell_type": "markdown",
      "source": [
        "If you were successful, you'll have something like this:"
      ],
      "metadata": {
        "id": "P8ofDRmGVU_Q"
      }
    },
    {
      "cell_type": "code",
      "execution_count": 4,
      "source": [
        "pew_tidy_df.sample(10)"
      ],
      "outputs": [
        {
          "output_type": "execute_result",
          "data": {
            "text/plain": [
              "               religion              income  frequency\n",
              "68      Other Christian             $30-40k         13\n",
              "23     Evangelical Prot             $10-20k        869\n",
              "152   Jehovah's Witness               >150k          6\n",
              "63               Jewish             $30-40k         25\n",
              "78                Hindu             $40-50k         11\n",
              "94   Don’t know/refused             $50-75k         35\n",
              "162            Agnostic  Don't know/refused         96\n",
              "60                Hindu             $30-40k          9\n",
              "121            Orthodox            $75-100k         38\n",
              "72             Agnostic             $40-50k         76"
            ],
            "text/html": [
              "\n",
              "  <div id=\"df-ad6bd006-94e7-4df2-9d94-ce6340b79f75\">\n",
              "    <div class=\"colab-df-container\">\n",
              "      <div>\n",
              "<style scoped>\n",
              "    .dataframe tbody tr th:only-of-type {\n",
              "        vertical-align: middle;\n",
              "    }\n",
              "\n",
              "    .dataframe tbody tr th {\n",
              "        vertical-align: top;\n",
              "    }\n",
              "\n",
              "    .dataframe thead th {\n",
              "        text-align: right;\n",
              "    }\n",
              "</style>\n",
              "<table border=\"1\" class=\"dataframe\">\n",
              "  <thead>\n",
              "    <tr style=\"text-align: right;\">\n",
              "      <th></th>\n",
              "      <th>religion</th>\n",
              "      <th>income</th>\n",
              "      <th>frequency</th>\n",
              "    </tr>\n",
              "  </thead>\n",
              "  <tbody>\n",
              "    <tr>\n",
              "      <th>68</th>\n",
              "      <td>Other Christian</td>\n",
              "      <td>$30-40k</td>\n",
              "      <td>13</td>\n",
              "    </tr>\n",
              "    <tr>\n",
              "      <th>23</th>\n",
              "      <td>Evangelical Prot</td>\n",
              "      <td>$10-20k</td>\n",
              "      <td>869</td>\n",
              "    </tr>\n",
              "    <tr>\n",
              "      <th>152</th>\n",
              "      <td>Jehovah's Witness</td>\n",
              "      <td>&gt;150k</td>\n",
              "      <td>6</td>\n",
              "    </tr>\n",
              "    <tr>\n",
              "      <th>63</th>\n",
              "      <td>Jewish</td>\n",
              "      <td>$30-40k</td>\n",
              "      <td>25</td>\n",
              "    </tr>\n",
              "    <tr>\n",
              "      <th>78</th>\n",
              "      <td>Hindu</td>\n",
              "      <td>$40-50k</td>\n",
              "      <td>11</td>\n",
              "    </tr>\n",
              "    <tr>\n",
              "      <th>94</th>\n",
              "      <td>Don’t know/refused</td>\n",
              "      <td>$50-75k</td>\n",
              "      <td>35</td>\n",
              "    </tr>\n",
              "    <tr>\n",
              "      <th>162</th>\n",
              "      <td>Agnostic</td>\n",
              "      <td>Don't know/refused</td>\n",
              "      <td>96</td>\n",
              "    </tr>\n",
              "    <tr>\n",
              "      <th>60</th>\n",
              "      <td>Hindu</td>\n",
              "      <td>$30-40k</td>\n",
              "      <td>9</td>\n",
              "    </tr>\n",
              "    <tr>\n",
              "      <th>121</th>\n",
              "      <td>Orthodox</td>\n",
              "      <td>$75-100k</td>\n",
              "      <td>38</td>\n",
              "    </tr>\n",
              "    <tr>\n",
              "      <th>72</th>\n",
              "      <td>Agnostic</td>\n",
              "      <td>$40-50k</td>\n",
              "      <td>76</td>\n",
              "    </tr>\n",
              "  </tbody>\n",
              "</table>\n",
              "</div>\n",
              "      <button class=\"colab-df-convert\" onclick=\"convertToInteractive('df-ad6bd006-94e7-4df2-9d94-ce6340b79f75')\"\n",
              "              title=\"Convert this dataframe to an interactive table.\"\n",
              "              style=\"display:none;\">\n",
              "        \n",
              "  <svg xmlns=\"http://www.w3.org/2000/svg\" height=\"24px\"viewBox=\"0 0 24 24\"\n",
              "       width=\"24px\">\n",
              "    <path d=\"M0 0h24v24H0V0z\" fill=\"none\"/>\n",
              "    <path d=\"M18.56 5.44l.94 2.06.94-2.06 2.06-.94-2.06-.94-.94-2.06-.94 2.06-2.06.94zm-11 1L8.5 8.5l.94-2.06 2.06-.94-2.06-.94L8.5 2.5l-.94 2.06-2.06.94zm10 10l.94 2.06.94-2.06 2.06-.94-2.06-.94-.94-2.06-.94 2.06-2.06.94z\"/><path d=\"M17.41 7.96l-1.37-1.37c-.4-.4-.92-.59-1.43-.59-.52 0-1.04.2-1.43.59L10.3 9.45l-7.72 7.72c-.78.78-.78 2.05 0 2.83L4 21.41c.39.39.9.59 1.41.59.51 0 1.02-.2 1.41-.59l7.78-7.78 2.81-2.81c.8-.78.8-2.07 0-2.86zM5.41 20L4 18.59l7.72-7.72 1.47 1.35L5.41 20z\"/>\n",
              "  </svg>\n",
              "      </button>\n",
              "      \n",
              "  <style>\n",
              "    .colab-df-container {\n",
              "      display:flex;\n",
              "      flex-wrap:wrap;\n",
              "      gap: 12px;\n",
              "    }\n",
              "\n",
              "    .colab-df-convert {\n",
              "      background-color: #E8F0FE;\n",
              "      border: none;\n",
              "      border-radius: 50%;\n",
              "      cursor: pointer;\n",
              "      display: none;\n",
              "      fill: #1967D2;\n",
              "      height: 32px;\n",
              "      padding: 0 0 0 0;\n",
              "      width: 32px;\n",
              "    }\n",
              "\n",
              "    .colab-df-convert:hover {\n",
              "      background-color: #E2EBFA;\n",
              "      box-shadow: 0px 1px 2px rgba(60, 64, 67, 0.3), 0px 1px 3px 1px rgba(60, 64, 67, 0.15);\n",
              "      fill: #174EA6;\n",
              "    }\n",
              "\n",
              "    [theme=dark] .colab-df-convert {\n",
              "      background-color: #3B4455;\n",
              "      fill: #D2E3FC;\n",
              "    }\n",
              "\n",
              "    [theme=dark] .colab-df-convert:hover {\n",
              "      background-color: #434B5C;\n",
              "      box-shadow: 0px 1px 3px 1px rgba(0, 0, 0, 0.15);\n",
              "      filter: drop-shadow(0px 1px 2px rgba(0, 0, 0, 0.3));\n",
              "      fill: #FFFFFF;\n",
              "    }\n",
              "  </style>\n",
              "\n",
              "      <script>\n",
              "        const buttonEl =\n",
              "          document.querySelector('#df-ad6bd006-94e7-4df2-9d94-ce6340b79f75 button.colab-df-convert');\n",
              "        buttonEl.style.display =\n",
              "          google.colab.kernel.accessAllowed ? 'block' : 'none';\n",
              "\n",
              "        async function convertToInteractive(key) {\n",
              "          const element = document.querySelector('#df-ad6bd006-94e7-4df2-9d94-ce6340b79f75');\n",
              "          const dataTable =\n",
              "            await google.colab.kernel.invokeFunction('convertToInteractive',\n",
              "                                                     [key], {});\n",
              "          if (!dataTable) return;\n",
              "\n",
              "          const docLinkHtml = 'Like what you see? Visit the ' +\n",
              "            '<a target=\"_blank\" href=https://colab.research.google.com/notebooks/data_table.ipynb>data table notebook</a>'\n",
              "            + ' to learn more about interactive tables.';\n",
              "          element.innerHTML = '';\n",
              "          dataTable['output_type'] = 'display_data';\n",
              "          await google.colab.output.renderOutput(dataTable, element);\n",
              "          const docLink = document.createElement('div');\n",
              "          docLink.innerHTML = docLinkHtml;\n",
              "          element.appendChild(docLink);\n",
              "        }\n",
              "      </script>\n",
              "    </div>\n",
              "  </div>\n",
              "  "
            ]
          },
          "metadata": {},
          "execution_count": 4
        }
      ],
      "metadata": {
        "colab": {
          "base_uri": "https://localhost:8080/",
          "height": 363
        },
        "id": "UaTSnLCyVU_Q",
        "outputId": "1dd853ee-31b8-4ed5-d024-65756563f56e"
      }
    },
    {
      "cell_type": "markdown",
      "source": [
        "## Data types\n",
        "\n",
        "Let's talk about data types briefly. Understanding data types is not only important for choosing the right visualizations, but also important for efficient computing and storage of data. You may not have thought about how pandas represent data in memory. A Pandas `Dataframe` is essentially a bunch of `Series`, and those `Series` are essentially `numpy` arrays. An array may contain a fixed-length items such as integers or variable length items such as strings. Putting some efforts to think about the correct data type can potentially save a lot of memory as well as time. \n",
        "\n",
        "A nice example would be the categorical data type. If you have a variable that only has several possible values, it's essentially a categorical data. Take a look at the `income` variable. "
      ],
      "metadata": {
        "id": "s-ezY9q8VU_R"
      }
    },
    {
      "cell_type": "code",
      "execution_count": 5,
      "source": [
        "pew_tidy_df.income.value_counts()"
      ],
      "outputs": [
        {
          "output_type": "execute_result",
          "data": {
            "text/plain": [
              "<$10k                 18\n",
              "$10-20k               18\n",
              "$20-30k               18\n",
              "$30-40k               18\n",
              "$40-50k               18\n",
              "$50-75k               18\n",
              "$75-100k              18\n",
              "$100-150k             18\n",
              ">150k                 18\n",
              "Don't know/refused    18\n",
              "Name: income, dtype: int64"
            ]
          },
          "metadata": {},
          "execution_count": 5
        }
      ],
      "metadata": {
        "colab": {
          "base_uri": "https://localhost:8080/"
        },
        "id": "G4I67LndVU_S",
        "outputId": "8a1e551d-5a57-49f5-c1df-7cd30db84059"
      }
    },
    {
      "cell_type": "markdown",
      "source": [
        "These were the column names in the original non-tidy data. The value can take only one of these income ranges and thus it is a categorical data. What is the data type that pandas use to store this column?"
      ],
      "metadata": {
        "id": "kjmPHZnHVU_S"
      }
    },
    {
      "cell_type": "code",
      "execution_count": 6,
      "source": [
        "pew_tidy_df.income.dtype"
      ],
      "outputs": [
        {
          "output_type": "execute_result",
          "data": {
            "text/plain": [
              "dtype('O')"
            ]
          },
          "metadata": {},
          "execution_count": 6
        }
      ],
      "metadata": {
        "colab": {
          "base_uri": "https://localhost:8080/"
        },
        "id": "1r1Avmv_VU_T",
        "outputId": "ec54a65e-8c04-4f06-9df3-b774984f230e"
      }
    },
    {
      "cell_type": "markdown",
      "source": [
        "The `O` means that it is an object data type, which does not have a fixed size like integer or float. The series contains a sort of pointer to the actual text objects. You can actually inspect the amount of memory used by the dataset. "
      ],
      "metadata": {
        "id": "fF_yA48lVU_T"
      }
    },
    {
      "cell_type": "code",
      "execution_count": 7,
      "source": [
        "pew_tidy_df.memory_usage()"
      ],
      "outputs": [
        {
          "output_type": "execute_result",
          "data": {
            "text/plain": [
              "Index         128\n",
              "religion     1440\n",
              "income       1440\n",
              "frequency    1440\n",
              "dtype: int64"
            ]
          },
          "metadata": {},
          "execution_count": 7
        }
      ],
      "metadata": {
        "colab": {
          "base_uri": "https://localhost:8080/"
        },
        "id": "E75ibiOlVU_U",
        "outputId": "395fbaf1-7163-48db-9f76-c1b5601a8eec"
      }
    },
    {
      "cell_type": "code",
      "execution_count": 8,
      "source": [
        "pew_tidy_df.memory_usage(deep=True)"
      ],
      "outputs": [
        {
          "output_type": "execute_result",
          "data": {
            "text/plain": [
              "Index          128\n",
              "religion     12780\n",
              "income       11700\n",
              "frequency     1440\n",
              "dtype: int64"
            ]
          },
          "metadata": {},
          "execution_count": 8
        }
      ],
      "metadata": {
        "colab": {
          "base_uri": "https://localhost:8080/"
        },
        "id": "jZjGbhp_VU_U",
        "outputId": "d6c859bb-7627-4c3d-f242-3e3f3b330105"
      }
    },
    {
      "cell_type": "markdown",
      "source": [
        "What's going on with the `deep=True` option? When you don't specify `deep=True`, the memory usage method just tells you the amount of memory used by the numpy arrays in the pandas dataframe. When you pass `deep=True`, it tells you the total amount of memory by including the memory used by all the text objects. So, the `religion` and `income` columns occupies almost ten times of memory than the `frequency` column, which is simply an array of integers. "
      ],
      "metadata": {
        "id": "ryTGZqDbVU_U"
      }
    },
    {
      "cell_type": "code",
      "execution_count": 9,
      "source": [
        "pew_tidy_df.frequency.dtype"
      ],
      "outputs": [
        {
          "output_type": "execute_result",
          "data": {
            "text/plain": [
              "dtype('int64')"
            ]
          },
          "metadata": {},
          "execution_count": 9
        }
      ],
      "metadata": {
        "colab": {
          "base_uri": "https://localhost:8080/"
        },
        "id": "T5pF9u_xVU_V",
        "outputId": "fd9b3c13-59dd-4181-b18f-8032af2f393b"
      }
    },
    {
      "cell_type": "markdown",
      "source": [
        "Is there any way to save up the memory? Note that there are only 10 categories in the income variable. That means we just need 10 numbers to represent the categories! Of course we need to store the names of each category, but that's just one-time cost. The simplest way to convert a column is using `astype` method. "
      ],
      "metadata": {
        "id": "FiK-zH1qVU_V"
      }
    },
    {
      "cell_type": "code",
      "execution_count": 10,
      "source": [
        "income_categorical_series = pew_tidy_df.income.astype('category')\n",
        "# you can do pew_tidy_df.income = pew_tidy_df.income.astype('category')\n"
      ],
      "outputs": [],
      "metadata": {
        "id": "vl9rHPu_VU_V"
      }
    },
    {
      "cell_type": "code",
      "source": [
        "pew_tidy_df.dtypes"
      ],
      "metadata": {
        "colab": {
          "base_uri": "https://localhost:8080/"
        },
        "id": "CDXyvGOXFNz8",
        "outputId": "6f10f5b5-b11b-4df4-af05-ba7a59e98398"
      },
      "execution_count": 11,
      "outputs": [
        {
          "output_type": "execute_result",
          "data": {
            "text/plain": [
              "religion     object\n",
              "income       object\n",
              "frequency     int64\n",
              "dtype: object"
            ]
          },
          "metadata": {},
          "execution_count": 11
        }
      ]
    },
    {
      "cell_type": "markdown",
      "source": [
        "Now, this series has the `CategoricalDtype` dtype. "
      ],
      "metadata": {
        "id": "USz9u_apVU_V"
      }
    },
    {
      "cell_type": "code",
      "execution_count": 12,
      "source": [
        "income_categorical_series.dtype"
      ],
      "outputs": [
        {
          "output_type": "execute_result",
          "data": {
            "text/plain": [
              "CategoricalDtype(categories=['$10-20k', '$100-150k', '$20-30k', '$30-40k', '$40-50k',\n",
              "                  '$50-75k', '$75-100k', '<$10k', '>150k',\n",
              "                  'Don't know/refused'],\n",
              ", ordered=False)"
            ]
          },
          "metadata": {},
          "execution_count": 12
        }
      ],
      "metadata": {
        "colab": {
          "base_uri": "https://localhost:8080/"
        },
        "id": "EReX8KJYVU_W",
        "outputId": "a6f1ad61-18ff-4afe-b8af-641a554d2e11"
      }
    },
    {
      "cell_type": "markdown",
      "source": [
        "How much memory do we use?"
      ],
      "metadata": {
        "id": "cXmgUYsYVU_W"
      }
    },
    {
      "cell_type": "code",
      "execution_count": 13,
      "source": [
        "income_categorical_series.memory_usage(deep=True)"
      ],
      "outputs": [
        {
          "output_type": "execute_result",
          "data": {
            "text/plain": [
              "1258"
            ]
          },
          "metadata": {},
          "execution_count": 13
        }
      ],
      "metadata": {
        "colab": {
          "base_uri": "https://localhost:8080/"
        },
        "id": "8pp6bknuVU_W",
        "outputId": "3b1a29f2-e001-4de5-d944-89972f47c612"
      }
    },
    {
      "cell_type": "code",
      "execution_count": 14,
      "source": [
        "pew_tidy_df.income.memory_usage(deep=True)"
      ],
      "outputs": [
        {
          "output_type": "execute_result",
          "data": {
            "text/plain": [
              "11828"
            ]
          },
          "metadata": {},
          "execution_count": 14
        }
      ],
      "metadata": {
        "colab": {
          "base_uri": "https://localhost:8080/"
        },
        "id": "8qCuqAKXVU_W",
        "outputId": "73d133e6-a6ef-4f99-8c5f-b9565f801591"
      }
    },
    {
      "cell_type": "markdown",
      "source": [
        "We have reduced the memory usage by almost 10 fold! Not only that, because now the values are just numbers, it will be much faster to match, filter, manipulate. If your dataset is huge, this can save up a lot of space and time. \n",
        "\n",
        "If the categories have ordering, you can specify the ordering too. "
      ],
      "metadata": {
        "id": "R-EHxho1VU_X"
      }
    },
    {
      "cell_type": "code",
      "execution_count": 15,
      "source": [
        "from pandas.api.types import CategoricalDtype\n",
        "income_type = CategoricalDtype(categories=[\"Don't know/refused\", '<$10k', '$10-20k', '$20-30k', '$30-40k', \n",
        "                                           '$40-50k', '$50-75k', '$75-100k', '$100-150k', '>150k'], ordered=True)\n",
        "income_type"
      ],
      "outputs": [
        {
          "output_type": "execute_result",
          "data": {
            "text/plain": [
              "CategoricalDtype(categories=['Don't know/refused', '<$10k', '$10-20k', '$20-30k',\n",
              "                  '$30-40k', '$40-50k', '$50-75k', '$75-100k', '$100-150k',\n",
              "                  '>150k'],\n",
              ", ordered=True)"
            ]
          },
          "metadata": {},
          "execution_count": 15
        }
      ],
      "metadata": {
        "colab": {
          "base_uri": "https://localhost:8080/"
        },
        "id": "9G0MQ0NiVU_X",
        "outputId": "7aef5e8e-1e73-45a3-d394-c2f994280d93"
      }
    },
    {
      "cell_type": "code",
      "execution_count": 16,
      "source": [
        "pew_tidy_df.income.astype(income_type).dtype"
      ],
      "outputs": [
        {
          "output_type": "execute_result",
          "data": {
            "text/plain": [
              "CategoricalDtype(categories=['Don't know/refused', '<$10k', '$10-20k', '$20-30k',\n",
              "                  '$30-40k', '$40-50k', '$50-75k', '$75-100k', '$100-150k',\n",
              "                  '>150k'],\n",
              ", ordered=True)"
            ]
          },
          "metadata": {},
          "execution_count": 16
        }
      ],
      "metadata": {
        "colab": {
          "base_uri": "https://localhost:8080/"
        },
        "id": "Q0FBaqylVU_X",
        "outputId": "de86f54f-688e-4a5f-e62a-8acc0b6f403b"
      }
    },
    {
      "cell_type": "code",
      "source": [
        "pew_tidy_df.dtypes"
      ],
      "metadata": {
        "colab": {
          "base_uri": "https://localhost:8080/"
        },
        "id": "UlaI9AKIFgs9",
        "outputId": "cf3e3e2b-9699-4b19-9509-9085cf1e07f5"
      },
      "execution_count": 17,
      "outputs": [
        {
          "output_type": "execute_result",
          "data": {
            "text/plain": [
              "religion     object\n",
              "income       object\n",
              "frequency     int64\n",
              "dtype: object"
            ]
          },
          "metadata": {},
          "execution_count": 17
        }
      ]
    },
    {
      "cell_type": "markdown",
      "source": [
        "This data type now allows you to compare and sort based on the ordering. \n",
        "\n",
        "**Q: ok, now convert both religion and income columns of `pew_tidy_df` as categorical dtype (in place) and show that `pew_tidy_df` now uses much less memory**"
      ],
      "metadata": {
        "id": "2OFNBeTiVU_X"
      }
    },
    {
      "cell_type": "code",
      "source": [
        "pew_tidy_df.religion.value_counts()"
      ],
      "metadata": {
        "colab": {
          "base_uri": "https://localhost:8080/"
        },
        "id": "BUAE_B6VnwgA",
        "outputId": "d129033c-2066-4c2b-f075-75d5bdc3b293"
      },
      "execution_count": 18,
      "outputs": [
        {
          "output_type": "execute_result",
          "data": {
            "text/plain": [
              "Agnostic                   10\n",
              "Atheist                    10\n",
              "Other World Religions      10\n",
              "Other Faiths               10\n",
              "Other Christian            10\n",
              "Orthodox                   10\n",
              "Muslim                     10\n",
              "Mormon                     10\n",
              "Mainline Prot              10\n",
              "Jewish                     10\n",
              "Jehovah's Witness          10\n",
              "Historically Black Prot    10\n",
              "Hindu                      10\n",
              "Evangelical Prot           10\n",
              "Don’t know/refused         10\n",
              "Catholic                   10\n",
              "Buddhist                   10\n",
              "Unaffiliated               10\n",
              "Name: religion, dtype: int64"
            ]
          },
          "metadata": {},
          "execution_count": 18
        }
      ]
    },
    {
      "cell_type": "code",
      "source": [
        "from pandas.api.types import CategoricalDtype\n",
        "religion_type = CategoricalDtype(categories=['Agnostic',                   \n",
        "                                              'Atheist',                    \n",
        "                                              'Other World Religions',      \n",
        "                                              'Other Faiths',               \n",
        "                                              'Other Christian',            \n",
        "                                              'Orthodox',                   \n",
        "                                              'Muslim',                     \n",
        "                                              'Mormon',                     \n",
        "                                              'Mainline Prot',              \n",
        "                                              'Jewish',                     \n",
        "                                              \"Jehovah's Witness\",          \n",
        "                                              'Historically Black Prot',    \n",
        "                                              'Hindu',                      \n",
        "                                              'Evangelical Prot',           \n",
        "                                              'Don’t know/refused',         \n",
        "                                              'Catholic',                   \n",
        "                                              'Buddhist',                   \n",
        "                                              'Unaffiliated'               \n",
        "                                              ], \n",
        "                                 ordered=True)\n",
        "religion_type"
      ],
      "metadata": {
        "colab": {
          "base_uri": "https://localhost:8080/"
        },
        "id": "rG_wA5Iooa1o",
        "outputId": "00360f67-1f81-4a6c-c64f-eaedc1f4cb7f"
      },
      "execution_count": 19,
      "outputs": [
        {
          "output_type": "execute_result",
          "data": {
            "text/plain": [
              "CategoricalDtype(categories=['Agnostic', 'Atheist', 'Other World Religions',\n",
              "                  'Other Faiths', 'Other Christian', 'Orthodox', 'Muslim',\n",
              "                  'Mormon', 'Mainline Prot', 'Jewish', 'Jehovah's Witness',\n",
              "                  'Historically Black Prot', 'Hindu', 'Evangelical Prot',\n",
              "                  'Don’t know/refused', 'Catholic', 'Buddhist',\n",
              "                  'Unaffiliated'],\n",
              ", ordered=True)"
            ]
          },
          "metadata": {},
          "execution_count": 19
        }
      ]
    },
    {
      "cell_type": "code",
      "source": [
        "# pew_tidy_df.income = pew_tidy_df.income.astype(income_type)\n",
        "# pew_tidy_df.religion = pew_tidy_df.religion.astype(religion_type)\n",
        "\n",
        "pew_tidy_df['income'] = pew_tidy_df.income.astype('category')\n",
        "pew_tidy_df['religion'] = pew_tidy_df.religion.astype('category')\n",
        "print(pew_tidy_df.income.dtype )\n",
        "print(pew_tidy_df.religion.dtype )"
      ],
      "metadata": {
        "colab": {
          "base_uri": "https://localhost:8080/"
        },
        "id": "0-Uf7CFdpld4",
        "outputId": "cd067d25-9b78-413a-e0a4-ecae74bb2d31"
      },
      "execution_count": 20,
      "outputs": [
        {
          "output_type": "stream",
          "name": "stdout",
          "text": [
            "category\n",
            "category\n"
          ]
        }
      ]
    },
    {
      "cell_type": "code",
      "source": [
        "print(pew_tidy_df.income.value_counts())\n",
        "print(pew_tidy_df.religion.value_counts())\n",
        "pew_tidy_df.dtypes"
      ],
      "metadata": {
        "colab": {
          "base_uri": "https://localhost:8080/"
        },
        "id": "SJ9ZuD4sqr-W",
        "outputId": "1685d63d-39ef-4327-e328-e8466319a5f1"
      },
      "execution_count": 21,
      "outputs": [
        {
          "output_type": "stream",
          "name": "stdout",
          "text": [
            "$10-20k               18\n",
            "$100-150k             18\n",
            "$20-30k               18\n",
            "$30-40k               18\n",
            "$40-50k               18\n",
            "$50-75k               18\n",
            "$75-100k              18\n",
            "<$10k                 18\n",
            ">150k                 18\n",
            "Don't know/refused    18\n",
            "Name: income, dtype: int64\n",
            "Agnostic                   10\n",
            "Atheist                    10\n",
            "Other World Religions      10\n",
            "Other Faiths               10\n",
            "Other Christian            10\n",
            "Orthodox                   10\n",
            "Muslim                     10\n",
            "Mormon                     10\n",
            "Mainline Prot              10\n",
            "Jewish                     10\n",
            "Jehovah's Witness          10\n",
            "Historically Black Prot    10\n",
            "Hindu                      10\n",
            "Evangelical Prot           10\n",
            "Don’t know/refused         10\n",
            "Catholic                   10\n",
            "Buddhist                   10\n",
            "Unaffiliated               10\n",
            "Name: religion, dtype: int64\n"
          ]
        },
        {
          "output_type": "execute_result",
          "data": {
            "text/plain": [
              "religion     category\n",
              "income       category\n",
              "frequency       int64\n",
              "dtype: object"
            ]
          },
          "metadata": {},
          "execution_count": 21
        }
      ]
    },
    {
      "cell_type": "code",
      "source": [
        "pew_tidy_df.memory_usage(deep= True)"
      ],
      "metadata": {
        "colab": {
          "base_uri": "https://localhost:8080/"
        },
        "id": "JWDdhXvQpt9-",
        "outputId": "00c96e1b-be29-4da9-da2e-411dcf642f21"
      },
      "execution_count": 22,
      "outputs": [
        {
          "output_type": "execute_result",
          "data": {
            "text/plain": [
              "Index         128\n",
              "religion     2035\n",
              "income       1130\n",
              "frequency    1440\n",
              "dtype: int64"
            ]
          },
          "metadata": {},
          "execution_count": 22
        }
      ]
    },
    {
      "cell_type": "code",
      "execution_count": 21,
      "source": [
        "# TODO: put your code here\n",
        "pew_tidy_df.memory_usage(deep= True)"
      ],
      "outputs": [
        {
          "output_type": "execute_result",
          "data": {
            "text/plain": [
              "Index         128\n",
              "religion     2014\n",
              "income       1130\n",
              "frequency    1440\n",
              "dtype: int64"
            ]
          },
          "metadata": {},
          "execution_count": 21
        }
      ],
      "metadata": {
        "colab": {
          "base_uri": "https://localhost:8080/"
        },
        "id": "gAsvpcPAVU_X",
        "outputId": "bb4789f3-48ab-402f-bf5b-3bcdc534b2c1"
      }
    },
    {
      "cell_type": "markdown",
      "source": [
        "# Conclusion\n",
        "\n",
        "**Old values of memory usage:** <br>\n",
        "Index          128 <br>\n",
        "religion     12780 <br>\n",
        "income       11700 <br>\n",
        "frequency     1440 <br>\n",
        "dtype: int64 <br>\n",
        "\n",
        "\n",
        "**New values of memory usage after converting the income and religion to categorical columns:** <br>\n",
        "\n",
        "Index         128 <br>\n",
        "religion     2014 <br>\n",
        "income       1130 <br>\n",
        "frequency    1440 <br>\n",
        "dtype: int64\n",
        "\n",
        "We can conclude that by converting the columns to categorical, we can reduce the memory usage to considerable amount with just 1 step."
      ],
      "metadata": {
        "id": "X2HtBbYgGJXk"
      }
    },
    {
      "cell_type": "markdown",
      "source": [
        "## If you want to know more\n",
        "\n",
        "- [Jean-Nicholas Hould: Tidy Data in Python](http://www.jeannicholashould.com/tidy-data-in-python.html)\n",
        "- [Stephen Simmons | Pandas from the Inside](https://www.youtube.com/watch?v=CowlcrtSyME)\n",
        "- [Data school: How do I make my pandas DataFrame smaller and faster?](https://www.youtube.com/watch?v=wDYDYGyN_cw)"
      ],
      "metadata": {
        "id": "J-o8YTXoVU_Y"
      }
    },
    {
      "cell_type": "markdown",
      "source": [
        "## Convert the notebook to HTML"
      ],
      "metadata": {
        "id": "itHQW3qsp647"
      }
    },
    {
      "cell_type": "code",
      "source": [
        "%%shell\n",
        "jupyter nbconvert --to html /content/m06_lab_Ganapathy_Anitha.ipynb"
      ],
      "metadata": {
        "colab": {
          "base_uri": "https://localhost:8080/"
        },
        "id": "s-YYT9DUpyvF",
        "outputId": "278c0422-00a4-4fc8-f682-e8343cddd94c"
      },
      "execution_count": 26,
      "outputs": [
        {
          "output_type": "stream",
          "name": "stdout",
          "text": [
            "[NbConvertApp] Converting notebook /content/m06_lab_Ganapathy_Anitha.ipynb to html\n",
            "[NbConvertApp] Writing 325684 bytes to /content/m06_lab_Ganapathy_Anitha.html\n"
          ]
        },
        {
          "output_type": "execute_result",
          "data": {
            "text/plain": [
              ""
            ]
          },
          "metadata": {},
          "execution_count": 26
        }
      ]
    }
  ],
  "metadata": {
    "anaconda-cloud": {},
    "kernel_info": {
      "name": "dviz"
    },
    "kernelspec": {
      "display_name": "dviz",
      "language": "python",
      "name": "dviz"
    },
    "language_info": {
      "codemirror_mode": {
        "name": "ipython",
        "version": 3
      },
      "file_extension": ".py",
      "mimetype": "text/x-python",
      "name": "python",
      "nbconvert_exporter": "python",
      "pygments_lexer": "ipython3",
      "version": "3.7.7"
    },
    "nteract": {
      "version": "0.15.0"
    },
    "colab": {
      "name": "m06_lab_Ganapathy_Anitha.ipynb",
      "provenance": [],
      "collapsed_sections": []
    }
  },
  "nbformat": 4,
  "nbformat_minor": 0
}